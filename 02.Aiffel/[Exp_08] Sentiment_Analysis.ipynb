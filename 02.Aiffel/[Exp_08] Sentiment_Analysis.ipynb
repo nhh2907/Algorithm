{
 "cells": [
  {
   "cell_type": "markdown",
   "id": "91cb32c4",
   "metadata": {},
   "source": [
    "# 네이버 영화리뷰 감성분석"
   ]
  },
  {
   "cell_type": "code",
   "execution_count": 1,
   "id": "6e3a4bcf",
   "metadata": {},
   "outputs": [],
   "source": [
    "import konlpy\n",
    "import gensim\n",
    "import pandas as pd\n",
    "import numpy as np\n",
    "import tensorflow as tf\n",
    "import matplotlib.pyplot as plt\n",
    "import os\n",
    "from gensim.models.keyedvectors import Word2VecKeyedVectors"
   ]
  },
  {
   "cell_type": "markdown",
   "id": "efac95bd",
   "metadata": {},
   "source": [
    "# STEP 1. 데이터 준비"
   ]
  },
  {
   "cell_type": "code",
   "execution_count": 2,
   "id": "5074d692",
   "metadata": {},
   "outputs": [
    {
     "data": {
      "text/html": [
       "<div>\n",
       "<style scoped>\n",
       "    .dataframe tbody tr th:only-of-type {\n",
       "        vertical-align: middle;\n",
       "    }\n",
       "\n",
       "    .dataframe tbody tr th {\n",
       "        vertical-align: top;\n",
       "    }\n",
       "\n",
       "    .dataframe thead th {\n",
       "        text-align: right;\n",
       "    }\n",
       "</style>\n",
       "<table border=\"1\" class=\"dataframe\">\n",
       "  <thead>\n",
       "    <tr style=\"text-align: right;\">\n",
       "      <th></th>\n",
       "      <th>id</th>\n",
       "      <th>document</th>\n",
       "      <th>label</th>\n",
       "    </tr>\n",
       "  </thead>\n",
       "  <tbody>\n",
       "    <tr>\n",
       "      <th>0</th>\n",
       "      <td>9976970</td>\n",
       "      <td>아 더빙.. 진짜 짜증나네요 목소리</td>\n",
       "      <td>0</td>\n",
       "    </tr>\n",
       "    <tr>\n",
       "      <th>1</th>\n",
       "      <td>3819312</td>\n",
       "      <td>흠...포스터보고 초딩영화줄....오버연기조차 가볍지 않구나</td>\n",
       "      <td>1</td>\n",
       "    </tr>\n",
       "    <tr>\n",
       "      <th>2</th>\n",
       "      <td>10265843</td>\n",
       "      <td>너무재밓었다그래서보는것을추천한다</td>\n",
       "      <td>0</td>\n",
       "    </tr>\n",
       "    <tr>\n",
       "      <th>3</th>\n",
       "      <td>9045019</td>\n",
       "      <td>교도소 이야기구먼 ..솔직히 재미는 없다..평점 조정</td>\n",
       "      <td>0</td>\n",
       "    </tr>\n",
       "    <tr>\n",
       "      <th>4</th>\n",
       "      <td>6483659</td>\n",
       "      <td>사이몬페그의 익살스런 연기가 돋보였던 영화!스파이더맨에서 늙어보이기만 했던 커스틴 ...</td>\n",
       "      <td>1</td>\n",
       "    </tr>\n",
       "    <tr>\n",
       "      <th>...</th>\n",
       "      <td>...</td>\n",
       "      <td>...</td>\n",
       "      <td>...</td>\n",
       "    </tr>\n",
       "    <tr>\n",
       "      <th>149995</th>\n",
       "      <td>6222902</td>\n",
       "      <td>인간이 문제지.. 소는 뭔죄인가..</td>\n",
       "      <td>0</td>\n",
       "    </tr>\n",
       "    <tr>\n",
       "      <th>149996</th>\n",
       "      <td>8549745</td>\n",
       "      <td>평점이 너무 낮아서...</td>\n",
       "      <td>1</td>\n",
       "    </tr>\n",
       "    <tr>\n",
       "      <th>149997</th>\n",
       "      <td>9311800</td>\n",
       "      <td>이게 뭐요? 한국인은 거들먹거리고 필리핀 혼혈은 착하다?</td>\n",
       "      <td>0</td>\n",
       "    </tr>\n",
       "    <tr>\n",
       "      <th>149998</th>\n",
       "      <td>2376369</td>\n",
       "      <td>청춘 영화의 최고봉.방황과 우울했던 날들의 자화상</td>\n",
       "      <td>1</td>\n",
       "    </tr>\n",
       "    <tr>\n",
       "      <th>149999</th>\n",
       "      <td>9619869</td>\n",
       "      <td>한국 영화 최초로 수간하는 내용이 담긴 영화</td>\n",
       "      <td>0</td>\n",
       "    </tr>\n",
       "  </tbody>\n",
       "</table>\n",
       "<p>150000 rows × 3 columns</p>\n",
       "</div>"
      ],
      "text/plain": [
       "              id                                           document  label\n",
       "0        9976970                                아 더빙.. 진짜 짜증나네요 목소리      0\n",
       "1        3819312                  흠...포스터보고 초딩영화줄....오버연기조차 가볍지 않구나      1\n",
       "2       10265843                                  너무재밓었다그래서보는것을추천한다      0\n",
       "3        9045019                      교도소 이야기구먼 ..솔직히 재미는 없다..평점 조정      0\n",
       "4        6483659  사이몬페그의 익살스런 연기가 돋보였던 영화!스파이더맨에서 늙어보이기만 했던 커스틴 ...      1\n",
       "...          ...                                                ...    ...\n",
       "149995   6222902                                인간이 문제지.. 소는 뭔죄인가..      0\n",
       "149996   8549745                                      평점이 너무 낮아서...      1\n",
       "149997   9311800                    이게 뭐요? 한국인은 거들먹거리고 필리핀 혼혈은 착하다?      0\n",
       "149998   2376369                        청춘 영화의 최고봉.방황과 우울했던 날들의 자화상      1\n",
       "149999   9619869                           한국 영화 최초로 수간하는 내용이 담긴 영화      0\n",
       "\n",
       "[150000 rows x 3 columns]"
      ]
     },
     "execution_count": 2,
     "metadata": {},
     "output_type": "execute_result"
    }
   ],
   "source": [
    "# 데이터를 읽어봅시다. \n",
    "train_data = pd.read_table('~/aiffel/sentiment_classification/data/ratings_train.txt')\n",
    "test_data = pd.read_table('~/aiffel/sentiment_classification/data/ratings_test.txt')\n",
    "\n",
    "train_data"
   ]
  },
  {
   "cell_type": "code",
   "execution_count": 3,
   "id": "4239c5b3",
   "metadata": {},
   "outputs": [
    {
     "data": {
      "text/html": [
       "<div>\n",
       "<style scoped>\n",
       "    .dataframe tbody tr th:only-of-type {\n",
       "        vertical-align: middle;\n",
       "    }\n",
       "\n",
       "    .dataframe tbody tr th {\n",
       "        vertical-align: top;\n",
       "    }\n",
       "\n",
       "    .dataframe thead th {\n",
       "        text-align: right;\n",
       "    }\n",
       "</style>\n",
       "<table border=\"1\" class=\"dataframe\">\n",
       "  <thead>\n",
       "    <tr style=\"text-align: right;\">\n",
       "      <th></th>\n",
       "      <th>id</th>\n",
       "      <th>document</th>\n",
       "      <th>label</th>\n",
       "    </tr>\n",
       "  </thead>\n",
       "  <tbody>\n",
       "    <tr>\n",
       "      <th>0</th>\n",
       "      <td>6270596</td>\n",
       "      <td>굳 ㅋ</td>\n",
       "      <td>1</td>\n",
       "    </tr>\n",
       "    <tr>\n",
       "      <th>1</th>\n",
       "      <td>9274899</td>\n",
       "      <td>GDNTOPCLASSINTHECLUB</td>\n",
       "      <td>0</td>\n",
       "    </tr>\n",
       "    <tr>\n",
       "      <th>2</th>\n",
       "      <td>8544678</td>\n",
       "      <td>뭐야 이 평점들은.... 나쁘진 않지만 10점 짜리는 더더욱 아니잖아</td>\n",
       "      <td>0</td>\n",
       "    </tr>\n",
       "    <tr>\n",
       "      <th>3</th>\n",
       "      <td>6825595</td>\n",
       "      <td>지루하지는 않은데 완전 막장임... 돈주고 보기에는....</td>\n",
       "      <td>0</td>\n",
       "    </tr>\n",
       "    <tr>\n",
       "      <th>4</th>\n",
       "      <td>6723715</td>\n",
       "      <td>3D만 아니었어도 별 다섯 개 줬을텐데.. 왜 3D로 나와서 제 심기를 불편하게 하죠??</td>\n",
       "      <td>0</td>\n",
       "    </tr>\n",
       "    <tr>\n",
       "      <th>...</th>\n",
       "      <td>...</td>\n",
       "      <td>...</td>\n",
       "      <td>...</td>\n",
       "    </tr>\n",
       "    <tr>\n",
       "      <th>49995</th>\n",
       "      <td>4608761</td>\n",
       "      <td>오랜만에 평점 로긴했네ㅋㅋ 킹왕짱 쌈뽕한 영화를 만났습니다 강렬하게 육쾌함</td>\n",
       "      <td>1</td>\n",
       "    </tr>\n",
       "    <tr>\n",
       "      <th>49996</th>\n",
       "      <td>5308387</td>\n",
       "      <td>의지 박약들이나 하는거다 탈영은 일단 주인공 김대희 닮았고 이등병 찐따 OOOO</td>\n",
       "      <td>0</td>\n",
       "    </tr>\n",
       "    <tr>\n",
       "      <th>49997</th>\n",
       "      <td>9072549</td>\n",
       "      <td>그림도 좋고 완성도도 높았지만... 보는 내내 불안하게 만든다</td>\n",
       "      <td>0</td>\n",
       "    </tr>\n",
       "    <tr>\n",
       "      <th>49998</th>\n",
       "      <td>5802125</td>\n",
       "      <td>절대 봐서는 안 될 영화.. 재미도 없고 기분만 잡치고.. 한 세트장에서 다 해먹네</td>\n",
       "      <td>0</td>\n",
       "    </tr>\n",
       "    <tr>\n",
       "      <th>49999</th>\n",
       "      <td>6070594</td>\n",
       "      <td>마무리는 또 왜이래</td>\n",
       "      <td>0</td>\n",
       "    </tr>\n",
       "  </tbody>\n",
       "</table>\n",
       "<p>50000 rows × 3 columns</p>\n",
       "</div>"
      ],
      "text/plain": [
       "            id                                           document  label\n",
       "0      6270596                                                굳 ㅋ      1\n",
       "1      9274899                               GDNTOPCLASSINTHECLUB      0\n",
       "2      8544678             뭐야 이 평점들은.... 나쁘진 않지만 10점 짜리는 더더욱 아니잖아      0\n",
       "3      6825595                   지루하지는 않은데 완전 막장임... 돈주고 보기에는....      0\n",
       "4      6723715  3D만 아니었어도 별 다섯 개 줬을텐데.. 왜 3D로 나와서 제 심기를 불편하게 하죠??      0\n",
       "...        ...                                                ...    ...\n",
       "49995  4608761          오랜만에 평점 로긴했네ㅋㅋ 킹왕짱 쌈뽕한 영화를 만났습니다 강렬하게 육쾌함      1\n",
       "49996  5308387       의지 박약들이나 하는거다 탈영은 일단 주인공 김대희 닮았고 이등병 찐따 OOOO      0\n",
       "49997  9072549                 그림도 좋고 완성도도 높았지만... 보는 내내 불안하게 만든다      0\n",
       "49998  5802125     절대 봐서는 안 될 영화.. 재미도 없고 기분만 잡치고.. 한 세트장에서 다 해먹네      0\n",
       "49999  6070594                                         마무리는 또 왜이래      0\n",
       "\n",
       "[50000 rows x 3 columns]"
      ]
     },
     "execution_count": 3,
     "metadata": {},
     "output_type": "execute_result"
    }
   ],
   "source": [
    "test_data"
   ]
  },
  {
   "cell_type": "markdown",
   "id": "df2e9db3",
   "metadata": {},
   "source": [
    "# STEP 2. 데이터로더 구성"
   ]
  },
  {
   "cell_type": "markdown",
   "id": "8b58f35b",
   "metadata": {},
   "source": [
    "실습 때 다루었던 IMDB 데이터셋은 텍스트를 가공하여 imdb.data_loader() 메서드를 호출하면 숫자 인덱스로 변환된 텍스트와 word_to_index 딕셔너리까지 친절하게 제공합니다.  \n",
    "그러나 이번에 다루게 될 nsmc 데이터셋은 전혀 가공되지 않은 텍스트 파일로 이루어져 있습니다. 이것을 읽어서 imdb.data_loader()와 동일하게 동작하는 자신만의 data_loader를 만들어 보는 것으로 시작합니다. data_loader 안에서는 다음을 수행해야 합니다.\n",
    "\n",
    "- 데이터의 중복 제거\n",
    "- NaN 결측치 제거\n",
    "- 한국어 토크나이저로 토큰화\n",
    "- 불용어(Stopwords) 제거\n",
    "- 사전word_to_index 구성\n",
    "- 텍스트 스트링을 사전 인덱스 스트링으로 변환\n",
    "- X_train, y_train, X_test, y_test, word_to_index 리턴"
   ]
  },
  {
   "cell_type": "markdown",
   "id": "21957bda",
   "metadata": {},
   "source": [
    "## 2.1 훈련용, 테스트용 데이터셋 분리 & word_to_index 단어 사전 생성"
   ]
  },
  {
   "cell_type": "code",
   "execution_count": 4,
   "id": "5d37e2aa",
   "metadata": {},
   "outputs": [],
   "source": [
    "from konlpy.tag import Mecab                # 형태소 분석기\n",
    "import numpy as np\n",
    "from collections import Counter\n",
    "\n",
    "tokenizer = Mecab()\n",
    "stopwords = ['의','가','이','은','들','는','좀','잘','걍','과','도','를','으로','자','에','와','한','하다']\n",
    "\n",
    "def load_data(train_data, test_data, num_words=10000):\n",
    "    train_data.drop_duplicates(subset=['document'], inplace=True)   # Train 데이터 중복 제거\n",
    "    train_data = train_data.dropna(how = 'any')                     # Train 데이터 결측치 제거 \n",
    "    test_data.drop_duplicates(subset=['document'], inplace=True)    # Test 데이터 중복 제거\n",
    "    test_data = test_data.dropna(how = 'any')                       # Test 데이터 결측치 제거\n",
    "                                                                    # ‘any’ : If any NA values are present, drop that row or column.\n",
    "    \n",
    "    X_train = []\n",
    "    for sentence in train_data['document']:\n",
    "        temp_X = tokenizer.morphs(sentence)                         # 토큰화\n",
    "        temp_X = [word for word in temp_X if not word in stopwords] # 불용어 제거\n",
    "        X_train.append(temp_X)\n",
    "\n",
    "    X_test = []\n",
    "    for sentence in test_data['document']:\n",
    "        temp_X = tokenizer.morphs(sentence)                         # 토큰화\n",
    "        temp_X = [word for word in temp_X if not word in stopwords] # 불용어 제거\n",
    "        X_test.append(temp_X)\n",
    "    \n",
    "    words = np.concatenate(X_train).tolist()                        # 토큰화된 단어들을 하나의 리스트로 합치기\n",
    "    counter = Counter(words)                                        # 단어 개수 세기\n",
    "                                                                    # Counter object반환(딕셔너리 형태)\n",
    "    counter = counter.most_common(num_words - 4)                    # 빈도수 높은 순서대로 단어와 횟수 정보 리턴(튜플을 원소로한 리스트 형태)                 \n",
    "                                                                    # 참고 : https://docs.python.org/3/library/collections.html#collections.Counter.most_common\n",
    "    vocab = ['', '', '', ''] + [key for key, _ in counter]\n",
    "    word_to_index = {word:index for index, word in enumerate(vocab)} # word_to_index 사전 구성\n",
    "        \n",
    "    def wordlist_to_indexlist(wordlist):                            # 문장에서 분리된 단어들을 인덱스로 변환\n",
    "        return [word_to_index[word] if word in word_to_index else word_to_index[''] for word in wordlist]\n",
    "        \n",
    "    X_train = list(map(wordlist_to_indexlist, X_train))             # 문장에서 분리된 단어들을 인덱스로 변환\n",
    "    X_test = list(map(wordlist_to_indexlist, X_test))               # 문장에서 분리된 단어들을 인덱스로 변환\n",
    "    \n",
    "    y_train = np.array(list(train_data['label']))                   # 정답지인 긍정, 부정 \n",
    "    y_test = np.array(list(test_data['label']))                     # 정답지인 긍정, 부정 \n",
    "        \n",
    "    return X_train, y_train, X_test, y_test, word_to_index\n",
    "    \n",
    "X_train, y_train, X_test, y_test, word_to_index = load_data(train_data, test_data) "
   ]
  },
  {
   "cell_type": "code",
   "execution_count": 5,
   "id": "34188c33",
   "metadata": {},
   "outputs": [
    {
     "name": "stdout",
     "output_type": "stream",
     "text": [
      "X_train 개수:  146182\n",
      "y_train 개수:  146182\n",
      "X_test 개수:  49157\n",
      "y_test 개수:  49157\n",
      "\n",
      "word_to_index 개수:  9997\n"
     ]
    }
   ],
   "source": [
    "# 개수 프린트해보기\n",
    "print(\"X_train 개수: \", len(X_train))\n",
    "print(\"y_train 개수: \",len(y_train))\n",
    "print(\"X_test 개수: \",len(X_test))\n",
    "print(\"y_test 개수: \",len(y_test))\n",
    "\n",
    "print(\"\\nword_to_index 개수: \",len(word_to_index))"
   ]
  },
  {
   "cell_type": "markdown",
   "id": "0eb73ecd",
   "metadata": {},
   "source": [
    "## 2.2 index_to_word 단어 사전 생성"
   ]
  },
  {
   "cell_type": "code",
   "execution_count": 6,
   "id": "9a7ba479",
   "metadata": {},
   "outputs": [],
   "source": [
    "# 디코딩용 index_to_word 사전 만들기\n",
    "index_to_word = {index:word for word, index in word_to_index.items()}"
   ]
  },
  {
   "cell_type": "markdown",
   "id": "77c01ea2",
   "metadata": {},
   "source": [
    "## 2.3 인코더 & 디코더 함수 정의"
   ]
  },
  {
   "cell_type": "code",
   "execution_count": 7,
   "id": "f9093c0c",
   "metadata": {},
   "outputs": [],
   "source": [
    "# 문장 1개를 활용할 딕셔너리와 함께 주면, 단어 인덱스 리스트 벡터로 변환해 주는 함수입니다. \n",
    "# 단, 모든 문장은 <BOS>로 시작하는 것으로 합니다. \n",
    "def get_encoded_sentence(sentence, word_to_index):\n",
    "    return [word_to_index['<BOS>']]+[word_to_index[word] if word in word_to_index else word_to_index['<UNK>'] for word in sentence.split()]\n",
    "\n",
    "# 여러 개의 문장 리스트를 한꺼번에 단어 인덱스 리스트 벡터로 encode해 주는 함수입니다. \n",
    "def get_encoded_sentences(sentences, word_to_index):\n",
    "    return [get_encoded_sentence(sentence, word_to_index) for sentence in sentences]\n",
    "\n",
    "# 숫자 벡터로 encode된 문장을 원래대로 decode하는 함수입니다. \n",
    "def get_decoded_sentence(encoded_sentence, index_to_word):\n",
    "    return ' '.join(index_to_word[index] if index in index_to_word else '<UNK>' for index in encoded_sentence[1:])  #[1:]를 통해 <BOS>를 제외\n",
    "\n",
    "# 여러 개의 숫자 벡터로 encode된 문장을 한꺼번에 원래대로 decode하는 함수입니다. \n",
    "def get_decoded_sentences(encoded_sentences, index_to_word):\n",
    "    return [get_decoded_sentence(encoded_sentence, index_to_word) for encoded_sentence in encoded_sentences]"
   ]
  },
  {
   "cell_type": "markdown",
   "id": "8bd91c79",
   "metadata": {},
   "source": [
    "# STEP 3. 모델 구성을 위한 데이터 분석 및 가공\n",
    "\n",
    "- 데이터셋 내 문장 길이 분포\n",
    "- 적절한 최대 문장 길이 지정\n",
    "- keras.preprocessing.sequence.pad_sequences 을 활용한 패딩 추가\n"
   ]
  },
  {
   "cell_type": "markdown",
   "id": "20f68b55",
   "metadata": {},
   "source": [
    "## 3.1 인덱스 0 - 3번까지 \"PAD, BOS, UNK, UNUSED\" 넣기 "
   ]
  },
  {
   "cell_type": "code",
   "execution_count": 8,
   "id": "d245e8a8",
   "metadata": {},
   "outputs": [
    {
     "name": "stdout",
     "output_type": "stream",
     "text": [
      "<BOS>\n",
      "3\n",
      ".\n"
     ]
    }
   ],
   "source": [
    "# 처음 몇 개 인덱스는 사전에 정의되어 있습니다\n",
    "word_to_index[\"<PAD>\"] = 0\n",
    "word_to_index[\"<BOS>\"] = 1\n",
    "word_to_index[\"<UNK>\"] = 2  # unknown\n",
    "word_to_index[\"<UNUSED>\"] = 3\n",
    "\n",
    "index_to_word = {index:word for word, index in word_to_index.items()}\n",
    "\n",
    "print(index_to_word[1])     # '<BOS>' 가 출력됩니다. \n",
    "print(word_to_index[''])    # 3이 출력됩니다. \n",
    "print(index_to_word[4])     # '.' 가 출력됩니다."
   ]
  },
  {
   "cell_type": "code",
   "execution_count": 9,
   "id": "50631d17",
   "metadata": {},
   "outputs": [
    {
     "name": "stdout",
     "output_type": "stream",
     "text": [
      ". .. 포스터 보고 초딩 영화 줄 . ... 오버 연기 조차 가볍 지 않 구나\n",
      "라벨:  1\n"
     ]
    }
   ],
   "source": [
    "# 디코드해보기\n",
    "print(get_decoded_sentence(X_train[1], index_to_word))\n",
    "print('라벨: ', y_train[1])                             # 1번째 리뷰데이터의 라벨"
   ]
  },
  {
   "cell_type": "markdown",
   "id": "c438506c",
   "metadata": {},
   "source": [
    "## 3.2 데이터셋 내 문장 길이 분포"
   ]
  },
  {
   "cell_type": "code",
   "execution_count": 10,
   "id": "1fd4afeb",
   "metadata": {},
   "outputs": [
    {
     "name": "stdout",
     "output_type": "stream",
     "text": [
      "문장길이 평균 :  15.96940191154864\n",
      "문장길이 최대 :  116\n",
      "문장길이 표준편차 :  12.843571191092\n"
     ]
    }
   ],
   "source": [
    "total_data_text = list(X_train) + list(X_test)\n",
    "\n",
    "\n",
    "# 텍스트데이터 문장길이의 리스트를 생성한 후\n",
    "num_tokens = [len(tokens) for tokens in total_data_text]  # num_tokens: [문장의 단어 개수, 문장의 단어 개수, 문장의 단어 개수, ...]\n",
    "num_tokens = np.array(num_tokens)\n",
    "\n",
    "\n",
    "# 문장길이의 평균값, 최대값, 표준편차를 계산해 본다. \n",
    "print('문장길이 평균 : ', np.mean(num_tokens))\n",
    "print('문장길이 최대 : ', np.max(num_tokens))\n",
    "print('문장길이 표준편차 : ', np.std(num_tokens))"
   ]
  },
  {
   "cell_type": "markdown",
   "id": "fdae58c9",
   "metadata": {},
   "source": [
    "## 3.3 적절한 최대 문장 길이 지정"
   ]
  },
  {
   "cell_type": "code",
   "execution_count": 11,
   "id": "e7155ef6",
   "metadata": {},
   "outputs": [
    {
     "name": "stdout",
     "output_type": "stream",
     "text": [
      "pad_sequences maxlen :  41\n",
      "전체 문장의 0.9342988343341575%가 maxlen 설정값 이내에 포함됩니다. \n"
     ]
    }
   ],
   "source": [
    "# 예를들어, 최대 길이를 (평균 + 2*표준편차)로 한다면,  \n",
    "max_tokens = np.mean(num_tokens) + 2 * np.std(num_tokens)\n",
    "maxlen = int(max_tokens)\n",
    "print('pad_sequences maxlen : ', maxlen)\n",
    "\n",
    "## ?? 아래 문장이 이해가 안됨. 왜 각 문장의 단어 개수에 총 문장의 개수를 나눔? 그 결과 무슨 의미인가?\n",
    "print('전체 문장의 {}%가 maxlen 설정값 이내에 포함됩니다. '.format(np.sum(num_tokens < max_tokens) / len(num_tokens)))    # len(num_tokens) : 문장의 개수"
   ]
  },
  {
   "cell_type": "markdown",
   "id": "76e2f2ca",
   "metadata": {},
   "source": [
    "## 3.4 패딩 추가"
   ]
  },
  {
   "cell_type": "code",
   "execution_count": 12,
   "id": "c96ad19f",
   "metadata": {},
   "outputs": [
    {
     "name": "stdout",
     "output_type": "stream",
     "text": [
      "(146182, 41)\n"
     ]
    }
   ],
   "source": [
    "X_train = tf.keras.preprocessing.sequence.pad_sequences(X_train,\n",
    "                                                        value=word_to_index[\"<PAD>\"],\n",
    "                                                        padding='pre', # 혹은 'post'\n",
    "                                                        maxlen=maxlen)\n",
    "\n",
    "X_test = tf.keras.preprocessing.sequence.pad_sequences(X_test,\n",
    "                                                       value=word_to_index[\"<PAD>\"],\n",
    "                                                       padding='pre', # 혹은 'post'\n",
    "                                                       maxlen=maxlen)\n",
    "\n",
    "print(X_train.shape)"
   ]
  },
  {
   "cell_type": "code",
   "execution_count": 13,
   "id": "44307945",
   "metadata": {},
   "outputs": [
    {
     "data": {
      "text/plain": [
       "array([  0,   0,   0,   0,   0,   0,   0,   0,   0,   0,   0,   0,   0,\n",
       "         0,   0,   0,   0,   0,   0,   0,   0,   0,   0,   0,   0,   0,\n",
       "         0,   0,   0,   0,   0,  32,  74, 919,   4,   4,  39, 228,  20,\n",
       "        33, 748], dtype=int32)"
      ]
     },
     "execution_count": 13,
     "metadata": {},
     "output_type": "execute_result"
    }
   ],
   "source": [
    "# 확인용\n",
    "X_train[0]"
   ]
  },
  {
   "cell_type": "markdown",
   "id": "e2331944",
   "metadata": {},
   "source": [
    "# STEP 4. Validation set 구성"
   ]
  },
  {
   "cell_type": "code",
   "execution_count": 14,
   "id": "0e7b9eeb",
   "metadata": {},
   "outputs": [
    {
     "name": "stdout",
     "output_type": "stream",
     "text": [
      "(116182, 41)\n",
      "(116182,)\n"
     ]
    }
   ],
   "source": [
    "# validation set 30,000건 분리\n",
    "X_val = X_train[:30000]   \n",
    "y_val = y_train[:30000]\n",
    "\n",
    "# validation set을 제외한 나머지 116,182건\n",
    "partial_X_train = X_train[30000:]  \n",
    "partial_y_train = y_train[30000:]\n",
    "\n",
    "print(partial_X_train.shape)\n",
    "print(partial_y_train.shape)"
   ]
  },
  {
   "cell_type": "markdown",
   "id": "7ad35cb9",
   "metadata": {},
   "source": [
    "# STEP 5. 모델 구성\n",
    "- 모델은 3가지 이상 다양하게 구성하여 실험해 보세요."
   ]
  },
  {
   "cell_type": "markdown",
   "id": "e0f078ab",
   "metadata": {},
   "source": [
    "## (1) 1D-CNN 모델"
   ]
  },
  {
   "cell_type": "code",
   "execution_count": 15,
   "id": "2231f981",
   "metadata": {},
   "outputs": [
    {
     "name": "stdout",
     "output_type": "stream",
     "text": [
      "Model: \"sequential\"\n",
      "_________________________________________________________________\n",
      "Layer (type)                 Output Shape              Param #   \n",
      "=================================================================\n",
      "embedding (Embedding)        (None, None, 32)          320000    \n",
      "_________________________________________________________________\n",
      "conv1d (Conv1D)              (None, None, 16)          3600      \n",
      "_________________________________________________________________\n",
      "max_pooling1d (MaxPooling1D) (None, None, 16)          0         \n",
      "_________________________________________________________________\n",
      "conv1d_1 (Conv1D)            (None, None, 16)          1808      \n",
      "_________________________________________________________________\n",
      "global_max_pooling1d (Global (None, 16)                0         \n",
      "_________________________________________________________________\n",
      "dense (Dense)                (None, 8)                 136       \n",
      "_________________________________________________________________\n",
      "dense_1 (Dense)              (None, 1)                 9         \n",
      "=================================================================\n",
      "Total params: 325,553\n",
      "Trainable params: 325,553\n",
      "Non-trainable params: 0\n",
      "_________________________________________________________________\n"
     ]
    }
   ],
   "source": [
    "vocab_size = 10000    # 어휘 사전의 크기입니다(10,000개의 단어)\n",
    "word_vector_dim = 32  # 워드 벡터의 차원 수 (변경 가능한 하이퍼파라미터)\n",
    "\n",
    "# model 설계 - 딥러닝 모델 코드를 직접 작성해 주세요.\n",
    "model = tf.keras.Sequential()\n",
    "model.add(tf.keras.layers.Embedding(vocab_size, word_vector_dim, input_shape=(None,)))\n",
    "model.add(tf.keras.layers.Conv1D(16, 7, activation='relu'))\n",
    "model.add(tf.keras.layers.MaxPooling1D(5))\n",
    "model.add(tf.keras.layers.Conv1D(16, 7, activation='relu'))\n",
    "model.add(tf.keras.layers.GlobalMaxPooling1D())\n",
    "model.add(tf.keras.layers.Dense(8, activation='relu'))\n",
    "model.add(tf.keras.layers.Dense(1, activation='sigmoid'))  # 최종 출력은 긍정/부정을 나타내는 1dim 입니다.\n",
    "\n",
    "model.summary()"
   ]
  },
  {
   "cell_type": "markdown",
   "id": "5916bc9e",
   "metadata": {},
   "source": [
    "### 모델 훈련 개시"
   ]
  },
  {
   "cell_type": "code",
   "execution_count": 16,
   "id": "c1a2320d",
   "metadata": {},
   "outputs": [
    {
     "name": "stdout",
     "output_type": "stream",
     "text": [
      "Epoch 1/10\n",
      "227/227 [==============================] - 4s 6ms/step - loss: 0.4994 - accuracy: 0.7535 - val_loss: 0.3537 - val_accuracy: 0.8474\n",
      "Epoch 2/10\n",
      "227/227 [==============================] - 1s 5ms/step - loss: 0.3209 - accuracy: 0.8643 - val_loss: 0.3401 - val_accuracy: 0.8552\n",
      "Epoch 3/10\n",
      "227/227 [==============================] - 1s 5ms/step - loss: 0.2733 - accuracy: 0.8882 - val_loss: 0.3465 - val_accuracy: 0.8491\n",
      "Epoch 4/10\n",
      "227/227 [==============================] - 1s 5ms/step - loss: 0.2281 - accuracy: 0.9102 - val_loss: 0.3567 - val_accuracy: 0.8517\n",
      "Epoch 5/10\n",
      "227/227 [==============================] - 1s 5ms/step - loss: 0.1798 - accuracy: 0.9334 - val_loss: 0.3945 - val_accuracy: 0.8479\n",
      "Epoch 6/10\n",
      "227/227 [==============================] - 1s 5ms/step - loss: 0.1358 - accuracy: 0.9525 - val_loss: 0.4506 - val_accuracy: 0.8412\n",
      "Epoch 7/10\n",
      "227/227 [==============================] - 1s 5ms/step - loss: 0.1018 - accuracy: 0.9662 - val_loss: 0.5138 - val_accuracy: 0.8429\n",
      "Epoch 8/10\n",
      "227/227 [==============================] - 1s 5ms/step - loss: 0.0775 - accuracy: 0.9757 - val_loss: 0.5964 - val_accuracy: 0.8361\n",
      "Epoch 9/10\n",
      "227/227 [==============================] - 1s 5ms/step - loss: 0.0620 - accuracy: 0.9812 - val_loss: 0.6384 - val_accuracy: 0.8349\n",
      "Epoch 10/10\n",
      "227/227 [==============================] - 1s 5ms/step - loss: 0.0504 - accuracy: 0.9853 - val_loss: 0.7159 - val_accuracy: 0.8329\n"
     ]
    }
   ],
   "source": [
    "model.compile(optimizer='adam',\n",
    "              loss='binary_crossentropy',\n",
    "              metrics=['accuracy'])\n",
    "              \n",
    "epochs=10  # 몇 epoch를 훈련하면 좋을지 결과를 보면서 바꾸어 봅시다. \n",
    "\n",
    "\n",
    "history = model.fit(partial_X_train,\n",
    "                    partial_y_train,\n",
    "                    epochs=epochs,\n",
    "                    batch_size=512,\n",
    "                    validation_data=(X_val, y_val),\n",
    "                    verbose=1)"
   ]
  },
  {
   "cell_type": "markdown",
   "id": "12fd4f9b",
   "metadata": {},
   "source": [
    "### 성능 평가"
   ]
  },
  {
   "cell_type": "code",
   "execution_count": 17,
   "id": "85a25951",
   "metadata": {},
   "outputs": [
    {
     "name": "stdout",
     "output_type": "stream",
     "text": [
      "1537/1537 - 2s - loss: 0.7419 - accuracy: 0.8272\n",
      "[0.7419492602348328, 0.8271660208702087]\n"
     ]
    }
   ],
   "source": [
    "results = model.evaluate(X_test,  y_test, verbose=2)\n",
    "\n",
    "print(results)"
   ]
  },
  {
   "cell_type": "markdown",
   "id": "f3980650",
   "metadata": {},
   "source": [
    "### Loss, Accuracy 그래프 시각화"
   ]
  },
  {
   "cell_type": "code",
   "execution_count": 18,
   "id": "12f0b97a",
   "metadata": {},
   "outputs": [
    {
     "name": "stdout",
     "output_type": "stream",
     "text": [
      "dict_keys(['loss', 'accuracy', 'val_loss', 'val_accuracy'])\n"
     ]
    },
    {
     "data": {
      "image/png": "[encoded data removed]",
      "text/plain": [
       "<Figure size 432x288 with 1 Axes>"
      ]
     },
     "metadata": {
      "needs_background": "light"
     },
     "output_type": "display_data"
    }
   ],
   "source": [
    "history_dict = history.history\n",
    "print(history_dict.keys()) # epoch에 따른 그래프를 그려볼 수 있는 항목들\n",
    "\n",
    "acc = history_dict['accuracy']\n",
    "val_acc = history_dict['val_accuracy']\n",
    "loss = history_dict['loss']\n",
    "val_loss = history_dict['val_loss']\n",
    "\n",
    "epochs = range(1, len(acc) + 1)\n",
    "\n",
    "# \"bo\"는 \"파란색 점\"입니다\n",
    "plt.plot(epochs, loss, 'bo', label='Training loss')\n",
    "# b는 \"파란 실선\"입니다\n",
    "plt.plot(epochs, val_loss, 'b', label='Validation loss')\n",
    "plt.title('Training and validation loss')\n",
    "plt.xlabel('Epochs')\n",
    "plt.ylabel('Loss')\n",
    "plt.legend()\n",
    "\n",
    "plt.show()"
   ]
  },
  {
   "cell_type": "code",
   "execution_count": 19,
   "id": "97da8da7",
   "metadata": {},
   "outputs": [
    {
     "data": {
      "image/png": "[encoded data removed]",
      "text/plain": [
       "<Figure size 432x288 with 1 Axes>"
      ]
     },
     "metadata": {
      "needs_background": "light"
     },
     "output_type": "display_data"
    }
   ],
   "source": [
    "plt.clf()   # 그림을 초기화합니다\n",
    "\n",
    "plt.plot(epochs, acc, 'bo', label='Training acc')\n",
    "plt.plot(epochs, val_acc, 'b', label='Validation acc')\n",
    "plt.title('Training and validation accuracy')\n",
    "plt.xlabel('Epochs')\n",
    "plt.ylabel('Accuracy')\n",
    "plt.legend()\n",
    "\n",
    "plt.show()"
   ]
  },
  {
   "cell_type": "markdown",
   "id": "4ab27dec",
   "metadata": {},
   "source": [
    "### 지금까지 학습된 Embedding 레이어 분석"
   ]
  },
  {
   "cell_type": "code",
   "execution_count": 20,
   "id": "43677f0b",
   "metadata": {},
   "outputs": [
    {
     "name": "stdout",
     "output_type": "stream",
     "text": [
      "Weights Shape:  (10000, 32)\n",
      "\n",
      "Weights 출력: \n",
      " [[-9.0327198e-03  1.7517167e-03  7.1345903e-02 ... -3.1417217e-02\n",
      "   1.4198201e-02  6.6370875e-02]\n",
      " [ 2.2895847e-02  3.6668751e-02  4.1398037e-02 ...  3.6895324e-02\n",
      "   9.9219382e-05  2.3389962e-02]\n",
      " [-1.5073657e-02  2.6791301e-02 -2.9295087e-03 ...  8.6443536e-03\n",
      "  -4.4370592e-02 -3.8826384e-02]\n",
      " ...\n",
      " [ 1.0990044e-01  2.6086336e-02  4.5303304e-02 ... -5.4414362e-02\n",
      "   6.5518871e-02  1.1370488e-01]\n",
      " [ 5.1919773e-02 -1.1123980e-01  1.4101575e-01 ... -1.3226864e-01\n",
      "   1.2767205e-01  4.1913299e-04]\n",
      " [ 2.3563009e-02 -5.1730839e-03  4.6340622e-02 ...  9.7332969e-02\n",
      "  -2.3165228e-02 -1.3640499e-02]]\n"
     ]
    }
   ],
   "source": [
    "# Embedding Layer의 가중치 파라미터\n",
    "embedding_layer = model.layers[0]              # 위에서 나열한 레이어 중에 0번째 레이어 = embedding layer\n",
    "weights = embedding_layer.get_weights()[0]     # embedding layer의 가중치들 얻기\n",
    "\n",
    "\n",
    "print('Weights Shape: ', weights.shape)        # shape: (vocab_size, embedding_dim)\n",
    "print('\\nWeights 출력: \\n', weights) "
   ]
  },
  {
   "cell_type": "code",
   "execution_count": 21,
   "id": "de7b97e5",
   "metadata": {},
   "outputs": [],
   "source": [
    "# 학습한 Embedding 파라미터를 파일에 써서 저장합니다. \n",
    "word2vec_old_file_path = os.getenv('HOME')+'/aiffel/sentiment_classification/data/word2vec.txt'\n",
    "f = open(word2vec_old_file_path, 'w')\n",
    "f.write('{} {}\\n'.format(vocab_size-4, word_vector_dim))        # 몇개의 벡터를 얼마 사이즈로 기재할지 타이틀을 씁니다.\n",
    "                                                                # 8-8에서 인덱스 0부터 3까지 <pad>, <bos>, <unk>, <unused> 4가지를 제외하기 위해 4를 뺌\n",
    "                                                                # word_vector_dim: 임베딩 벡터의 차원수\n",
    "\n",
    "# 단어 개수(에서 8-8의 <pad>, <bos>, <unk>, <unused> 문자 4개는 제외하고)만큼의 워드 벡터를 파일에 기록합니다. \n",
    "vectors = model.get_weights()[0]                                # embedding layer의 가중치들\n",
    "for i in range(4, vocab_size):\n",
    "    f.write('{} {}\\n'.format(index_to_word[i], ' '.join(map(str, list(vectors[i, :])))))\n",
    "f.close()"
   ]
  },
  {
   "cell_type": "markdown",
   "id": "d894ccf9",
   "metadata": {},
   "source": [
    "gensim에서 제공하는 패키지를 이용해, 위에 남긴 **임베딩 파라미터 파일**을 읽어서 word vector로 활용할 수 있음"
   ]
  },
  {
   "cell_type": "code",
   "execution_count": 22,
   "id": "9cb7d237",
   "metadata": {},
   "outputs": [
    {
     "data": {
      "text/plain": [
       "array([-0.06007011,  0.03364957, -0.02707294, -0.02619197,  0.02412084,\n",
       "       -0.04143812,  0.00547191, -0.0749346 ,  0.02420989, -0.10781509,\n",
       "        0.03025507,  0.09613515, -0.08594567, -0.05262685, -0.03811287,\n",
       "       -0.03213146,  0.05219866,  0.02431271,  0.11358693, -0.083206  ,\n",
       "       -0.04752585, -0.04428297,  0.01203178, -0.05098534,  0.00507641,\n",
       "        0.07530769,  0.02353247,  0.06021843, -0.09197139,  0.02776559,\n",
       "        0.00939828, -0.00237544], dtype=float32)"
      ]
     },
     "execution_count": 22,
     "metadata": {},
     "output_type": "execute_result"
    }
   ],
   "source": [
    "# 만들어 놓은 임베딩 파라미터 파일을 불러오기\n",
    "word_vectors = Word2VecKeyedVectors.load_word2vec_format(word2vec_old_file_path, binary=False)\n",
    "\n",
    "# 임베딩 한 단어의 워드 벡터 출력해보기\n",
    "vector = word_vectors['사랑']\n",
    "vector"
   ]
  },
  {
   "cell_type": "code",
   "execution_count": 23,
   "id": "27be7ca3",
   "metadata": {},
   "outputs": [
    {
     "data": {
      "text/plain": [
       "[('정점', 0.8060023188591003),\n",
       " ('피터팬', 0.8001174330711365),\n",
       " ('누군가', 0.7567253708839417),\n",
       " ('넘사벽', 0.7460497617721558),\n",
       " ('제니', 0.7432783842086792),\n",
       " ('앓', 0.7349708676338196),\n",
       " ('멋져요', 0.7344741821289062),\n",
       " ('전두환', 0.7339342832565308),\n",
       " ('*^^*', 0.7334235310554504),\n",
       " ('주어진', 0.7302190065383911)]"
      ]
     },
     "execution_count": 23,
     "metadata": {},
     "output_type": "execute_result"
    }
   ],
   "source": [
    "# 유의어와 유사도 출력해보기\n",
    "word_vectors.similar_by_word('사랑')"
   ]
  },
  {
   "cell_type": "markdown",
   "id": "a90cc256",
   "metadata": {},
   "source": [
    "> 사랑과 유의어를 출력해보니 유의어는 사랑과 관련성이 거의 없으며 유사도는 '정점'이 가장 높다"
   ]
  },
  {
   "cell_type": "markdown",
   "id": "3462a27c",
   "metadata": {},
   "source": [
    "## (2) RNN"
   ]
  },
  {
   "cell_type": "code",
   "execution_count": 24,
   "id": "475deff5",
   "metadata": {},
   "outputs": [
    {
     "name": "stdout",
     "output_type": "stream",
     "text": [
      "Model: \"sequential_1\"\n",
      "_________________________________________________________________\n",
      "Layer (type)                 Output Shape              Param #   \n",
      "=================================================================\n",
      "embedding_1 (Embedding)      (None, None, 32)          320000    \n",
      "_________________________________________________________________\n",
      "lstm (LSTM)                  (None, 8)                 1312      \n",
      "_________________________________________________________________\n",
      "dense_2 (Dense)              (None, 8)                 72        \n",
      "_________________________________________________________________\n",
      "dense_3 (Dense)              (None, 1)                 9         \n",
      "=================================================================\n",
      "Total params: 321,393\n",
      "Trainable params: 321,393\n",
      "Non-trainable params: 0\n",
      "_________________________________________________________________\n"
     ]
    }
   ],
   "source": [
    "vocab_size = 10000  # 어휘 사전의 크기입니다(10개의 단어)\n",
    "word_vector_dim = 32  # 단어 하나를 표현하는 임베딩 벡터의 차원수입니다. \n",
    "\n",
    "model = tf.keras.Sequential()\n",
    "model.add(tf.keras.layers.Embedding(vocab_size, word_vector_dim, input_shape=(None,)))\n",
    "model.add(tf.keras.layers.LSTM(8))   # 가장 널리 쓰이는 RNN인 LSTM 레이어를 사용하였습니다. 이때 LSTM state 벡터의 차원수는 8로 하였습니다. (변경 가능)\n",
    "model.add(tf.keras.layers.Dense(8, activation='relu'))\n",
    "model.add(tf.keras.layers.Dense(1, activation='sigmoid'))  # 최종 출력은 긍정/부정을 나타내는 1dim 입니다.\n",
    "\n",
    "model.summary()"
   ]
  },
  {
   "cell_type": "markdown",
   "id": "19383416",
   "metadata": {},
   "source": [
    "### 모델 훈련 개시"
   ]
  },
  {
   "cell_type": "code",
   "execution_count": 25,
   "id": "133c6fff",
   "metadata": {},
   "outputs": [
    {
     "name": "stdout",
     "output_type": "stream",
     "text": [
      "Epoch 1/10\n",
      "227/227 [==============================] - 3s 7ms/step - loss: 0.5677 - accuracy: 0.7340 - val_loss: 0.4821 - val_accuracy: 0.8382\n",
      "Epoch 2/10\n",
      "227/227 [==============================] - 1s 6ms/step - loss: 0.4522 - accuracy: 0.8490 - val_loss: 0.4472 - val_accuracy: 0.8429\n",
      "Epoch 3/10\n",
      "227/227 [==============================] - 1s 6ms/step - loss: 0.4117 - accuracy: 0.8607 - val_loss: 0.4275 - val_accuracy: 0.8442\n",
      "Epoch 4/10\n",
      "227/227 [==============================] - 1s 6ms/step - loss: 0.3837 - accuracy: 0.8676 - val_loss: 0.4130 - val_accuracy: 0.8426\n",
      "Epoch 5/10\n",
      "227/227 [==============================] - 1s 6ms/step - loss: 0.3616 - accuracy: 0.8743 - val_loss: 0.4057 - val_accuracy: 0.8465\n",
      "Epoch 6/10\n",
      "227/227 [==============================] - 1s 6ms/step - loss: 0.3424 - accuracy: 0.8803 - val_loss: 0.3982 - val_accuracy: 0.8469\n",
      "Epoch 7/10\n",
      "227/227 [==============================] - 1s 6ms/step - loss: 0.3255 - accuracy: 0.8867 - val_loss: 0.3918 - val_accuracy: 0.8482\n",
      "Epoch 8/10\n",
      "227/227 [==============================] - 1s 6ms/step - loss: 0.3106 - accuracy: 0.8920 - val_loss: 0.3871 - val_accuracy: 0.8470\n",
      "Epoch 9/10\n",
      "227/227 [==============================] - 1s 6ms/step - loss: 0.2969 - accuracy: 0.8976 - val_loss: 0.3884 - val_accuracy: 0.8485\n",
      "Epoch 10/10\n",
      "227/227 [==============================] - 1s 6ms/step - loss: 0.2835 - accuracy: 0.9029 - val_loss: 0.3946 - val_accuracy: 0.8480\n"
     ]
    }
   ],
   "source": [
    "model.compile(optimizer='adam',\n",
    "              loss='binary_crossentropy',\n",
    "              metrics=['accuracy'])\n",
    "              \n",
    "epochs=10  # 몇 epoch를 훈련하면 좋을지 결과를 보면서 바꾸어 봅시다. \n",
    "\n",
    "\n",
    "history = model.fit(partial_X_train,\n",
    "                    partial_y_train,\n",
    "                    epochs=epochs,\n",
    "                    batch_size=512,\n",
    "                    validation_data=(X_val, y_val),\n",
    "                    verbose=1)"
   ]
  },
  {
   "cell_type": "markdown",
   "id": "29930487",
   "metadata": {},
   "source": [
    "### 성능 평가"
   ]
  },
  {
   "cell_type": "code",
   "execution_count": 26,
   "id": "fea7252e",
   "metadata": {},
   "outputs": [
    {
     "name": "stdout",
     "output_type": "stream",
     "text": [
      "1537/1537 - 3s - loss: 0.4050 - accuracy: 0.8423\n",
      "[0.4049597382545471, 0.842321515083313]\n"
     ]
    }
   ],
   "source": [
    "results = model.evaluate(X_test,  y_test, verbose=2)\n",
    "\n",
    "print(results)"
   ]
  },
  {
   "cell_type": "markdown",
   "id": "4786d227",
   "metadata": {},
   "source": [
    "### Loss, Accuracy 그래프 시각화"
   ]
  },
  {
   "cell_type": "code",
   "execution_count": 27,
   "id": "29a4f820",
   "metadata": {},
   "outputs": [
    {
     "name": "stdout",
     "output_type": "stream",
     "text": [
      "dict_keys(['loss', 'accuracy', 'val_loss', 'val_accuracy'])\n"
     ]
    },
    {
     "data": {
      "image/png": "[encoded data removed]",
      "text/plain": [
       "<Figure size 432x288 with 1 Axes>"
      ]
     },
     "metadata": {
      "needs_background": "light"
     },
     "output_type": "display_data"
    }
   ],
   "source": [
    "history_dict = history.history\n",
    "print(history_dict.keys()) # epoch에 따른 그래프를 그려볼 수 있는 항목들\n",
    "\n",
    "acc = history_dict['accuracy']\n",
    "val_acc = history_dict['val_accuracy']\n",
    "loss = history_dict['loss']\n",
    "val_loss = history_dict['val_loss']\n",
    "\n",
    "epochs = range(1, len(acc) + 1)\n",
    "\n",
    "# \"bo\"는 \"파란색 점\"입니다\n",
    "plt.plot(epochs, loss, 'bo', label='Training loss')\n",
    "# b는 \"파란 실선\"입니다\n",
    "plt.plot(epochs, val_loss, 'b', label='Validation loss')\n",
    "plt.title('Training and validation loss')\n",
    "plt.xlabel('Epochs')\n",
    "plt.ylabel('Loss')\n",
    "plt.legend()\n",
    "\n",
    "plt.show()"
   ]
  },
  {
   "cell_type": "code",
   "execution_count": 28,
   "id": "6ec683e5",
   "metadata": {},
   "outputs": [
    {
     "data": {
      "image/png": "[encoded data removed]",
      "text/plain": [
       "<Figure size 432x288 with 1 Axes>"
      ]
     },
     "metadata": {
      "needs_background": "light"
     },
     "output_type": "display_data"
    }
   ],
   "source": [
    "plt.clf()   # 그림을 초기화합니다\n",
    "\n",
    "plt.plot(epochs, acc, 'bo', label='Training acc')\n",
    "plt.plot(epochs, val_acc, 'b', label='Validation acc')\n",
    "plt.title('Training and validation accuracy')\n",
    "plt.xlabel('Epochs')\n",
    "plt.ylabel('Accuracy')\n",
    "plt.legend()\n",
    "\n",
    "plt.show()"
   ]
  },
  {
   "cell_type": "markdown",
   "id": "1c52e211",
   "metadata": {},
   "source": [
    "### 지금까지 학습된 Embedding 레이어 분석"
   ]
  },
  {
   "cell_type": "code",
   "execution_count": 29,
   "id": "51284864",
   "metadata": {},
   "outputs": [
    {
     "name": "stdout",
     "output_type": "stream",
     "text": [
      "Weights Shape:  (10000, 32)\n",
      "\n",
      "Weights 출력: \n",
      " [[-0.02414362 -0.0253279  -0.01160519 ...  0.02046078 -0.05777333\n",
      "  -0.08731849]\n",
      " [-0.00029299 -0.01987867  0.04751175 ...  0.0046156  -0.01462722\n",
      "  -0.04097886]\n",
      " [ 0.03559721  0.0456277  -0.03142913 ...  0.03138539  0.0240561\n",
      "   0.00924603]\n",
      " ...\n",
      " [ 0.08897808  0.00296329  0.06767903 ...  0.07985311  0.01264867\n",
      "  -0.02881915]\n",
      " [ 0.12047789 -0.06612647  0.03096695 ...  0.08844548 -0.05393435\n",
      "  -0.06432808]\n",
      " [ 0.02240426 -0.01880679 -0.003893   ... -0.03046754  0.01196506\n",
      "  -0.00723326]]\n"
     ]
    }
   ],
   "source": [
    "# Embedding Layer의 가중치 파라미터\n",
    "embedding_layer = model.layers[0]              # 위에서 나열한 레이어 중에 0번째 레이어 = embedding layer\n",
    "weights = embedding_layer.get_weights()[0]     # embedding layer의 가중치들 얻기\n",
    "\n",
    "\n",
    "print('Weights Shape: ', weights.shape)        # shape: (vocab_size, embedding_dim)\n",
    "print('\\nWeights 출력: \\n', weights) "
   ]
  },
  {
   "cell_type": "code",
   "execution_count": 30,
   "id": "d6e4059b",
   "metadata": {},
   "outputs": [],
   "source": [
    "# 학습한 Embedding 파라미터를 파일에 써서 저장합니다. \n",
    "word2vec_old_file_path = os.getenv('HOME')+'/aiffel/sentiment_classification/data/word2vec.txt'\n",
    "f = open(word2vec_old_file_path, 'w')\n",
    "f.write('{} {}\\n'.format(vocab_size-4, word_vector_dim))        # 몇개의 벡터를 얼마 사이즈로 기재할지 타이틀을 씁니다.\n",
    "                                                                # 8-8에서 인덱스 0부터 3까지 <pad>, <bos>, <unk>, <unused> 4가지를 제외하기 위해 4를 뺌\n",
    "                                                                # word_vector_dim: 임베딩 벡터의 차원수\n",
    "\n",
    "# 단어 개수(에서 8-8의 <pad>, <bos>, <unk>, <unused> 문자 4개는 제외하고)만큼의 워드 벡터를 파일에 기록합니다. \n",
    "vectors = model.get_weights()[0]                                # embedding layer의 가중치들\n",
    "for i in range(4, vocab_size):\n",
    "    f.write('{} {}\\n'.format(index_to_word[i], ' '.join(map(str, list(vectors[i, :])))))\n",
    "f.close()"
   ]
  },
  {
   "cell_type": "markdown",
   "id": "2983e774",
   "metadata": {},
   "source": [
    "gensim에서 제공하는 패키지를 이용해, 위에 남긴 **임베딩 파라미터 파일**을 읽어서 word vector로 활용할 수 있음"
   ]
  },
  {
   "cell_type": "code",
   "execution_count": 31,
   "id": "7e05dc5b",
   "metadata": {},
   "outputs": [
    {
     "data": {
      "text/plain": [
       "array([-0.11175463,  0.08620043, -0.11652824,  0.05209618, -0.10500228,\n",
       "        0.06538889,  0.12810735,  0.07521391,  0.09933542,  0.10642616,\n",
       "        0.07226558, -0.05144704,  0.10355746, -0.02099694, -0.00275429,\n",
       "        0.10805435,  0.09634042,  0.13233536, -0.11742035, -0.04561586,\n",
       "        0.08633053,  0.10945699,  0.01822608,  0.0803242 ,  0.0324721 ,\n",
       "       -0.06483379,  0.08664638,  0.06021017, -0.09598245, -0.12509449,\n",
       "        0.04442714,  0.10713866], dtype=float32)"
      ]
     },
     "execution_count": 31,
     "metadata": {},
     "output_type": "execute_result"
    }
   ],
   "source": [
    "# 만들어 놓은 임베딩 파라미터 파일을 불러오기\n",
    "word_vectors = Word2VecKeyedVectors.load_word2vec_format(word2vec_old_file_path, binary=False)\n",
    "\n",
    "# 임베딩 한 단어의 워드 벡터 출력해보기\n",
    "vector = word_vectors['사랑']\n",
    "vector"
   ]
  },
  {
   "cell_type": "code",
   "execution_count": 32,
   "id": "fa80cae2",
   "metadata": {},
   "outputs": [
    {
     "data": {
      "text/plain": [
       "[('명품', 0.9472060203552246),\n",
       " ('올라갈', 0.9455352425575256),\n",
       " ('견줄', 0.9454885125160217),\n",
       " ('9', 0.9417068958282471),\n",
       " ('굿', 0.9369346499443054),\n",
       " ('흐뭇', 0.935604453086853),\n",
       " ('소화', 0.935544490814209),\n",
       " ('유쾌', 0.9337441921234131),\n",
       " ('놓치', 0.9297091960906982),\n",
       " ('뜨거운', 0.9295151829719543)]"
      ]
     },
     "execution_count": 32,
     "metadata": {},
     "output_type": "execute_result"
    }
   ],
   "source": [
    "# 유의어와 유사도 출력해보기\n",
    "word_vectors.similar_by_word('사랑')"
   ]
  },
  {
   "cell_type": "markdown",
   "id": "41e3dcf4",
   "metadata": {},
   "source": [
    "> 사랑과 유의어를 출력해보니 유의어는 사랑과 관련성이 거의 없으며 유사도는 '명품'가 가장 높다"
   ]
  },
  {
   "cell_type": "markdown",
   "id": "58a4ab4a",
   "metadata": {},
   "source": [
    "## (3) GlobalMaxPooling1D"
   ]
  },
  {
   "cell_type": "code",
   "execution_count": 33,
   "id": "6f790d5b",
   "metadata": {},
   "outputs": [
    {
     "name": "stdout",
     "output_type": "stream",
     "text": [
      "Model: \"sequential_2\"\n",
      "_________________________________________________________________\n",
      "Layer (type)                 Output Shape              Param #   \n",
      "=================================================================\n",
      "embedding_2 (Embedding)      (None, None, 32)          320000    \n",
      "_________________________________________________________________\n",
      "global_max_pooling1d_1 (Glob (None, 32)                0         \n",
      "_________________________________________________________________\n",
      "dense_4 (Dense)              (None, 8)                 264       \n",
      "_________________________________________________________________\n",
      "dense_5 (Dense)              (None, 1)                 9         \n",
      "=================================================================\n",
      "Total params: 320,273\n",
      "Trainable params: 320,273\n",
      "Non-trainable params: 0\n",
      "_________________________________________________________________\n"
     ]
    }
   ],
   "source": [
    "vocab_size = 10000    # 어휘 사전의 크기입니다(10개의 단어)\n",
    "word_vector_dim = 32  # 단어 하나를 표현하는 임베딩 벡터의 차원수입니다. \n",
    "\n",
    "model = tf.keras.Sequential()\n",
    "model.add(tf.keras.layers.Embedding(vocab_size, word_vector_dim, input_shape=(None,)))\n",
    "model.add(tf.keras.layers.GlobalMaxPooling1D())\n",
    "model.add(tf.keras.layers.Dense(8, activation='relu'))\n",
    "model.add(tf.keras.layers.Dense(1, activation='sigmoid'))  # 최종 출력은 긍정/부정을 나타내는 1dim 입니다.\n",
    "\n",
    "model.summary()"
   ]
  },
  {
   "cell_type": "markdown",
   "id": "e08fead5",
   "metadata": {},
   "source": [
    "### 모델 훈련 개시"
   ]
  },
  {
   "cell_type": "code",
   "execution_count": 34,
   "id": "5f14147d",
   "metadata": {},
   "outputs": [
    {
     "name": "stdout",
     "output_type": "stream",
     "text": [
      "Epoch 1/10\n",
      "227/227 [==============================] - 1s 4ms/step - loss: 0.5556 - accuracy: 0.7629 - val_loss: 0.3970 - val_accuracy: 0.8297\n",
      "Epoch 2/10\n",
      "227/227 [==============================] - 1s 4ms/step - loss: 0.3564 - accuracy: 0.8473 - val_loss: 0.3489 - val_accuracy: 0.8473\n",
      "Epoch 3/10\n",
      "227/227 [==============================] - 1s 3ms/step - loss: 0.3087 - accuracy: 0.8705 - val_loss: 0.3429 - val_accuracy: 0.8509\n",
      "Epoch 4/10\n",
      "227/227 [==============================] - 1s 3ms/step - loss: 0.2798 - accuracy: 0.8855 - val_loss: 0.3458 - val_accuracy: 0.8505\n",
      "Epoch 5/10\n",
      "227/227 [==============================] - 1s 3ms/step - loss: 0.2566 - accuracy: 0.8958 - val_loss: 0.3535 - val_accuracy: 0.8514\n",
      "Epoch 6/10\n",
      "227/227 [==============================] - 1s 4ms/step - loss: 0.2365 - accuracy: 0.9066 - val_loss: 0.3633 - val_accuracy: 0.8492\n",
      "Epoch 7/10\n",
      "227/227 [==============================] - 1s 4ms/step - loss: 0.2182 - accuracy: 0.9151 - val_loss: 0.3769 - val_accuracy: 0.8477\n",
      "Epoch 8/10\n",
      "227/227 [==============================] - 1s 4ms/step - loss: 0.2012 - accuracy: 0.9230 - val_loss: 0.3916 - val_accuracy: 0.8455\n",
      "Epoch 9/10\n",
      "227/227 [==============================] - 1s 4ms/step - loss: 0.1850 - accuracy: 0.9304 - val_loss: 0.4095 - val_accuracy: 0.8454\n",
      "Epoch 10/10\n",
      "227/227 [==============================] - 1s 4ms/step - loss: 0.1702 - accuracy: 0.9370 - val_loss: 0.4306 - val_accuracy: 0.8429\n"
     ]
    }
   ],
   "source": [
    "model.compile(optimizer='adam',\n",
    "              loss='binary_crossentropy',\n",
    "              metrics=['accuracy'])\n",
    "              \n",
    "epochs=10  # 몇 epoch를 훈련하면 좋을지 결과를 보면서 바꾸어 봅시다. \n",
    "\n",
    "\n",
    "history = model.fit(partial_X_train,\n",
    "                    partial_y_train,\n",
    "                    epochs=epochs,\n",
    "                    batch_size=512,\n",
    "                    validation_data=(X_val, y_val),\n",
    "                    verbose=1)"
   ]
  },
  {
   "cell_type": "markdown",
   "id": "5f6e4b1b",
   "metadata": {},
   "source": [
    "### 성능 평가"
   ]
  },
  {
   "cell_type": "code",
   "execution_count": 35,
   "id": "3c04af82",
   "metadata": {},
   "outputs": [
    {
     "name": "stdout",
     "output_type": "stream",
     "text": [
      "1537/1537 - 2s - loss: 0.4443 - accuracy: 0.8334\n",
      "[0.44432273507118225, 0.8334113359451294]\n"
     ]
    }
   ],
   "source": [
    "results = model.evaluate(X_test,  y_test, verbose=2)\n",
    "\n",
    "print(results)"
   ]
  },
  {
   "cell_type": "markdown",
   "id": "18592aef",
   "metadata": {},
   "source": [
    "### Loss, Accuracy 그래프 시각화"
   ]
  },
  {
   "cell_type": "code",
   "execution_count": 36,
   "id": "90ed028b",
   "metadata": {},
   "outputs": [
    {
     "name": "stdout",
     "output_type": "stream",
     "text": [
      "dict_keys(['loss', 'accuracy', 'val_loss', 'val_accuracy'])\n"
     ]
    },
    {
     "data": {
      "image/png": "[encoded data removed]",
      "text/plain": [
       "<Figure size 432x288 with 1 Axes>"
      ]
     },
     "metadata": {
      "needs_background": "light"
     },
     "output_type": "display_data"
    }
   ],
   "source": [
    "history_dict = history.history\n",
    "print(history_dict.keys()) # epoch에 따른 그래프를 그려볼 수 있는 항목들\n",
    "\n",
    "acc = history_dict['accuracy']\n",
    "val_acc = history_dict['val_accuracy']\n",
    "loss = history_dict['loss']\n",
    "val_loss = history_dict['val_loss']\n",
    "\n",
    "epochs = range(1, len(acc) + 1)\n",
    "\n",
    "# \"bo\"는 \"파란색 점\"입니다\n",
    "plt.plot(epochs, loss, 'bo', label='Training loss')\n",
    "# b는 \"파란 실선\"입니다\n",
    "plt.plot(epochs, val_loss, 'b', label='Validation loss')\n",
    "plt.title('Training and validation loss')\n",
    "plt.xlabel('Epochs')\n",
    "plt.ylabel('Loss')\n",
    "plt.legend()\n",
    "\n",
    "plt.show()"
   ]
  },
  {
   "cell_type": "code",
   "execution_count": 37,
   "id": "46551845",
   "metadata": {},
   "outputs": [
    {
     "data": {
      "image/png": "[encoded data removed]",
      "text/plain": [
       "<Figure size 432x288 with 1 Axes>"
      ]
     },
     "metadata": {
      "needs_background": "light"
     },
     "output_type": "display_data"
    }
   ],
   "source": [
    "plt.clf()   # 그림을 초기화합니다\n",
    "\n",
    "plt.plot(epochs, acc, 'bo', label='Training acc')\n",
    "plt.plot(epochs, val_acc, 'b', label='Validation acc')\n",
    "plt.title('Training and validation accuracy')\n",
    "plt.xlabel('Epochs')\n",
    "plt.ylabel('Accuracy')\n",
    "plt.legend()\n",
    "\n",
    "plt.show()"
   ]
  },
  {
   "cell_type": "markdown",
   "id": "d71167af",
   "metadata": {},
   "source": [
    "### 지금까지 학습된 Embedding 레이어 분석"
   ]
  },
  {
   "cell_type": "code",
   "execution_count": 38,
   "id": "4a92f0dd",
   "metadata": {},
   "outputs": [
    {
     "name": "stdout",
     "output_type": "stream",
     "text": [
      "Weights Shape:  (10000, 32)\n",
      "\n",
      "Weights 출력: \n",
      " [[-0.20738982 -0.13928267 -0.16002363 ... -0.13280499  0.36033374\n",
      "  -0.16630305]\n",
      " [-0.04918641 -0.00723748  0.02599338 ... -0.01517115 -0.03478952\n",
      "  -0.0420025 ]\n",
      " [ 0.0271386  -0.02054814  0.02402998 ... -0.01484183  0.01646999\n",
      "  -0.01466706]\n",
      " ...\n",
      " [-0.0349405  -0.02378499  0.08300447 ... -0.02776217  0.00205655\n",
      "  -0.04133816]\n",
      " [ 0.00166305 -0.02698503 -0.01610907 ...  0.02152006 -0.04705809\n",
      "  -0.01075126]\n",
      " [ 0.02708365 -0.07772566 -0.03644475 ... -0.04056114 -0.03071603\n",
      "   0.06324412]]\n"
     ]
    }
   ],
   "source": [
    "# Embedding Layer의 가중치 파라미터\n",
    "embedding_layer = model.layers[0]              # 위에서 나열한 레이어 중에 0번째 레이어 = embedding layer\n",
    "weights = embedding_layer.get_weights()[0]     # embedding layer의 가중치들 얻기\n",
    "\n",
    "\n",
    "print('Weights Shape: ', weights.shape)        # shape: (vocab_size, embedding_dim)\n",
    "print('\\nWeights 출력: \\n', weights) "
   ]
  },
  {
   "cell_type": "code",
   "execution_count": 39,
   "id": "f9f55e40",
   "metadata": {},
   "outputs": [],
   "source": [
    "# 학습한 Embedding 파라미터를 파일에 써서 저장합니다. \n",
    "word2vec_old_file_path = os.getenv('HOME')+'/aiffel/sentiment_classification/data/word2vec.txt'\n",
    "f = open(word2vec_old_file_path, 'w')\n",
    "f.write('{} {}\\n'.format(vocab_size-4, word_vector_dim))        # 몇개의 벡터를 얼마 사이즈로 기재할지 타이틀을 씁니다.\n",
    "                                                                # 8-8에서 인덱스 0부터 3까지 <pad>, <bos>, <unk>, <unused> 4가지를 제외하기 위해 4를 뺌\n",
    "                                                                # word_vector_dim: 임베딩 벡터의 차원수\n",
    "\n",
    "# 단어 개수(에서 8-8의 <pad>, <bos>, <unk>, <unused> 문자 4개는 제외하고)만큼의 워드 벡터를 파일에 기록합니다. \n",
    "vectors = model.get_weights()[0]                                # embedding layer의 가중치들\n",
    "for i in range(4, vocab_size):\n",
    "    f.write('{} {}\\n'.format(index_to_word[i], ' '.join(map(str, list(vectors[i, :])))))\n",
    "f.close()"
   ]
  },
  {
   "cell_type": "markdown",
   "id": "ac88a781",
   "metadata": {},
   "source": [
    "gensim에서 제공하는 패키지를 이용해, 위에 남긴 **임베딩 파라미터 파일**을 읽어서 word vector로 활용할 수 있음"
   ]
  },
  {
   "cell_type": "code",
   "execution_count": 40,
   "id": "e464aff1",
   "metadata": {},
   "outputs": [
    {
     "data": {
      "text/plain": [
       "array([ 0.20607686,  0.01427934, -0.11119621, -0.1219725 ,  0.03177636,\n",
       "       -0.13159274, -0.1355355 , -0.14497045, -0.1089448 ,  0.08366196,\n",
       "        0.14452504, -0.1265953 , -0.0690963 ,  0.00508254, -0.04035954,\n",
       "       -0.18436414, -0.11121186,  0.10056032, -0.0069699 , -0.07236877,\n",
       "       -0.12240322, -0.13864243, -0.17983302,  0.05211749, -0.01937265,\n",
       "        0.05071543, -0.12285902,  0.10556608, -0.1092369 , -0.04684676,\n",
       "       -0.02837095, -0.1436291 ], dtype=float32)"
      ]
     },
     "execution_count": 40,
     "metadata": {},
     "output_type": "execute_result"
    }
   ],
   "source": [
    "# 만들어 놓은 임베딩 파라미터 파일을 불러오기\n",
    "word_vectors = Word2VecKeyedVectors.load_word2vec_format(word2vec_old_file_path, binary=False)\n",
    "\n",
    "# 임베딩 한 단어의 워드 벡터 출력해보기\n",
    "vector = word_vectors['사랑']\n",
    "vector"
   ]
  },
  {
   "cell_type": "code",
   "execution_count": 41,
   "id": "f2514a9c",
   "metadata": {},
   "outputs": [
    {
     "data": {
      "text/plain": [
       "[('원빈', 0.7632746696472168),\n",
       " ('떠올리', 0.7454913854598999),\n",
       " ('줄리', 0.7386997938156128),\n",
       " ('맥스', 0.7250531315803528),\n",
       " ('!!!!', 0.7232670783996582),\n",
       " ('습', 0.7216807007789612),\n",
       " ('이연걸', 0.708609402179718),\n",
       " ('이안', 0.7049794793128967),\n",
       " ('챙겨', 0.7022815942764282),\n",
       " ('말코비치', 0.7019899487495422)]"
      ]
     },
     "execution_count": 41,
     "metadata": {},
     "output_type": "execute_result"
    }
   ],
   "source": [
    "# 유의어와 유사도 출력해보기\n",
    "word_vectors.similar_by_word('사랑')"
   ]
  },
  {
   "cell_type": "markdown",
   "id": "60b71315",
   "metadata": {},
   "source": [
    "> 사랑과 유의어를 출력해보니 유의어는 사랑과 관련성이 거의 없으며 유사도는 '원빈'이 가장 높다"
   ]
  },
  {
   "cell_type": "markdown",
   "id": "29f65a2e",
   "metadata": {},
   "source": [
    "# STEP 9. 한국어 Word2Vec 임베딩 활용하여 성능 개선\n",
    "- 한국어 Word2Vec은 /data 폴더 안에 있는 word2vec_ko.model을 활용하세요.\n",
    "- 한국어 Word2Vec을 활용할 때는 load_word2vec_format() 형태가 아닌 load() 형태로 모델을 불러와주세요.   \n",
    "또한 모델을 활용할 때에는 아래 예시와 같이 .wv를 붙여서 활용합니다. 좀더 자세한 활용법에 대해선 다음 링크들을 참조해주세요. \n",
    "[참고 링크1](https://radimrehurek.com/gensim/auto_examples/tutorials/run_word2vec.html#storing-and-loading-models), [참고 링크2](https://radimrehurek.com/gensim/models/keyedvectors.html)\n"
   ]
  },
  {
   "cell_type": "code",
   "execution_count": 42,
   "id": "1c73695d",
   "metadata": {},
   "outputs": [
    {
     "data": {
      "text/plain": [
       "array([ 3.2565942 , -0.85421413, -3.6964011 ,  1.0956469 ,  0.599815  ,\n",
       "       -1.9681435 ,  0.32379073, -1.0716053 , -1.1776937 ,  2.0442047 ,\n",
       "        2.2501915 , -2.7868037 , -2.702359  , -0.9775915 , -0.12478333,\n",
       "        0.28235647,  0.77683175, -1.5393747 ,  2.0879042 , -5.444462  ,\n",
       "       -4.931412  ,  0.8532094 ,  0.11118065, -2.743522  ,  0.7902363 ,\n",
       "        0.10469969, -0.56074625,  1.6684421 ,  1.0278419 , -3.8816829 ,\n",
       "       -3.606887  , -3.120771  , -1.2527398 , -0.77196646, -1.0102901 ,\n",
       "        3.331668  ,  0.30032924,  1.2074511 , -1.2813627 ,  2.6281219 ,\n",
       "       -1.4624823 , -1.1354805 ,  0.7605239 ,  2.83577   , -1.199358  ,\n",
       "        3.1347232 ,  4.062026  , -0.23413125,  3.205856  , -0.9567054 ,\n",
       "        0.77167803, -1.4300145 ,  2.9014013 , -3.940087  , -3.234169  ,\n",
       "       -5.5460634 ,  0.6185009 , -0.75793767,  2.1043491 ,  2.350599  ,\n",
       "        2.9313247 , -2.235593  ,  3.2084036 , -5.594638  ,  1.6516634 ,\n",
       "       -0.32628602, -1.8824683 , -1.5573231 , -1.8452163 , -1.4044309 ,\n",
       "        4.872565  , -2.1063929 , -0.32347348,  1.9946551 , -4.0967984 ,\n",
       "       -1.4509655 , -0.09111219, -4.458617  ,  0.06598099, -2.211754  ,\n",
       "        3.0731246 , -0.06910119,  2.2555242 ,  2.0823317 , -0.58695716,\n",
       "       -3.1035714 ,  2.4014452 ,  3.4731216 ,  1.424459  , -4.313935  ,\n",
       "       -3.5665336 , -6.5203366 , -2.1090846 , -3.2797608 ,  0.4331985 ,\n",
       "        1.1721823 ,  1.8870457 , -0.08832774,  5.423067  , -3.8484313 ],\n",
       "      dtype=float32)"
      ]
     },
     "execution_count": 42,
     "metadata": {},
     "output_type": "execute_result"
    }
   ],
   "source": [
    "from gensim.models.keyedvectors import Word2VecKeyedVectors\n",
    "\n",
    "word2vec_file_path = os.getenv(\"HOME\") + \"/data/word2vec_ko.model\"\n",
    "word2vec = Word2VecKeyedVectors.load(word2vec_file_path)\n",
    "vector = word2vec.wv['사랑']\n",
    "vector"
   ]
  },
  {
   "cell_type": "code",
   "execution_count": 43,
   "id": "feccf566",
   "metadata": {},
   "outputs": [
    {
     "data": {
      "text/plain": [
       "(100,)"
      ]
     },
     "execution_count": 43,
     "metadata": {},
     "output_type": "execute_result"
    }
   ],
   "source": [
    "# 한 단어 당 100 차원 벡터\n",
    "vector.shape"
   ]
  },
  {
   "cell_type": "code",
   "execution_count": 44,
   "id": "72084bdf",
   "metadata": {},
   "outputs": [
    {
     "data": {
      "text/plain": [
       "302960"
      ]
     },
     "execution_count": 44,
     "metadata": {},
     "output_type": "execute_result"
    }
   ],
   "source": [
    "# 302960 단어\n",
    "len(word2vec.wv.key_to_index)"
   ]
  },
  {
   "cell_type": "markdown",
   "id": "450e6fae",
   "metadata": {},
   "source": [
    "> 이미 학습된 한글 word2vec은 단어 개수가 302,960 개"
   ]
  },
  {
   "cell_type": "code",
   "execution_count": 45,
   "id": "fc6db619",
   "metadata": {},
   "outputs": [
    {
     "data": {
      "text/plain": [
       "{'<': 34,\n",
       " 'doc': 12,\n",
       " 'id': 28,\n",
       " '=\"': 6,\n",
       " '5': 75,\n",
       " '\"': 10,\n",
       " 'url': 33,\n",
       " 'https': 26,\n",
       " ':': 21,\n",
       " '/': 5,\n",
       " 'ko': 32,\n",
       " '.': 0,\n",
       " 'wikipedia': 31,\n",
       " 'org': 27,\n",
       " 'wiki': 30,\n",
       " '?': 24,\n",
       " 'curid': 35,\n",
       " '=': 25,\n",
       " 'title': 29,\n",
       " '지미': 5763,\n",
       " '카터': 7489,\n",
       " '\">': 38,\n",
       " '제임스': 1377,\n",
       " '얼': 3574,\n",
       " '주니어': 3290,\n",
       " '(': 15,\n",
       " ',': 7,\n",
       " '1924': 2968,\n",
       " '년': 16,\n",
       " '10': 101,\n",
       " '월': 45,\n",
       " '1': 57,\n",
       " '일': 49,\n",
       " '~': 89,\n",
       " ')': 14,\n",
       " '는': 4,\n",
       " '민주당': 1170,\n",
       " '출신': 417,\n",
       " '미국': 105,\n",
       " '39': 2234,\n",
       " '대': 86,\n",
       " '대통령': 323,\n",
       " '1977': 1813,\n",
       " '1981': 1515,\n",
       " '이': 3,\n",
       " '다': 2,\n",
       " '생애': 484,\n",
       " '어린': 1470,\n",
       " '시절': 432,\n",
       " '조지': 1287,\n",
       " '아주': 1890,\n",
       " '섬터': 53673,\n",
       " '카운티': 1646,\n",
       " '플': 2029,\n",
       " '레인스': 48695,\n",
       " '마을': 642,\n",
       " '에서': 19,\n",
       " '태어났': 656,\n",
       " '조지아': 3586,\n",
       " '공과': 4556,\n",
       " '대학교': 228,\n",
       " '를': 17,\n",
       " '졸업': 679,\n",
       " '하': 11,\n",
       " '였': 51,\n",
       " '그': 53,\n",
       " '후': 106,\n",
       " '해군': 965,\n",
       " '에': 8,\n",
       " '들어가': 1081,\n",
       " '전함': 5183,\n",
       " '·': 99,\n",
       " '원자력': 3550,\n",
       " '잠수함': 3498,\n",
       " '의': 1,\n",
       " '승무원': 5176,\n",
       " '으로': 22,\n",
       " '1953': 2456,\n",
       " '대위': 6026,\n",
       " '로': 40,\n",
       " '예편': 13256,\n",
       " '고': 18,\n",
       " '이후': 107,\n",
       " '땅콩': 16441,\n",
       " '면화': 17212,\n",
       " '등': 66,\n",
       " '을': 9,\n",
       " '가꿔': 165277,\n",
       " '많': 146,\n",
       " '은': 13,\n",
       " '돈': 994,\n",
       " '벌': 2694,\n",
       " '었': 42,\n",
       " '별명': 2664,\n",
       " '농부': 7254,\n",
       " 'Peanut': 275909,\n",
       " 'Farmer': 109623,\n",
       " '알려졌': 2282,\n",
       " '정계': 4539,\n",
       " '입문': 4494,\n",
       " '1962': 1938,\n",
       " '상원': 2535,\n",
       " '의원': 465,\n",
       " '선거': 328,\n",
       " '낙선': 5723,\n",
       " '나': 111,\n",
       " '가': 23,\n",
       " '부정': 1366,\n",
       " '였음을': 11103,\n",
       " '입증': 4502,\n",
       " '게': 60,\n",
       " '되': 39,\n",
       " '어': 54,\n",
       " '당선': 1664,\n",
       " '1966': 1978,\n",
       " '주지사': 5332,\n",
       " '지만': 90,\n",
       " '1970': 967,\n",
       " '역임': 815,\n",
       " '했': 46,\n",
       " '기': 55,\n",
       " '전': 116,\n",
       " '두': 117,\n",
       " '번': 109,\n",
       " '연임': 14632,\n",
       " '했으며': 298,\n",
       " '1971': 1703,\n",
       " '부터': 96,\n",
       " '1975': 1726,\n",
       " '까지': 78,\n",
       " '아': 93,\n",
       " '지사': 3228,\n",
       " '근무': 1536,\n",
       " '지내': 1759,\n",
       " '면서': 113,\n",
       " '사': 198,\n",
       " '흑인': 2597,\n",
       " '용법': 16896,\n",
       " '내세웠': 12982,\n",
       " '재임': 4042,\n",
       " '1976': 1668,\n",
       " '미합중국': 10888,\n",
       " '제': 73,\n",
       " '후보': 481,\n",
       " '출마': 2195,\n",
       " '여': 61,\n",
       " '도덕주의': 85415,\n",
       " '정책': 587,\n",
       " '내세워서': 109624,\n",
       " '지지': 857,\n",
       " '받': 87,\n",
       " '제럴드': 19562,\n",
       " '포드': 3503,\n",
       " '누르': 3492,\n",
       " '에너지': 872,\n",
       " '개발': 260,\n",
       " '촉구': 5373,\n",
       " '했으나': 640,\n",
       " '공화': 3125,\n",
       " '당': 239,\n",
       " '반대': 616,\n",
       " '무산': 4744,\n",
       " '외교': 1619,\n",
       " '이집트': 1514,\n",
       " '와': 47,\n",
       " '이스라엘': 1732,\n",
       " '조정': 1048,\n",
       " '캠프': 3712,\n",
       " '데이비드': 2085,\n",
       " '안와르': 43435,\n",
       " '사다트': 49727,\n",
       " '과': 43,\n",
       " '메나헴': 73326,\n",
       " '베긴': 70091,\n",
       " '수상': 578,\n",
       " '함께': 144,\n",
       " '중동': 3781,\n",
       " '평화': 1232,\n",
       " '위한': 245,\n",
       " '협정': 1988,\n",
       " '체결': 1489,\n",
       " '이것': 413,\n",
       " '유대': 2510,\n",
       " '인': 52,\n",
       " '단체': 632,\n",
       " '반발': 2511,\n",
       " '일으켰': 2675,\n",
       " '그러나': 177,\n",
       " '1979': 1543,\n",
       " '양국': 3865,\n",
       " '간': 205,\n",
       " '조약': 889,\n",
       " '백악관': 10468,\n",
       " '이루': 570,\n",
       " '졌': 636,\n",
       " '소련': 715,\n",
       " '2': 58,\n",
       " '차': 158,\n",
       " '전략': 1419,\n",
       " '무기': 1282,\n",
       " '제한': 1041,\n",
       " '협상': 2036,\n",
       " 'SALT': 109625,\n",
       " 'II': 1953,\n",
       " '조인': 10205,\n",
       " '후반': 1183,\n",
       " '당시': 163,\n",
       " '대한민국': 120,\n",
       " '인권': 2132,\n",
       " '후진국': 35331,\n",
       " '국민': 606,\n",
       " '들': 44,\n",
       " '지키': 2147,\n",
       " '위해': 142,\n",
       " '노력': 1159,\n",
       " '취임': 1624,\n",
       " '계속': 433,\n",
       " '해서': 461,\n",
       " '도덕': 3284,\n",
       " '정치': 334,\n",
       " '임기': 2792,\n",
       " '말': 122,\n",
       " '아프가니스탄': 3491,\n",
       " '침공': 1822,\n",
       " '사건': 221,\n",
       " '인해': 399,\n",
       " '1980': 828,\n",
       " '하계': 832,\n",
       " '올림픽': 284,\n",
       " '반공': 13257,\n",
       " '국가': 150,\n",
       " '보이콧': 16442,\n",
       " '주': 92,\n",
       " '이란': 1605,\n",
       " '대사관': 3543,\n",
       " '인질': 7659,\n",
       " '구출': 6402,\n",
       " '실패': 902,\n",
       " '인한': 1676,\n",
       " '원인': 1032,\n",
       " '40': 773,\n",
       " '로널드': 11847,\n",
       " '레이건': 12425,\n",
       " '에게': 84,\n",
       " '패': 1125,\n",
       " '며': 68,\n",
       " '재선': 6413,\n",
       " '관계': 292,\n",
       " '도': 50,\n",
       " '중요': 406,\n",
       " '한': 41,\n",
       " '영향': 356,\n",
       " '미쳤': 5523,\n",
       " '던': 70,\n",
       " '중': 83,\n",
       " '하나': 171,\n",
       " '문제': 258,\n",
       " '주한': 4398,\n",
       " '미군': 1710,\n",
       " '철수': 2425,\n",
       " '한때': 2289,\n",
       " '한미': 9249,\n",
       " '불편': 5628,\n",
       " '[': 191,\n",
       " '1978': 1684,\n",
       " '대한': 127,\n",
       " '북한': 1033,\n",
       " '위협': 1745,\n",
       " '대비': 2083,\n",
       " '해': 74,\n",
       " '미연': 27213,\n",
       " '합사': 27658,\n",
       " '창설': 2107,\n",
       " '1982': 1397,\n",
       " '3': 67,\n",
       " '단계': 893,\n",
       " '걸쳐': 1060,\n",
       " '사령부': 2221,\n",
       " '정보': 411,\n",
       " '기관': 534,\n",
       " '의회': 574,\n",
       " '부딪혀': 21599,\n",
       " '완전': 1410,\n",
       " '대신': 547,\n",
       " '6': 88,\n",
       " '000': 435,\n",
       " '명': 81,\n",
       " '감축': 12326,\n",
       " '데': 176,\n",
       " '그쳤': 4935,\n",
       " '또한': 145,\n",
       " '박정희': 3138,\n",
       " '정권': 1117,\n",
       " '논란': 998,\n",
       " '불협화음': 36071,\n",
       " '냈으나': 27955,\n",
       " '하순': 14425,\n",
       " '방문': 1192,\n",
       " '다소': 3161,\n",
       " '회복': 1801,\n",
       " '적': 48,\n",
       " '격변기': 80548,\n",
       " '대해': 318,\n",
       " '애매': 14979,\n",
       " '태도': 2891,\n",
       " '보였': 1656,\n",
       " '내': 179,\n",
       " '고조': 5509,\n",
       " '반미': 24211,\n",
       " '운동': 319,\n",
       " '됐': 415,\n",
       " '26': 531,\n",
       " '김재규': 25030,\n",
       " '중앙': 480,\n",
       " '부장': 2466,\n",
       " '의해': 178,\n",
       " '살해': 1947,\n",
       " '된': 64,\n",
       " '것': 56,\n",
       " '큰': 224,\n",
       " '충격': 3012,\n",
       " '았': 79,\n",
       " '으며': 82,\n",
       " '사이러스': 32530,\n",
       " '밴스': 36212,\n",
       " '국무': 4637,\n",
       " '장관': 836,\n",
       " '조문': 4316,\n",
       " '사절': 8680,\n",
       " '파견': 1469,\n",
       " '12': 130,\n",
       " '군사': 562,\n",
       " '반란': 1499,\n",
       " '17': 327,\n",
       " '쿠데타': 3173,\n",
       " '초기': 453,\n",
       " '강하': 2223,\n",
       " '비난': 2155,\n",
       " '정부': 208,\n",
       " '신': 255,\n",
       " '군부': 4728,\n",
       " '설득': 3569,\n",
       " '는데': 118,\n",
       " '한계': 2860,\n",
       " '있': 20,\n",
       " '결국': 498,\n",
       " '묵인': 21296,\n",
       " '듯': 1653,\n",
       " '보이': 522,\n",
       " '퇴임': 6688,\n",
       " '민간': 2104,\n",
       " '자원': 1593,\n",
       " '적극': 1798,\n",
       " '활용': 1291,\n",
       " '비': 234,\n",
       " '영리': 5577,\n",
       " '기구': 1219,\n",
       " '재단': 2210,\n",
       " '설립': 391,\n",
       " '뒤': 194,\n",
       " '민주주의': 880,\n",
       " '실현': 2912,\n",
       " '세계': 152,\n",
       " '감시': 3251,\n",
       " '활동': 169,\n",
       " '및': 121,\n",
       " '기니': 7933,\n",
       " '벌레': 10018,\n",
       " '의한': 758,\n",
       " '드라': 8681,\n",
       " '쿤': 6477,\n",
       " '쿠르': 9407,\n",
       " '스': 265,\n",
       " '질병': 2356,\n",
       " '방재': 20709,\n",
       " '힘썼': 9884,\n",
       " '빈곤층': 29428,\n",
       " '지원': 346,\n",
       " '사랑': 641,\n",
       " '집짓기': 99254,\n",
       " '국제': 290,\n",
       " '분쟁': 2184,\n",
       " '중재': 5893,\n",
       " '행정부': 4524,\n",
       " '북': 1381,\n",
       " '핵': 1623,\n",
       " '위기': 1401,\n",
       " '코소보': 9020,\n",
       " '전쟁': 213,\n",
       " '이라크': 2751,\n",
       " '같이': 382,\n",
       " '행동': 749,\n",
       " '최후': 3207,\n",
       " '선택': 888,\n",
       " '전통': 717,\n",
       " '사고': 740,\n",
       " '버리': 1916,\n",
       " '선행': 6834,\n",
       " '행위': 793,\n",
       " '깊': 1601,\n",
       " '유감': 16191,\n",
       " '표시': 1301,\n",
       " '강한': 1572,\n",
       " '입장': 1211,\n",
       " '특히': 350,\n",
       " '김일성': 3321,\n",
       " '아이': 582,\n",
       " '티': 624,\n",
       " '세드': 36591,\n",
       " '라스': 3764,\n",
       " '장군': 1056,\n",
       " '팔레': 12752,\n",
       " '스타인': 18208,\n",
       " '하마스': 38649,\n",
       " '보스니아': 5539,\n",
       " '세르비': 18481,\n",
       " '아계': 20103,\n",
       " '거부': 1220,\n",
       " '사태': 2174,\n",
       " '초래': 4523,\n",
       " '인물': 605,\n",
       " '직접': 608,\n",
       " '만나': 1116,\n",
       " '근본': 3730,\n",
       " '해결': 1393,\n",
       " '과정': 331,\n",
       " '갈등': 2071,\n",
       " '전직': 3118,\n",
       " '권한': 2041,\n",
       " '재야': 17907,\n",
       " '유명': 567,\n",
       " '인사': 1455,\n",
       " '활약': 661,\n",
       " '나갔': 3014,\n",
       " '채결': 38105,\n",
       " '이행': 3949,\n",
       " '지지부진': 30792,\n",
       " '자': 80,\n",
       " '분제': 102442,\n",
       " '1993': 1025,\n",
       " '오슬로': 12133,\n",
       " '이끌': 863,\n",
       " '성공': 472,\n",
       " '임박': 17246,\n",
       " '처음': 243,\n",
       " '기여': 1172,\n",
       " '다는': 168,\n",
       " '평가': 493,\n",
       " '때': 100,\n",
       " '김영삼': 5444,\n",
       " '주석': 3456,\n",
       " '만남': 5812,\n",
       " '주선': 9564,\n",
       " '하지만': 400,\n",
       " '로부터': 317,\n",
       " '수': 63,\n",
       " '주일': 3684,\n",
       " '갑자기': 3497,\n",
       " '사망': 344,\n",
       " '정상': 1231,\n",
       " '회담': 2743,\n",
       " '이루어지': 2087,\n",
       " '지': 59,\n",
       " '못했': 777,\n",
       " '관타나모': 56115,\n",
       " '수용소': 5408,\n",
       " '관심': 1055,\n",
       " '유엔': 1795,\n",
       " '고등': 2058,\n",
       " '판무관': 20382,\n",
       " '제도': 500,\n",
       " '시행': 1405,\n",
       " '도록': 313,\n",
       " '독재자': 12656,\n",
       " '유린': 17133,\n",
       " '제약': 4054,\n",
       " '형사': 2023,\n",
       " '재판소': 3675,\n",
       " '만드': 1576,\n",
       " '같': 94,\n",
       " '범죄자': 10473,\n",
       " '회부': 15358,\n",
       " '처벌': 2666,\n",
       " '신장': 3473,\n",
       " '크': 244,\n",
       " '2011': 357,\n",
       " '4': 72,\n",
       " '29': 597,\n",
       " '경제': 321,\n",
       " '못하': 538,\n",
       " '발목': 9731,\n",
       " '잡혀': 10008,\n",
       " '란': 466,\n",
       " '재산': 1746,\n",
       " '풀': 1421,\n",
       " '겠': 701,\n",
       " '조건': 901,\n",
       " '사실상': 2898,\n",
       " '훨씬': 2081,\n",
       " '더': 148,\n",
       " '존경': 5184,\n",
       " '특이': 2755,\n",
       " '남': 277,\n",
       " '2002': 627,\n",
       " '역할': 509,\n",
       " '공로': 3517,\n",
       " '인정받': 2238,\n",
       " '노벨': 3347,\n",
       " '평화상': 14522,\n",
       " '이외': 1329,\n",
       " '물론': 1604,\n",
       " '지속': 969,\n",
       " '여러': 217,\n",
       " '장기': 2068,\n",
       " '집권': 2844,\n",
       " '왔': 694,\n",
       " '만난': 4684,\n",
       " '절대': 2440,\n",
       " '다수': 1350,\n",
       " '얼마': 2124,\n",
       " '않': 76,\n",
       " '맞이': 2778,\n",
       " \"'\": 69,\n",
       " '사신': 4176,\n",
       " '라는': 110,\n",
       " '붙': 1555,\n",
       " '</': 36,\n",
       " '>': 37,\n",
       " '9': 124,\n",
       " '수학': 1229,\n",
       " '數學': 82335,\n",
       " '줄여서': 5562,\n",
       " 'math': 38215,\n",
       " '양': 586,\n",
       " '구조': 339,\n",
       " '공간': 620,\n",
       " '변화': 635,\n",
       " '개념': 849,\n",
       " '다루': 1550,\n",
       " '학문': 1622,\n",
       " '널리': 1182,\n",
       " '받아들여': 4186,\n",
       " '명확': 3523,\n",
       " '정의': 571,\n",
       " '없': 114,\n",
       " '으나': 229,\n",
       " '현대': 589,\n",
       " '일반': 274,\n",
       " '엄밀': 12223,\n",
       " '논리': 2479,\n",
       " '근거': 1533,\n",
       " '추상': 5872,\n",
       " '대상': 585,\n",
       " '탐구': 5794,\n",
       " '규칙': 1750,\n",
       " '발견': 296,\n",
       " '제시': 1396,\n",
       " '이루어진다': 4751,\n",
       " '발전': 553,\n",
       " '어서': 381,\n",
       " '철학': 1197,\n",
       " '과학': 520,\n",
       " '연관': 2190,\n",
       " '맺': 1059,\n",
       " '다만': 1337,\n",
       " '특유': 5217,\n",
       " '성': 95,\n",
       " '보편': 3580,\n",
       " '다른': 128,\n",
       " '구별': 2192,\n",
       " '된다': 91,\n",
       " '여느': 23143,\n",
       " '분야': 744,\n",
       " '달리': 721,\n",
       " '자연': 710,\n",
       " '계': 287,\n",
       " '관측': 1450,\n",
       " '대해서': 782,\n",
       " '이론': 543,\n",
       " '화': 137,\n",
       " '시키': 325,\n",
       " '특징': 579,\n",
       " '수학자': 4874,\n",
       " '그러': 925,\n",
       " '추측': 2215,\n",
       " '적절': 3113,\n",
       " '공리': 7995,\n",
       " '연역': 25700,\n",
       " '거쳐': 774,\n",
       " '진위': 14457,\n",
       " '파악': 2706,\n",
       " '한다': 62,\n",
       " '기원전': 604,\n",
       " '600': 2598,\n",
       " '경': 716,\n",
       " '최초': 354,\n",
       " '여겨': 2661,\n",
       " '탈레스': 26616,\n",
       " '기록': 159,\n",
       " '고대': 917,\n",
       " '문명': 2833,\n",
       " '찾아볼': 6555,\n",
       " '인류': 2627,\n",
       " '오늘날': 1015,\n",
       " '사회': 227,\n",
       " '공학': 2106,\n",
       " '의학': 1884,\n",
       " '핵심': 2005,\n",
       " '다양': 398,\n",
       " '방식': 492,\n",
       " '응용': 2249,\n",
       " '의미': 322,\n",
       " '매스': 12199,\n",
       " '매': 1892,\n",
       " '틱': 3731,\n",
       " 'mathematics': 111638,\n",
       " '단어': 1331,\n",
       " '모든': 225,\n",
       " \"',\": 1596,\n",
       " '배우': 238,\n",
       " '뜻': 216,\n",
       " '그리스어': 3429,\n",
       " \"'(\": 1963,\n",
       " '활용형': 88742,\n",
       " '유래': 1000,\n",
       " '역사': 183,\n",
       " '이르': 607,\n",
       " '필수': 3153,\n",
       " '건축': 1310,\n",
       " '천문학': 4764,\n",
       " '상업': 1424,\n",
       " '교역': 4290,\n",
       " '분배': 4599,\n",
       " '과세': 12182,\n",
       " '생활': 485,\n",
       " '필요': 407,\n",
       " '계산': 1650,\n",
       " '관여': 3139,\n",
       " '농경': 12183,\n",
       " '천문': 7086,\n",
       " '달력': 11937,\n",
       " '제정': 1573,\n",
       " '토지': 1808,\n",
       " '측량': 10647,\n",
       " '사용': 98,\n",
       " '시킨': 1751,\n",
       " '인도': 630,\n",
       " '중국': 214,\n",
       " '그리스': 752,\n",
       " '방정식': 2469,\n",
       " '변수': 2640,\n",
       " '문자': 1051,\n",
       " '쓰': 442,\n",
       " '추상화': 44647,\n",
       " '유클리드': 8941,\n",
       " '원론': 22634,\n",
       " '논증': 11700,\n",
       " '나타난다': 2798,\n",
       " '16': 257,\n",
       " '세기': 252,\n",
       " '르네상스': 5086,\n",
       " '러서는': 14997,\n",
       " '방법': 462,\n",
       " '상호': 1238,\n",
       " '작용': 785,\n",
       " '통해': 192,\n",
       " '혁명': 867,\n",
       " '연구': 249,\n",
       " '진척': 22737,\n",
       " '발달': 1144,\n",
       " '미치': 1876,\n",
       " '세부': 3293,\n",
       " '각': 355,\n",
       " '숫자': 2198,\n",
       " '이해': 1148,\n",
       " '그리고': 186,\n",
       " '예견': 15864,\n",
       " '네': 336,\n",
       " '가지': 167,\n",
       " '목적': 650,\n",
       " '대략': 2434,\n",
       " '대응': 1448,\n",
       " '각각': 583,\n",
       " '산술': 11770,\n",
       " '대수학': 11451,\n",
       " '기하학': 4177,\n",
       " '해석학': 10052,\n",
       " '라': 133,\n",
       " '밖': 755,\n",
       " '근대': 1840,\n",
       " '나타난': 4640,\n",
       " '기초': 1247,\n",
       " '론': 687,\n",
       " '이산': 17728,\n",
       " '자연수': 6770,\n",
       " '정수': 4116,\n",
       " '사칙': 52703,\n",
       " '연산': 3847,\n",
       " '로서': 220,\n",
       " '시작': 139,\n",
       " '수론': 20253,\n",
       " '이런': 913,\n",
       " '주제': 1209,\n",
       " '보다': 196,\n",
       " '결과': 311,\n",
       " '페르마': 19903,\n",
       " '마지막': 577,\n",
       " '정리': 1003,\n",
       " '쌍둥이': 5965,\n",
       " '소수': 1864,\n",
       " '골드바': 123421,\n",
       " '흐': 2462,\n",
       " '비롯': 677,\n",
       " '오랜': 2315,\n",
       " '세월': 3649,\n",
       " '동안': 219,\n",
       " '여럿': 11875,\n",
       " '체계': 953,\n",
       " '집합': 1400,\n",
       " '유리수': 18970,\n",
       " '부분집합': 23091,\n",
       " '여기': 592,\n",
       " '실수': 2639,\n",
       " '또': 314,\n",
       " '다시': 209,\n",
       " '복소수': 8085,\n",
       " '일부분': 7819,\n",
       " '볼': 474,\n",
       " '나아가': 2903,\n",
       " '면': 104,\n",
       " '사원수': 29159,\n",
       " '팔원수': 58479,\n",
       " '생각': 405,\n",
       " '할': 71,\n",
       " '약간': 1642,\n",
       " '방향': 764,\n",
       " '무한대': 21600,\n",
       " '세': 112,\n",
       " '나간다는': 55021,\n",
       " '형식': 794,\n",
       " '순서수': 22831,\n",
       " '얻': 359,\n",
       " '크기': 861,\n",
       " '비교': 835,\n",
       " '이용': 301,\n",
       " '기수': 5727,\n",
       " '써서': 5861,\n",
       " '쉽': 1146,\n",
       " '마찬가지': 1225,\n",
       " '법칙': 1899,\n",
       " '간명': 71947,\n",
       " '나타내': 1367,\n",
       " '포함': 197,\n",
       " '고전': 1909,\n",
       " '대수': 1971,\n",
       " '연립': 7660,\n",
       " '해법': 17830,\n",
       " '군': 129,\n",
       " '환': 3486,\n",
       " '체': 1707,\n",
       " '와서': 3687,\n",
       " '대수계': 275910,\n",
       " '보': 175,\n",
       " '중심': 385,\n",
       " '선형': 3330,\n",
       " '전개': 1794,\n",
       " '이나': 172,\n",
       " '함수': 964,\n",
       " '내재': 10499,\n",
       " '보인다': 1030,\n",
       " '이러': 294,\n",
       " '특성': 1384,\n",
       " '군론': 26368,\n",
       " '환론': 48948,\n",
       " '외': 488,\n",
       " '수많': 1382,\n",
       " '그것': 619,\n",
       " '하나하나': 20710,\n",
       " '지닌': 2830,\n",
       " '벡터': 2901,\n",
       " '지식': 1647,\n",
       " '기하라': 111639,\n",
       " '개': 97,\n",
       " '조합': 2039,\n",
       " '미적분학': 24985,\n",
       " '영역': 1132,\n",
       " '추가': 595,\n",
       " '텐서': 10705,\n",
       " '대칭': 3926,\n",
       " '회전축': 37660,\n",
       " '아래': 513,\n",
       " '움직임': 2679,\n",
       " '눈금': 21035,\n",
       " '컴퍼스': 40758,\n",
       " '관련': 340,\n",
       " '미해결': 26869,\n",
       " '갈루아': 21969,\n",
       " '비로소': 6888,\n",
       " '삼각법': 57653,\n",
       " '결합': 989,\n",
       " '잘': 431,\n",
       " '알려진': 1071,\n",
       " '피타고라스': 14698,\n",
       " '높': 300,\n",
       " '차원': 1277,\n",
       " '상대': 563,\n",
       " '함': 270,\n",
       " '위상': 2575,\n",
       " '모두': 226,\n",
       " '해석': 1176,\n",
       " '미분기': 33278,\n",
       " '하학': 31263,\n",
       " '리': 425,\n",
       " '20': 195,\n",
       " '지류': 5602,\n",
       " '속': 291,\n",
       " '괄목': 39907,\n",
       " '만': 77,\n",
       " '성장': 862,\n",
       " '푸앵카레': 19904,\n",
       " '인간': 504,\n",
       " '의해서': 2064,\n",
       " '증명': 1723,\n",
       " '오직': 3264,\n",
       " '컴퓨터': 842,\n",
       " '색': 1156,\n",
       " '묘사': 1249,\n",
       " '강력': 1432,\n",
       " '도구': 2339,\n",
       " '중추': 7237,\n",
       " '으로써': 555,\n",
       " '떠오르': 9408,\n",
       " '실변수': 118327,\n",
       " '구성': 269,\n",
       " '실해': 80549,\n",
       " '석학': 16986,\n",
       " '알려': 1815,\n",
       " '복소': 12476,\n",
       " '라고': 108,\n",
       " '무한': 4727,\n",
       " '주목': 1590,\n",
       " '양자': 1762,\n",
       " '역학': 2951,\n",
       " '스럽': 2580,\n",
       " '율': 1341,\n",
       " '귀착': 71948,\n",
       " '미분': 4489,\n",
       " '진다': 2501,\n",
       " '현상': 1052,\n",
       " '동역학': 18048,\n",
       " '기술': 326,\n",
       " '될': 266,\n",
       " '혼돈': 13482,\n",
       " '예측': 2445,\n",
       " '불': 388,\n",
       " '가능': 222,\n",
       " '상당': 1661,\n",
       " '확실히': 6839,\n",
       " '세우': 1990,\n",
       " '수리': 2993,\n",
       " '논리학': 9369,\n",
       " '집합론': 15596,\n",
       " '더불': 1264,\n",
       " '범주론': 39446,\n",
       " '최근': 958,\n",
       " '“': 393,\n",
       " '”': 397,\n",
       " '1900': 2769,\n",
       " '1930': 1904,\n",
       " '사이': 190,\n",
       " '일어난': 1673,\n",
       " '상징': 1488,\n",
       " '보여': 833,\n",
       " '몇': 664,\n",
       " '의견': 1546,\n",
       " '일치': 2252,\n",
       " '논쟁': 2131,\n",
       " '촉발': 9937,\n",
       " '칸토어': 26437,\n",
       " '브라우어': 35813,\n",
       " '-': 65,\n",
       " '힐베르트': 10899,\n",
       " '뿐': 457,\n",
       " '아니': 207,\n",
       " '경제학': 3380,\n",
       " '예': 345,\n",
       " '정도': 285,\n",
       " '차이': 820,\n",
       " '과목': 4988,\n",
       " '확률론': 24774,\n",
       " '계량': 9802,\n",
       " '통계학': 11749,\n",
       " '마련': 1764,\n",
       " '갈릴레오': 11938,\n",
       " '갈릴레이': 14751,\n",
       " '책': 631,\n",
       " '언어': 568,\n",
       " '주장': 283,\n",
       " '물리학': 2837,\n",
       " '도입': 763,\n",
       " '아이작': 12399,\n",
       " '뉴턴': 6427,\n",
       " '기본': 718,\n",
       " '정립': 7374,\n",
       " '모델링': 12657,\n",
       " '요소': 962,\n",
       " '시기': 499,\n",
       " '한데': 5427,\n",
       " '음': 363,\n",
       " '드러나': 4298,\n",
       " '물리학상': 14752,\n",
       " '수상자': 3955,\n",
       " '유진': 9194,\n",
       " '위그너': 39609,\n",
       " '에세이': 12080,\n",
       " 'The': 610,\n",
       " 'effectiveness': 192646,\n",
       " 'of': 519,\n",
       " 'in': 1692,\n",
       " 'natural': 52388,\n",
       " 'sciences': 105885,\n",
       " '세상': 1365,\n",
       " '동떨어져': 64943,\n",
       " '현실': 1777,\n",
       " '아무': 3111,\n",
       " '다고': 131,\n",
       " '극히': 6105,\n",
       " '일부': 236,\n",
       " '뜻밖에': 45786,\n",
       " '효과': 756,\n",
       " '토대': 3801,\n",
       " '놀라움': 33279,\n",
       " '표현': 564,\n",
       " '이상': 240,\n",
       " '임의': 2578,\n",
       " '먼': 923,\n",
       " '훗날': 2582,\n",
       " '따라': 184,\n",
       " '물리': 2214,\n",
       " '밝혀졌': 3140,\n",
       " '게이지': 6389,\n",
       " '장론': 13441,\n",
       " '음악': 316,\n",
       " '미술': 1955,\n",
       " '예술': 936,\n",
       " '비율': 1814,\n",
       " '듣': 1639,\n",
       " '좋': 443,\n",
       " '소리': 1307,\n",
       " '난다는': 51761,\n",
       " '점': 275,\n",
       " '음계': 18371,\n",
       " '만들': 199,\n",
       " '중세': 1996,\n",
       " '시대': 201,\n",
       " '밀접': 4653,\n",
       " '시켰으며': 7779,\n",
       " '빅토르': 6917,\n",
       " '후고': 26806,\n",
       " '조화': 4156,\n",
       " '트론드': 165278,\n",
       " '루돌프': 7078,\n",
       " 'ratio': 49484,\n",
       " '쓴': 1512,\n",
       " '바': 490,\n",
       " '반드시': 2638,\n",
       " '불과': 1924,\n",
       " '저술가': 16421,\n",
       " '는가': 2600,\n",
       " '비례': 2720,\n",
       " '거의': 512,\n",
       " '청각': 10536,\n",
       " '이중': 3083,\n",
       " '측면': 1575,\n",
       " '群': 13058,\n",
       " 'group': 21480,\n",
       " '분석': 950,\n",
       " '원근법': 49226,\n",
       " '사영': 9041,\n",
       " '해당': 404,\n",
       " '사조': 14542,\n",
       " '입체파': 63423,\n",
       " '상수': 3576,\n",
       " '값': 1167,\n",
       " '변하': 3545,\n",
       " '불변량': 23376,\n",
       " '반대말': 48408,\n",
       " '측정': 1479,\n",
       " '상관없이': 9504,\n",
       " '대개': 2831,\n",
       " '실수체': 38216,\n",
       " '복소수체': 37258,\n",
       " '원소': 1390,\n",
       " '우리': 502,\n",
       " '이야기': 588,\n",
       " '대부분': 320,\n",
       " '특정': 894,\n",
       " '골': 552,\n",
       " '롬': 6430,\n",
       " '딕맨': 171118,\n",
       " ...}"
      ]
     },
     "execution_count": 45,
     "metadata": {},
     "output_type": "execute_result"
    }
   ],
   "source": [
    "# 확인용\n",
    "word2vec.wv.key_to_index"
   ]
  },
  {
   "cell_type": "code",
   "execution_count": 46,
   "id": "2dc9a0b1",
   "metadata": {},
   "outputs": [
    {
     "data": {
      "text/plain": [
       "[('이별', 0.7626414895057678),\n",
       " ('행복', 0.7550068497657776),\n",
       " ('슬픔', 0.7381505966186523),\n",
       " ('유혹', 0.7238055467605591),\n",
       " ('그리움', 0.7167419195175171),\n",
       " ('추억', 0.7143999338150024),\n",
       " ('꿈', 0.7089294195175171),\n",
       " ('애정', 0.7066588997840881),\n",
       " ('포옹', 0.7034594416618347),\n",
       " ('마음', 0.6972615718841553)]"
      ]
     },
     "execution_count": 46,
     "metadata": {},
     "output_type": "execute_result"
    }
   ],
   "source": [
    "# 유사도 확인 \n",
    "word2vec.wv.similar_by_word('사랑')"
   ]
  },
  {
   "cell_type": "markdown",
   "id": "2b73dbd3",
   "metadata": {},
   "source": [
    "> '사랑'과 유사도가 가장 높은 단어는 '이별'"
   ]
  },
  {
   "cell_type": "markdown",
   "id": "41395f21",
   "metadata": {},
   "source": [
    "## 이전 스텝에서 학습했던 모델의 임베딩 레이어를 이미 잘 학습된 한글 Word2Vec으로 교체하여 다시 학습시킴"
   ]
  },
  {
   "cell_type": "code",
   "execution_count": 47,
   "id": "f4f93202",
   "metadata": {},
   "outputs": [],
   "source": [
    "vocab_size = 10000        # 기존에 만들었던 임베딩 어휘 사전의 크기입니다(10,000개의 단어)\n",
    "word_vector_dim = 100     # 이미 학습된 한글 word2vec의 벡터의 차원수\n",
    "embedding_matrix = np.random.rand(vocab_size, word_vector_dim)        # 아무 수로 embedding 행렬을 채움\n",
    "\n",
    "# embedding_matrix에 Word2Vec 워드 벡터를 단어 하나씩마다 차례차례 카피한다.\n",
    "for i in range(4,vocab_size):\n",
    "    if index_to_word[i] in word2vec.wv:\n",
    "        embedding_matrix[i] = word2vec.wv[index_to_word[i]]           # 해당 단어의 Google Word2Vec에서 embedding 차원 벡터를 가져와 새롭게 만든 embedding행렬에 넣음"
   ]
  },
  {
   "cell_type": "code",
   "execution_count": 48,
   "id": "c5792b64",
   "metadata": {},
   "outputs": [
    {
     "name": "stdout",
     "output_type": "stream",
     "text": [
      "Model: \"sequential_3\"\n",
      "_________________________________________________________________\n",
      "Layer (type)                 Output Shape              Param #   \n",
      "=================================================================\n",
      "embedding_3 (Embedding)      (None, 41, 100)           1000000   \n",
      "_________________________________________________________________\n",
      "lstm_1 (LSTM)                (None, 128)               117248    \n",
      "_________________________________________________________________\n",
      "dense_6 (Dense)              (None, 8)                 1032      \n",
      "_________________________________________________________________\n",
      "dense_7 (Dense)              (None, 1)                 9         \n",
      "=================================================================\n",
      "Total params: 1,118,289\n",
      "Trainable params: 1,118,289\n",
      "Non-trainable params: 0\n",
      "_________________________________________________________________\n"
     ]
    }
   ],
   "source": [
    "from tensorflow.keras.initializers import Constant\n",
    "\n",
    "vocab_size = 10000        # 기존에 만들었던 임베딩 어휘 사전의 크기입니다(10,000개의 단어)\n",
    "word_vector_dim = 100     # 이미 학습된 한글 word2vec의 벡터의 차원수\n",
    "\n",
    "model = tf.keras.Sequential()\n",
    "model.add(tf.keras.layers.Embedding(vocab_size, \n",
    "                                 word_vector_dim, \n",
    "                                 embeddings_initializer=Constant(embedding_matrix),  # 카피한 임베딩을 여기서 활용\n",
    "                                 input_length=maxlen, \n",
    "                                 trainable=True))                        # trainable을 True로 주면 Fine-tuning\n",
    "model.add(tf.keras.layers.LSTM(128))   # 가장 널리 쓰이는 RNN인 LSTM 레이어를 사용하였습니다. 이때 LSTM state 벡터의 차원수는 128로 하였습니다. (변경 가능)\n",
    "model.add(tf.keras.layers.Dense(8, activation='relu'))\n",
    "model.add(tf.keras.layers.Dense(1, activation='sigmoid'))  # 최종 출력은 긍정/부정을 나타내는 1dim 입니다.\n",
    "\n",
    "model.summary()"
   ]
  },
  {
   "cell_type": "code",
   "execution_count": 49,
   "id": "b3a45864",
   "metadata": {},
   "outputs": [
    {
     "name": "stdout",
     "output_type": "stream",
     "text": [
      "Epoch 1/7\n",
      "227/227 [==============================] - 4s 13ms/step - loss: 0.4785 - accuracy: 0.7649 - val_loss: 0.3908 - val_accuracy: 0.8249\n",
      "Epoch 2/7\n",
      "227/227 [==============================] - 2s 11ms/step - loss: 0.3544 - accuracy: 0.8435 - val_loss: 0.3444 - val_accuracy: 0.8468\n",
      "Epoch 3/7\n",
      "227/227 [==============================] - 2s 11ms/step - loss: 0.3048 - accuracy: 0.8690 - val_loss: 0.3340 - val_accuracy: 0.8541\n",
      "Epoch 4/7\n",
      "227/227 [==============================] - 2s 11ms/step - loss: 0.2727 - accuracy: 0.8856 - val_loss: 0.3221 - val_accuracy: 0.8623\n",
      "Epoch 5/7\n",
      "227/227 [==============================] - 2s 11ms/step - loss: 0.2464 - accuracy: 0.8980 - val_loss: 0.3233 - val_accuracy: 0.8635\n",
      "Epoch 6/7\n",
      "227/227 [==============================] - 2s 11ms/step - loss: 0.2227 - accuracy: 0.9100 - val_loss: 0.3403 - val_accuracy: 0.8603\n",
      "Epoch 7/7\n",
      "227/227 [==============================] - 2s 11ms/step - loss: 0.1996 - accuracy: 0.9209 - val_loss: 0.3448 - val_accuracy: 0.8623\n"
     ]
    }
   ],
   "source": [
    "# 학습의 진행\n",
    "model.compile(optimizer='adam',\n",
    "              loss='binary_crossentropy',\n",
    "              metrics=['accuracy'])\n",
    "              \n",
    "epochs=7                                     # 몇 epoch를 훈련하면 좋을지 결과를 보면서 바꾸어 봅시다. \n",
    "\n",
    "history = model.fit(partial_X_train,\n",
    "                    partial_y_train,\n",
    "                    epochs=epochs,\n",
    "                    batch_size=512,\n",
    "                    validation_data=(X_val, y_val),\n",
    "                    verbose=1)"
   ]
  },
  {
   "cell_type": "code",
   "execution_count": 50,
   "id": "9d1d795e",
   "metadata": {},
   "outputs": [
    {
     "name": "stdout",
     "output_type": "stream",
     "text": [
      "1537/1537 - 3s - loss: 0.3549 - accuracy: 0.8581\n",
      "[0.3548921048641205, 0.8580670356750488]\n"
     ]
    }
   ],
   "source": [
    "# 테스트셋을 통한 모델 평가\n",
    "results = model.evaluate(X_test,  y_test, verbose=2)\n",
    "\n",
    "print(results)"
   ]
  },
  {
   "cell_type": "markdown",
   "id": "11c84234",
   "metadata": {},
   "source": [
    "# STEP 9. 회고"
   ]
  },
  {
   "cell_type": "markdown",
   "id": "701d550b",
   "metadata": {},
   "source": [
    "1. 이번 프로젝트에서 어려웠던 점 \n",
    "    - 프로젝트 시작하기 전까지 읽어야 할 노드를 이해하는데 힘들었다\n",
    "    - 실제 모델을 설정하고 정확도를 높이기까지 여러 방법을 시도했는데 결과를 달성하기가 너무 힘들었다\n",
    "    - 모델 레이어를 쌓는 것이 실제로 많은 영향을 끼치는데 더 나은 방법을 찾는게 힘들었다\n",
    "\n",
    "    \n",
    "2. 프로젝트를 진행하면서 알아낸 점 혹은 아직 모호한 점\n",
    "    - 많은 데이터로 학습된 word2vec이 가장 좋은 결과를 가져다 준다는 것을 알았다. 즉 데이터 품질이 좋아야 한다\n",
    "    - 단어의 유의어와 유사도라는 개념을 알게 되었다\n",
    "    - 3가지 모델 모두가 다른 결과값을 도출하였고 많은 방법이 있음을 알게 되었다\n",
    "\n",
    "\n",
    "3. 루브릭 평가 지표를 맞추기 위해 시도한 것들\n",
    "    - 3가지 모델을 모두 사용해봤음\n",
    "    - 필자가 만든 임베딩으로 한 것과 이미 잘 학습된 고급 word2vec을 받아서 모델을 학습시킨 것을 비교했다\n",
    "    - 정확도 85%이상 달성했다\n",
    "\n",
    "    \n",
    "4. 만약에 루브릭 평가 관련 지표를 달성 하지 못했을 때, 이유에 관한 추정  \n",
    "    - 달성함\n",
    "\n",
    "    \n",
    "5. 자기 다짐\n",
    "    - RNN의 개념은 이해했지만 실제로 적용해보니 어떻게 해야 정확도를 끌어올릴지 고민은 많이해봤다. 그러나 아직도 부족함을 느끼고 여러 자료들을 찾고 다시 시도해겠다\n",
    "    \n",
    "6. 3가지 모델\n",
    "    - RNN 모델 : accuracy 0.8412\n",
    "    - 1D CNN 모델 : accuracy 0.8296\n",
    "    - GlobalMaxPooling1d 모델 : accuracy 0.8358\n",
    "        \n",
    "-> RNN모델이 가장 높아 한국어 Word2vec에서는 RNN 모델 선택함\n",
    "\n",
    "\n",
    "7. 한국어 Word2Vec을 이용한 LSTM모델\n",
    "- LSTM 출력 units을 8에서 128까지 변경하면서 시도했음\n",
    "- epoch은 6-8정도에 손실값이 증가하는 경향을 보이기 때문에 6-10 사이에서만 값을 설정\n",
    "- batchsize는 512로 고정했음\n",
    "\n",
    "-> LSTM을 128로 했을 때 accuracy 0.8595를 달성함\n",
    "\n",
    "    "
   ]
  }
 ],
 "metadata": {
  "kernelspec": {
   "display_name": "Python 3 (ipykernel)",
   "language": "python",
   "name": "python3"
  },
  "language_info": {
   "codemirror_mode": {
    "name": "ipython",
    "version": 3
   },
   "file_extension": ".py",
   "mimetype": "text/x-python",
   "name": "python",
   "nbconvert_exporter": "python",
   "pygments_lexer": "ipython3",
   "version": "3.9.7"
  }
 },
 "nbformat": 4,
 "nbformat_minor": 5
}

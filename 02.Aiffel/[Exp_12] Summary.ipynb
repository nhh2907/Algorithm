{
 "cells": [
  {
   "cell_type": "markdown",
   "id": "e7198bd3",
   "metadata": {},
   "source": [
    "새로운 데이터셋에 대해서 추상적 요약과 추출적 요약을 모두 해보는 시간을 가져봐요.\n",
    "\n",
    "먼저 주요 라이브러리 버전을 확인해 보죠."
   ]
  },
  {
   "cell_type": "code",
   "execution_count": 1,
   "id": "fb892d6f",
   "metadata": {},
   "outputs": [
    {
     "name": "stderr",
     "output_type": "stream",
     "text": [
      "[nltk_data] Downloading package stopwords to /aiffel/nltk_data...\n",
      "[nltk_data]   Unzipping corpora/stopwords.zip.\n"
     ]
    }
   ],
   "source": [
    "import nltk\n",
    "nltk.download('stopwords')\n",
    "\n",
    "import numpy as np\n",
    "import pandas as pd\n",
    "import os\n",
    "import re\n",
    "import matplotlib.pyplot as plt\n",
    "from nltk.corpus import stopwords\n",
    "from bs4 import BeautifulSoup \n",
    "from tensorflow.keras.preprocessing.text import Tokenizer \n",
    "from tensorflow.keras.preprocessing.sequence import pad_sequences\n",
    "import urllib.request"
   ]
  },
  {
   "cell_type": "markdown",
   "id": "7e25da31",
   "metadata": {},
   "source": [
    "# Step 1. 데이터 수집하기\n",
    "\n",
    "데이터는 아래 링크에 있는 뉴스 기사 데이터(news_summary_more.csv)를 사용하세요.\n",
    "\n",
    "- [sunnysai12345/News_Summary](https://github.com/sunnysai12345/News_Summary)\n",
    "\n",
    "아래의 코드로 데이터를 다운로드할 수 있어요."
   ]
  },
  {
   "cell_type": "code",
   "execution_count": 2,
   "id": "8d3954ae",
   "metadata": {},
   "outputs": [],
   "source": [
    "import urllib.request\n",
    "urllib.request.urlretrieve(\"https://raw.githubusercontent.com/sunnysai12345/News_Summary/master/news_summary_more.csv\", filename=\"news_summary_more.csv\")\n",
    "data = pd.read_csv('news_summary_more.csv', encoding='iso-8859-1', names=['Headlines', 'Text'])"
   ]
  },
  {
   "cell_type": "code",
   "execution_count": 3,
   "id": "6c7f1443",
   "metadata": {},
   "outputs": [
    {
     "data": {
      "text/html": [
       "<div>\n",
       "<style scoped>\n",
       "    .dataframe tbody tr th:only-of-type {\n",
       "        vertical-align: middle;\n",
       "    }\n",
       "\n",
       "    .dataframe tbody tr th {\n",
       "        vertical-align: top;\n",
       "    }\n",
       "\n",
       "    .dataframe thead th {\n",
       "        text-align: right;\n",
       "    }\n",
       "</style>\n",
       "<table border=\"1\" class=\"dataframe\">\n",
       "  <thead>\n",
       "    <tr style=\"text-align: right;\">\n",
       "      <th></th>\n",
       "      <th>Headlines</th>\n",
       "      <th>Text</th>\n",
       "    </tr>\n",
       "  </thead>\n",
       "  <tbody>\n",
       "    <tr>\n",
       "      <th>36690</th>\n",
       "      <td>AI will destroy humanity without thinking abou...</td>\n",
       "      <td>Elon Musk has said, \"If AI (artificial intelli...</td>\n",
       "    </tr>\n",
       "    <tr>\n",
       "      <th>48342</th>\n",
       "      <td>Constable in Prez Kovind's security arrested i...</td>\n",
       "      <td>A constable deployed for President Ram Nath Ko...</td>\n",
       "    </tr>\n",
       "    <tr>\n",
       "      <th>53557</th>\n",
       "      <td>Dil bada hai ghar khula hai: Johar on calling ...</td>\n",
       "      <td>Karan Johar, on being asked if Kangana Ranaut ...</td>\n",
       "    </tr>\n",
       "    <tr>\n",
       "      <th>64102</th>\n",
       "      <td>Tallinn named 2018's best destination for valu...</td>\n",
       "      <td>Estonian capital city Tallinn has been named t...</td>\n",
       "    </tr>\n",
       "    <tr>\n",
       "      <th>31627</th>\n",
       "      <td>Nissan Terrano Sport Edition launched in India...</td>\n",
       "      <td>Japanese automaker Nissan has launched Terrano...</td>\n",
       "    </tr>\n",
       "    <tr>\n",
       "      <th>51329</th>\n",
       "      <td>Gave strong message that India can kill its en...</td>\n",
       "      <td>Home Minister Rajnath Singh on Sunday said tha...</td>\n",
       "    </tr>\n",
       "    <tr>\n",
       "      <th>25219</th>\n",
       "      <td>Rahul Gandhi winks after hugging PM Modi in Lo...</td>\n",
       "      <td>Congress President Rahul Gandhi winked at fell...</td>\n",
       "    </tr>\n",
       "    <tr>\n",
       "      <th>22755</th>\n",
       "      <td>Hated 'tumhari life bana rahe' attitude of pro...</td>\n",
       "      <td>Deepak Dobriyal, who played the role of 'Pappi...</td>\n",
       "    </tr>\n",
       "    <tr>\n",
       "      <th>22758</th>\n",
       "      <td>Ex-world no. 1 Murray jumps 457 spots to no. 3...</td>\n",
       "      <td>Three-time Grand Slam winner Andy Murray, who ...</td>\n",
       "    </tr>\n",
       "    <tr>\n",
       "      <th>5662</th>\n",
       "      <td>Boeing to buy 80% of Embraer's commercial jet ...</td>\n",
       "      <td>US planemaker Boeing on Monday announced it wi...</td>\n",
       "    </tr>\n",
       "  </tbody>\n",
       "</table>\n",
       "</div>"
      ],
      "text/plain": [
       "                                               Headlines  \\\n",
       "36690  AI will destroy humanity without thinking abou...   \n",
       "48342  Constable in Prez Kovind's security arrested i...   \n",
       "53557  Dil bada hai ghar khula hai: Johar on calling ...   \n",
       "64102  Tallinn named 2018's best destination for valu...   \n",
       "31627  Nissan Terrano Sport Edition launched in India...   \n",
       "51329  Gave strong message that India can kill its en...   \n",
       "25219  Rahul Gandhi winks after hugging PM Modi in Lo...   \n",
       "22755  Hated 'tumhari life bana rahe' attitude of pro...   \n",
       "22758  Ex-world no. 1 Murray jumps 457 spots to no. 3...   \n",
       "5662   Boeing to buy 80% of Embraer's commercial jet ...   \n",
       "\n",
       "                                                    Text  \n",
       "36690  Elon Musk has said, \"If AI (artificial intelli...  \n",
       "48342  A constable deployed for President Ram Nath Ko...  \n",
       "53557  Karan Johar, on being asked if Kangana Ranaut ...  \n",
       "64102  Estonian capital city Tallinn has been named t...  \n",
       "31627  Japanese automaker Nissan has launched Terrano...  \n",
       "51329  Home Minister Rajnath Singh on Sunday said tha...  \n",
       "25219  Congress President Rahul Gandhi winked at fell...  \n",
       "22755  Deepak Dobriyal, who played the role of 'Pappi...  \n",
       "22758  Three-time Grand Slam winner Andy Murray, who ...  \n",
       "5662   US planemaker Boeing on Monday announced it wi...  "
      ]
     },
     "execution_count": 3,
     "metadata": {},
     "output_type": "execute_result"
    }
   ],
   "source": [
    "data.sample(10)"
   ]
  },
  {
   "cell_type": "code",
   "execution_count": 4,
   "id": "92e823f6",
   "metadata": {},
   "outputs": [
    {
     "name": "stdout",
     "output_type": "stream",
     "text": [
      "<class 'pandas.core.frame.DataFrame'>\n",
      "RangeIndex: 98402 entries, 0 to 98401\n",
      "Data columns (total 2 columns):\n",
      " #   Column     Non-Null Count  Dtype \n",
      "---  ------     --------------  ----- \n",
      " 0   Headlines  98402 non-null  object\n",
      " 1   Text       98402 non-null  object\n",
      "dtypes: object(2)\n",
      "memory usage: 1.5+ MB\n"
     ]
    }
   ],
   "source": [
    "data.info()"
   ]
  },
  {
   "cell_type": "markdown",
   "id": "a1f155d9",
   "metadata": {},
   "source": [
    "이 데이터는 기사의 본문에 해당되는 text와 headlines 두 가지 열로 구성되어져 있습니다.\n",
    "\n",
    "추상적 요약을 하는 경우에는 text를 본문, headlines를 이미 요약된 데이터로 삼아서 모델을 학습할 수 있어요. 추출적 요약을 하는 경우에는 오직 text열만을 사용하세요.\n",
    "\n"
   ]
  },
  {
   "cell_type": "markdown",
   "id": "d18dd52d",
   "metadata": {},
   "source": [
    "# Step 2. 데이터 전처리하기 (추상적 요약)\n",
    "실습에서 사용된 전처리를 참고하여 각자 필요하다고 생각하는 전처리를 추가 사용하여 텍스트를 정규화 또는 정제해 보세요. 만약, 불용어 제거를 선택한다면 상대적으로 길이가 짧은 요약 데이터에 대해서도 불용어를 제거하는 것이 좋을지 고민해 보세요."
   ]
  },
  {
   "cell_type": "markdown",
   "id": "27de8efc",
   "metadata": {},
   "source": [
    "## 2.1 중복 샘플과 NULL 값이 존재하는 샘플 제거"
   ]
  },
  {
   "cell_type": "code",
   "execution_count": 5,
   "id": "8ab62340",
   "metadata": {},
   "outputs": [
    {
     "name": "stdout",
     "output_type": "stream",
     "text": [
      "text 열에서 중복을 배제한 유일한 샘플의 수 : 98360\n",
      "headlines 열에서 중복을 배제한 유일한 샘플의 수 : 98280\n"
     ]
    }
   ],
   "source": [
    "print('text 열에서 중복을 배제한 유일한 샘플의 수 :', data['Text'].nunique())\n",
    "print('headlines 열에서 중복을 배제한 유일한 샘플의 수 :', data['Headlines'].nunique())"
   ]
  },
  {
   "cell_type": "code",
   "execution_count": 6,
   "id": "55c71537",
   "metadata": {},
   "outputs": [
    {
     "name": "stdout",
     "output_type": "stream",
     "text": [
      "전체 샘플수 : 98360\n"
     ]
    }
   ],
   "source": [
    "# inplace=True 를 설정하면 DataFrame 타입 값을 return 하지 않고 data 내부를 직접적으로 바꿉니다\n",
    "data.drop_duplicates(subset = ['Text'], inplace=True)\n",
    "print('전체 샘플수 :', (len(data)))"
   ]
  },
  {
   "cell_type": "code",
   "execution_count": 7,
   "id": "c218a0bc",
   "metadata": {},
   "outputs": [
    {
     "name": "stdout",
     "output_type": "stream",
     "text": [
      "Headlines    0\n",
      "Text         0\n",
      "dtype: int64\n"
     ]
    }
   ],
   "source": [
    "# 결측치 확인\n",
    "print(data.isnull().sum())"
   ]
  },
  {
   "cell_type": "code",
   "execution_count": 8,
   "id": "ccd04034",
   "metadata": {},
   "outputs": [
    {
     "name": "stdout",
     "output_type": "stream",
     "text": [
      "전체 샘플수 : 98360\n"
     ]
    }
   ],
   "source": [
    "# 결측치 제거\n",
    "data.dropna(axis=0, inplace=True)\n",
    "print('전체 샘플수 :', (len(data)))"
   ]
  },
  {
   "cell_type": "markdown",
   "id": "d59c23a0",
   "metadata": {},
   "source": [
    "## 2.2 텍스트 정규화와 불용어 제거"
   ]
  },
  {
   "cell_type": "code",
   "execution_count": 9,
   "id": "7e737e74",
   "metadata": {},
   "outputs": [
    {
     "name": "stdout",
     "output_type": "stream",
     "text": [
      "정규화 사전의 수:  120\n"
     ]
    }
   ],
   "source": [
    "contractions = {\"ain't\": \"is not\", \"aren't\": \"are not\",\"can't\": \"cannot\", \"'cause\": \"because\", \"could've\": \"could have\", \"couldn't\": \"could not\",\n",
    "                           \"didn't\": \"did not\",  \"doesn't\": \"does not\", \"don't\": \"do not\", \"hadn't\": \"had not\", \"hasn't\": \"has not\", \"haven't\": \"have not\",\n",
    "                           \"he'd\": \"he would\",\"he'll\": \"he will\", \"he's\": \"he is\", \"how'd\": \"how did\", \"how'd'y\": \"how do you\", \"how'll\": \"how will\", \"how's\": \"how is\",\n",
    "                           \"I'd\": \"I would\", \"I'd've\": \"I would have\", \"I'll\": \"I will\", \"I'll've\": \"I will have\",\"I'm\": \"I am\", \"I've\": \"I have\", \"i'd\": \"i would\",\n",
    "                           \"i'd've\": \"i would have\", \"i'll\": \"i will\",  \"i'll've\": \"i will have\",\"i'm\": \"i am\", \"i've\": \"i have\", \"isn't\": \"is not\", \"it'd\": \"it would\",\n",
    "                           \"it'd've\": \"it would have\", \"it'll\": \"it will\", \"it'll've\": \"it will have\",\"it's\": \"it is\", \"let's\": \"let us\", \"ma'am\": \"madam\",\n",
    "                           \"mayn't\": \"may not\", \"might've\": \"might have\",\"mightn't\": \"might not\",\"mightn't've\": \"might not have\", \"must've\": \"must have\",\n",
    "                           \"mustn't\": \"must not\", \"mustn't've\": \"must not have\", \"needn't\": \"need not\", \"needn't've\": \"need not have\",\"o'clock\": \"of the clock\",\n",
    "                           \"oughtn't\": \"ought not\", \"oughtn't've\": \"ought not have\", \"shan't\": \"shall not\", \"sha'n't\": \"shall not\", \"shan't've\": \"shall not have\",\n",
    "                           \"she'd\": \"she would\", \"she'd've\": \"she would have\", \"she'll\": \"she will\", \"she'll've\": \"she will have\", \"she's\": \"she is\",\n",
    "                           \"should've\": \"should have\", \"shouldn't\": \"should not\", \"shouldn't've\": \"should not have\", \"so've\": \"so have\",\"so's\": \"so as\",\n",
    "                           \"this's\": \"this is\",\"that'd\": \"that would\", \"that'd've\": \"that would have\", \"that's\": \"that is\", \"there'd\": \"there would\",\n",
    "                           \"there'd've\": \"there would have\", \"there's\": \"there is\", \"here's\": \"here is\",\"they'd\": \"they would\", \"they'd've\": \"they would have\",\n",
    "                           \"they'll\": \"they will\", \"they'll've\": \"they will have\", \"they're\": \"they are\", \"they've\": \"they have\", \"to've\": \"to have\",\n",
    "                           \"wasn't\": \"was not\", \"we'd\": \"we would\", \"we'd've\": \"we would have\", \"we'll\": \"we will\", \"we'll've\": \"we will have\", \"we're\": \"we are\",\n",
    "                           \"we've\": \"we have\", \"weren't\": \"were not\", \"what'll\": \"what will\", \"what'll've\": \"what will have\", \"what're\": \"what are\",\n",
    "                           \"what's\": \"what is\", \"what've\": \"what have\", \"when's\": \"when is\", \"when've\": \"when have\", \"where'd\": \"where did\", \"where's\": \"where is\",\n",
    "                           \"where've\": \"where have\", \"who'll\": \"who will\", \"who'll've\": \"who will have\", \"who's\": \"who is\", \"who've\": \"who have\",\n",
    "                           \"why's\": \"why is\", \"why've\": \"why have\", \"will've\": \"will have\", \"won't\": \"will not\", \"won't've\": \"will not have\",\n",
    "                           \"would've\": \"would have\", \"wouldn't\": \"would not\", \"wouldn't've\": \"would not have\", \"y'all\": \"you all\",\n",
    "                           \"y'all'd\": \"you all would\",\"y'all'd've\": \"you all would have\",\"y'all're\": \"you all are\",\"y'all've\": \"you all have\",\n",
    "                           \"you'd\": \"you would\", \"you'd've\": \"you would have\", \"you'll\": \"you will\", \"you'll've\": \"you will have\",\n",
    "                           \"you're\": \"you are\", \"you've\": \"you have\"}\n",
    "\n",
    "print(\"정규화 사전의 수: \", len(contractions))"
   ]
  },
  {
   "cell_type": "code",
   "execution_count": 10,
   "id": "3d8b3346",
   "metadata": {},
   "outputs": [
    {
     "name": "stdout",
     "output_type": "stream",
     "text": [
      "불용어 개수 : 179\n",
      "['i', 'me', 'my', 'myself', 'we', 'our', 'ours', 'ourselves', 'you', \"you're\", \"you've\", \"you'll\", \"you'd\", 'your', 'yours', 'yourself', 'yourselves', 'he', 'him', 'his', 'himself', 'she', \"she's\", 'her', 'hers', 'herself', 'it', \"it's\", 'its', 'itself', 'they', 'them', 'their', 'theirs', 'themselves', 'what', 'which', 'who', 'whom', 'this', 'that', \"that'll\", 'these', 'those', 'am', 'is', 'are', 'was', 'were', 'be', 'been', 'being', 'have', 'has', 'had', 'having', 'do', 'does', 'did', 'doing', 'a', 'an', 'the', 'and', 'but', 'if', 'or', 'because', 'as', 'until', 'while', 'of', 'at', 'by', 'for', 'with', 'about', 'against', 'between', 'into', 'through', 'during', 'before', 'after', 'above', 'below', 'to', 'from', 'up', 'down', 'in', 'out', 'on', 'off', 'over', 'under', 'again', 'further', 'then', 'once', 'here', 'there', 'when', 'where', 'why', 'how', 'all', 'any', 'both', 'each', 'few', 'more', 'most', 'other', 'some', 'such', 'no', 'nor', 'not', 'only', 'own', 'same', 'so', 'than', 'too', 'very', 's', 't', 'can', 'will', 'just', 'don', \"don't\", 'should', \"should've\", 'now', 'd', 'll', 'm', 'o', 're', 've', 'y', 'ain', 'aren', \"aren't\", 'couldn', \"couldn't\", 'didn', \"didn't\", 'doesn', \"doesn't\", 'hadn', \"hadn't\", 'hasn', \"hasn't\", 'haven', \"haven't\", 'isn', \"isn't\", 'ma', 'mightn', \"mightn't\", 'mustn', \"mustn't\", 'needn', \"needn't\", 'shan', \"shan't\", 'shouldn', \"shouldn't\", 'wasn', \"wasn't\", 'weren', \"weren't\", 'won', \"won't\", 'wouldn', \"wouldn't\"]\n"
     ]
    }
   ],
   "source": [
    "print('불용어 개수 :', len(stopwords.words('english') ))\n",
    "print(stopwords.words('english'))"
   ]
  },
  {
   "cell_type": "code",
   "execution_count": 11,
   "id": "c8369f09",
   "metadata": {},
   "outputs": [],
   "source": [
    "# 데이터 전처리 함수\n",
    "def preprocess_sentence(sentence, remove_stopwords=True):\n",
    "    sentence = sentence.lower() # 텍스트 소문자화\n",
    "    sentence = BeautifulSoup(sentence, \"lxml\").text  # <br />, <a href = ...> 등의 html 태그 제거\n",
    "    sentence = re.sub(r'\\([^)]*\\)', '', sentence)    # 괄호로 닫힌 문자열 (...) 제거 Ex) my husband (and myself!) for => my husband for\n",
    "    sentence = re.sub('\"','', sentence)              # 쌍따옴표 \" 제거\n",
    "    sentence = ' '.join([contractions[t] if t in contractions else t for t in sentence.split(' ')]) # 약어 정규화\n",
    "    sentence = re.sub(r\"'s\\b\",\"\", sentence) # 소유격 제거. Ex) roland's -> roland, \\b : 단어와 단어 사이의 경계 boundary\n",
    "    sentence = re.sub(\"[^a-zA-Z]\", \" \", sentence) # 영어 외 문자(숫자, 특수문자 등) 공백으로 변환\n",
    "    sentence = re.sub('[m]{2,}', 'mm', sentence) # m이 2개 이상이면 2개로 변경. Ex) ummmmmmm yeah -> umm yeah\n",
    "    \n",
    "    # 불용어 제거 (Text)\n",
    "    if remove_stopwords:\n",
    "        tokens = ' '.join(word for word in sentence.split() if not word in stopwords.words('english') if len(word) > 1)\n",
    "    \n",
    "    # 불용어 미제거 (Summary)\n",
    "    else:\n",
    "        tokens = ' '.join(word for word in sentence.split() if len(word) > 1)\n",
    "        \n",
    "    return tokens"
   ]
  },
  {
   "cell_type": "code",
   "execution_count": 12,
   "id": "c4d54b79",
   "metadata": {},
   "outputs": [
    {
     "name": "stdout",
     "output_type": "stream",
     "text": [
      "text:  everything bought great infact ordered twice third ordered wasfor mother father\n",
      "headlines: great way to start mm the day\n"
     ]
    }
   ],
   "source": [
    "# preprocess_sentence 함수 확인해보기\n",
    "temp_text = 'Everything I bought was great, infact I ordered twice and the third ordered was<br />for my mother and father.'\n",
    "temp_headlines = 'Great way to start (or finish) mmmm the day!!!'\n",
    "\n",
    "print(\"text: \", preprocess_sentence(temp_text))\n",
    "print(\"headlines:\", preprocess_sentence(temp_headlines, False))  # 불용어를 제거하지 않습니다."
   ]
  },
  {
   "cell_type": "code",
   "execution_count": 13,
   "id": "aa3a20b3",
   "metadata": {},
   "outputs": [
    {
     "name": "stdout",
     "output_type": "stream",
     "text": [
      "Text 전처리 후 결과:  ['text', 'saurav kant alumnus upgrad iiit pg program machine learning artificial intelligence sr systems engineer infosys almost years work experience program upgrad degree career support helped transition data scientist tech mahindra salary hike upgrad online power learning powered lakh careers', 'kunal shah credit card bill payment platform cred gave users chance win free food swiggy one year pranav kaushik delhi techie bagged reward spending cred coins users get one cred coin per rupee bill paid used avail rewards brands like ixigo bookmyshow ubereats cult fit', 'new zealand defeated india wickets fourth odi hamilton thursday win first match five match odi series india lost international match rohit sharma captaincy consecutive victories dating back march match witnessed india getting seventh lowest total odi cricket history', 'aegon life iterm insurance plan customers enjoy tax benefits premiums paid save taxes plan provides life cover age years also customers options insure critical illnesses disability accidental death benefit rider life cover age years']\n"
     ]
    }
   ],
   "source": [
    "# Text 전처리\n",
    "\n",
    "clean_text = []\n",
    "\n",
    "# 전체 Text 데이터에 대한 전처리 : 10분 이상 시간이 걸릴 수 있습니다. \n",
    "for s in data['Text']:\n",
    "    clean_text.append(preprocess_sentence(s))\n",
    "\n",
    "# 전처리 후 출력\n",
    "print(\"Text 전처리 후 결과: \", clean_text[:5])"
   ]
  },
  {
   "cell_type": "code",
   "execution_count": 14,
   "id": "da7eb10a",
   "metadata": {},
   "outputs": [
    {
     "name": "stdout",
     "output_type": "stream",
     "text": [
      "Headlines 전처리 후 결과:  ['headlines', 'upgrad learner switches to career in ml al with salary hike', 'delhi techie wins free food from swiggy for one year on cred', 'new zealand end rohit sharma led india match winning streak', 'aegon life iterm insurance plan helps customers save tax']\n"
     ]
    }
   ],
   "source": [
    "# Headlines 전처리\n",
    "\n",
    "clean_headlines = []\n",
    "\n",
    "# 전체 Summary 데이터에 대한 전처리 : 5분 이상 시간이 걸릴 수 있습니다. \n",
    "for s in data['Headlines']:\n",
    "    clean_headlines.append(preprocess_sentence(s, False))\n",
    "\n",
    "print(\"Headlines 전처리 후 결과: \", clean_headlines[:5])"
   ]
  },
  {
   "cell_type": "code",
   "execution_count": 15,
   "id": "1eb52645",
   "metadata": {},
   "outputs": [],
   "source": [
    "# 전처리한 text와 headlines를 해당 컬럼에 넣기\n",
    "data['Text'] = clean_text\n",
    "data['Headlines'] = clean_headlines\n",
    "\n",
    "# 빈 값을 Null 값으로 변환\n",
    "data.replace('', np.nan, inplace=True)"
   ]
  },
  {
   "cell_type": "markdown",
   "id": "b17bcb24",
   "metadata": {},
   "source": [
    "전처리 과정중에 빈 문자열이 나올 수 있으므로 다시 결측치 확인해보기"
   ]
  },
  {
   "cell_type": "code",
   "execution_count": 16,
   "id": "be075143",
   "metadata": {},
   "outputs": [
    {
     "data": {
      "text/plain": [
       "Headlines    0\n",
       "Text         0\n",
       "dtype: int64"
      ]
     },
     "execution_count": 16,
     "metadata": {},
     "output_type": "execute_result"
    }
   ],
   "source": [
    "# 결측치 확인\n",
    "data.isnull().sum()"
   ]
  },
  {
   "cell_type": "code",
   "execution_count": 17,
   "id": "6040cd62",
   "metadata": {},
   "outputs": [
    {
     "name": "stdout",
     "output_type": "stream",
     "text": [
      "전체 샘플수 : 98360\n"
     ]
    }
   ],
   "source": [
    "# 결측치 제거\n",
    "data.dropna(axis=0, inplace=True)\n",
    "print('전체 샘플수 :', (len(data)))"
   ]
  },
  {
   "cell_type": "markdown",
   "id": "7824e022",
   "metadata": {},
   "source": [
    "## 2.3 훈련데이터와 테스트데이터 나누기"
   ]
  },
  {
   "cell_type": "code",
   "execution_count": 18,
   "id": "0e4b4300",
   "metadata": {},
   "outputs": [
    {
     "name": "stdout",
     "output_type": "stream",
     "text": [
      "텍스트의 최소 길이 : 1\n",
      "텍스트의 최대 길이 : 60\n",
      "텍스트의 평균 길이 : 35.09968483123221\n",
      "헤드라인의 최소 길이 : 1\n",
      "헤드라인의 최대 길이 : 16\n",
      "헤드라인의 평균 길이 : 9.299532330215534\n"
     ]
    },
    {
     "data": {
      "image/png": "[encoded data removed]",
      "text/plain": [
       "<Figure size 1440x720 with 2 Axes>"
      ]
     },
     "metadata": {
      "needs_background": "light"
     },
     "output_type": "display_data"
    },
    {
     "data": {
      "image/png": "[encoded data removed]",
      "text/plain": [
       "<Figure size 432x288 with 1 Axes>"
      ]
     },
     "metadata": {
      "needs_background": "light"
     },
     "output_type": "display_data"
    },
    {
     "data": {
      "image/png": "[encoded data removed]",
      "text/plain": [
       "<Figure size 432x288 with 1 Axes>"
      ]
     },
     "metadata": {
      "needs_background": "light"
     },
     "output_type": "display_data"
    }
   ],
   "source": [
    "# 길이 분포 출력\n",
    "import matplotlib.pyplot as plt\n",
    "\n",
    "text_len = [len(s.split()) for s in data['Text']]\n",
    "headlines_len = [len(s.split()) for s in data['Headlines']]\n",
    "\n",
    "print('텍스트의 최소 길이 : {}'.format(np.min(text_len)))\n",
    "print('텍스트의 최대 길이 : {}'.format(np.max(text_len)))\n",
    "print('텍스트의 평균 길이 : {}'.format(np.mean(text_len)))\n",
    "print('헤드라인의 최소 길이 : {}'.format(np.min(headlines_len)))\n",
    "print('헤드라인의 최대 길이 : {}'.format(np.max(headlines_len)))\n",
    "print('헤드라인의 평균 길이 : {}'.format(np.mean(headlines_len)))\n",
    "\n",
    "plt.figure(figsize=(20, 10))\n",
    "plt.subplot(1,2,1)\n",
    "plt.boxplot(text_len)\n",
    "plt.title('Text')\n",
    "plt.subplot(1,2,2)\n",
    "plt.boxplot(headlines_len)\n",
    "plt.title('Headlines')\n",
    "# plt.tight_layout()    # subplot들이 겹치지 않도록 최소한의 여백을 만들어 주는 역할 \n",
    "plt.show()\n",
    "\n",
    "plt.title('Text')\n",
    "plt.hist(text_len, bins = 40)            # bins는 계급의 개수\n",
    "plt.xlabel('length of samples')\n",
    "plt.ylabel('number of samples')\n",
    "plt.show()\n",
    "\n",
    "plt.title('Headlines')\n",
    "plt.hist(headlines_len, bins = 40)          # bins는 계급의 개수\n",
    "plt.xlabel('length of samples')\n",
    "plt.ylabel('number of samples')\n",
    "plt.show()"
   ]
  },
  {
   "cell_type": "code",
   "execution_count": 19,
   "id": "9e410eb3",
   "metadata": {},
   "outputs": [],
   "source": [
    "# 평균이 각각 35과 9이므로 임의로 적절하다고 생각하는 최대 길이를 선정함\n",
    "text_max_len = 45\n",
    "headlines_max_len = 12"
   ]
  },
  {
   "cell_type": "markdown",
   "id": "2c7e419d",
   "metadata": {},
   "source": [
    "각각 50과 8로 정했는데 이 길이를 선택했을 때, 얼마나 많은 샘플들을 자르지 않고 포함할 수 있는지 통계로 확인하는 편이 객관적으로 길이를 결정하는 데 도움이 될거예요. 훈련 데이터와 샘플의 길이를 입력하면, 데이터의 몇 %가 해당하는지 계산하는 함수를 만들어서 좀 더 정확하게 판단해볼게요."
   ]
  },
  {
   "cell_type": "code",
   "execution_count": 20,
   "id": "d0950a58",
   "metadata": {},
   "outputs": [
    {
     "name": "stdout",
     "output_type": "stream",
     "text": [
      "전체 샘플 중 길이가 45 이하인 샘플의 비율: 0.9967771451809678\n",
      "전체 샘플 중 길이가 12 이하인 샘플의 비율: 0.9880337535583571\n"
     ]
    }
   ],
   "source": [
    "def below_threshold_len(max_len, nested_list):\n",
    "  cnt = 0\n",
    "  for s in nested_list:\n",
    "    if(len(s.split()) <= max_len):\n",
    "        cnt = cnt + 1\n",
    "  print('전체 샘플 중 길이가 %s 이하인 샘플의 비율: %s'%(max_len, (cnt / len(nested_list))))\n",
    "\n",
    "below_threshold_len(text_max_len, data['Text'])\n",
    "below_threshold_len(headlines_max_len,  data['Headlines'])"
   ]
  },
  {
   "cell_type": "markdown",
   "id": "f3ae70ba",
   "metadata": {},
   "source": [
    "각각 40과 11로 패딩을 하게 되면 해당 길이보다 긴 샘플들은 내용이 잘리게 되는데, Text 열의 경우에는 약 1%, Headlines 열의 경우 2%의 샘플들이 내용이 망가지게 된다고 하네요.\n",
    "\n",
    "우리는 정해진 길이에 맞춰 자르는 것이 아니라, 정해진 길이보다 길면 제외하는 방법으로 데이터를 정제할게요."
   ]
  },
  {
   "cell_type": "code",
   "execution_count": 21,
   "id": "714fecd7",
   "metadata": {},
   "outputs": [
    {
     "name": "stdout",
     "output_type": "stream",
     "text": [
      "전체 샘플수 : 96871\n"
     ]
    }
   ],
   "source": [
    "data = data[data['Text'].apply(lambda x: len(x.split()) <= text_max_len)]\n",
    "data = data[data['Headlines'].apply(lambda x: len(x.split()) <= headlines_max_len)]\n",
    "print('전체 샘플수 :', (len(data)))"
   ]
  },
  {
   "cell_type": "markdown",
   "id": "1277f074",
   "metadata": {},
   "source": [
    "## 2.4 시작 토큰과 종료 토큰 추가하기"
   ]
  },
  {
   "cell_type": "code",
   "execution_count": 22,
   "id": "b134c6dc",
   "metadata": {},
   "outputs": [
    {
     "data": {
      "text/html": [
       "<div>\n",
       "<style scoped>\n",
       "    .dataframe tbody tr th:only-of-type {\n",
       "        vertical-align: middle;\n",
       "    }\n",
       "\n",
       "    .dataframe tbody tr th {\n",
       "        vertical-align: top;\n",
       "    }\n",
       "\n",
       "    .dataframe thead th {\n",
       "        text-align: right;\n",
       "    }\n",
       "</style>\n",
       "<table border=\"1\" class=\"dataframe\">\n",
       "  <thead>\n",
       "    <tr style=\"text-align: right;\">\n",
       "      <th></th>\n",
       "      <th>Headlines</th>\n",
       "      <th>Text</th>\n",
       "      <th>decoder_input</th>\n",
       "      <th>decoder_target</th>\n",
       "    </tr>\n",
       "  </thead>\n",
       "  <tbody>\n",
       "    <tr>\n",
       "      <th>0</th>\n",
       "      <td>headlines</td>\n",
       "      <td>text</td>\n",
       "      <td>sostoken headlines</td>\n",
       "      <td>headlines eostoken</td>\n",
       "    </tr>\n",
       "    <tr>\n",
       "      <th>1</th>\n",
       "      <td>upgrad learner switches to career in ml al wit...</td>\n",
       "      <td>saurav kant alumnus upgrad iiit pg program mac...</td>\n",
       "      <td>sostoken upgrad learner switches to career in ...</td>\n",
       "      <td>upgrad learner switches to career in ml al wit...</td>\n",
       "    </tr>\n",
       "    <tr>\n",
       "      <th>2</th>\n",
       "      <td>delhi techie wins free food from swiggy for on...</td>\n",
       "      <td>kunal shah credit card bill payment platform c...</td>\n",
       "      <td>sostoken delhi techie wins free food from swig...</td>\n",
       "      <td>delhi techie wins free food from swiggy for on...</td>\n",
       "    </tr>\n",
       "    <tr>\n",
       "      <th>3</th>\n",
       "      <td>new zealand end rohit sharma led india match w...</td>\n",
       "      <td>new zealand defeated india wickets fourth odi ...</td>\n",
       "      <td>sostoken new zealand end rohit sharma led indi...</td>\n",
       "      <td>new zealand end rohit sharma led india match w...</td>\n",
       "    </tr>\n",
       "    <tr>\n",
       "      <th>4</th>\n",
       "      <td>aegon life iterm insurance plan helps customer...</td>\n",
       "      <td>aegon life iterm insurance plan customers enjo...</td>\n",
       "      <td>sostoken aegon life iterm insurance plan helps...</td>\n",
       "      <td>aegon life iterm insurance plan helps customer...</td>\n",
       "    </tr>\n",
       "  </tbody>\n",
       "</table>\n",
       "</div>"
      ],
      "text/plain": [
       "                                           Headlines  \\\n",
       "0                                          headlines   \n",
       "1  upgrad learner switches to career in ml al wit...   \n",
       "2  delhi techie wins free food from swiggy for on...   \n",
       "3  new zealand end rohit sharma led india match w...   \n",
       "4  aegon life iterm insurance plan helps customer...   \n",
       "\n",
       "                                                Text  \\\n",
       "0                                               text   \n",
       "1  saurav kant alumnus upgrad iiit pg program mac...   \n",
       "2  kunal shah credit card bill payment platform c...   \n",
       "3  new zealand defeated india wickets fourth odi ...   \n",
       "4  aegon life iterm insurance plan customers enjo...   \n",
       "\n",
       "                                       decoder_input  \\\n",
       "0                                 sostoken headlines   \n",
       "1  sostoken upgrad learner switches to career in ...   \n",
       "2  sostoken delhi techie wins free food from swig...   \n",
       "3  sostoken new zealand end rohit sharma led indi...   \n",
       "4  sostoken aegon life iterm insurance plan helps...   \n",
       "\n",
       "                                      decoder_target  \n",
       "0                                 headlines eostoken  \n",
       "1  upgrad learner switches to career in ml al wit...  \n",
       "2  delhi techie wins free food from swiggy for on...  \n",
       "3  new zealand end rohit sharma led india match w...  \n",
       "4  aegon life iterm insurance plan helps customer...  "
      ]
     },
     "execution_count": 22,
     "metadata": {},
     "output_type": "execute_result"
    }
   ],
   "source": [
    "# 요약 데이터에는 시작 토큰과 종료 토큰을 추가한다.\n",
    "data['decoder_input'] = data['Headlines'].apply(lambda x : 'sostoken '+ x)\n",
    "data['decoder_target'] = data['Headlines'].apply(lambda x : x + ' eostoken')\n",
    "data.head()"
   ]
  },
  {
   "cell_type": "code",
   "execution_count": 23,
   "id": "c4a14e5a",
   "metadata": {},
   "outputs": [],
   "source": [
    "# Numpy type으로 저장\n",
    "encoder_input = np.array(data['Text']) # 인코더의 입력\n",
    "decoder_input = np.array(data['decoder_input']) # 디코더의 입력\n",
    "decoder_target = np.array(data['decoder_target']) # 디코더의 레이블"
   ]
  },
  {
   "cell_type": "code",
   "execution_count": 24,
   "id": "301f023d",
   "metadata": {},
   "outputs": [
    {
     "name": "stdout",
     "output_type": "stream",
     "text": [
      "(96871,)\n"
     ]
    },
    {
     "data": {
      "text/plain": [
       "'kunal shah credit card bill payment platform cred gave users chance win free food swiggy one year pranav kaushik delhi techie bagged reward spending cred coins users get one cred coin per rupee bill paid used avail rewards brands like ixigo bookmyshow ubereats cult fit'"
      ]
     },
     "execution_count": 24,
     "metadata": {},
     "output_type": "execute_result"
    }
   ],
   "source": [
    "# 확인용\n",
    "print(encoder_input.shape)\n",
    "\n",
    "encoder_input[2]"
   ]
  },
  {
   "cell_type": "markdown",
   "id": "f83f2e7d",
   "metadata": {},
   "source": [
    "## 2.5 훈련 데이터와 데스트 데이터 분리"
   ]
  },
  {
   "cell_type": "code",
   "execution_count": 25,
   "id": "94f98bbb",
   "metadata": {},
   "outputs": [
    {
     "name": "stdout",
     "output_type": "stream",
     "text": [
      "[51651 78975 66093 ...  1085 84866 91594]\n"
     ]
    }
   ],
   "source": [
    "# 인덱스 번호 shuffle하기\n",
    "indices = np.arange(encoder_input.shape[0])  # encoder_input 행 개수만큼 연속된 정수 생성\n",
    "np.random.shuffle(indices)                   # 행 번호를 썪음\n",
    "print(indices)"
   ]
  },
  {
   "cell_type": "code",
   "execution_count": 26,
   "id": "ae1a3b2b",
   "metadata": {},
   "outputs": [],
   "source": [
    "# 데이터 섞기\n",
    "encoder_input = encoder_input[indices]\n",
    "decoder_input = decoder_input[indices]\n",
    "decoder_target = decoder_target[indices]"
   ]
  },
  {
   "cell_type": "code",
   "execution_count": 27,
   "id": "fb6c56d2",
   "metadata": {},
   "outputs": [
    {
     "name": "stdout",
     "output_type": "stream",
     "text": [
      "테스트 데이터의 수 : 19374\n"
     ]
    }
   ],
   "source": [
    "# 검증데이터 비율 0.2 설정\n",
    "n_of_val = int(len(encoder_input)*0.2)\n",
    "print('테스트 데이터의 수 :', n_of_val)"
   ]
  },
  {
   "cell_type": "code",
   "execution_count": 28,
   "id": "cdc56a5a",
   "metadata": {},
   "outputs": [
    {
     "name": "stdout",
     "output_type": "stream",
     "text": [
      "훈련 입력 데이터의 개수 : 77497\n",
      "훈련 입력 레이블의 개수 : 77497\n",
      "테스트 입력 데이터의 개수 : 19374\n",
      "테스트 입력 레이블의 개수 : 19374\n"
     ]
    }
   ],
   "source": [
    "# Train, Test 데이터 분리\n",
    "encoder_input_train = encoder_input[:-n_of_val]\n",
    "decoder_input_train = decoder_input[:-n_of_val]\n",
    "decoder_target_train = decoder_target[:-n_of_val]\n",
    "\n",
    "encoder_input_test = encoder_input[-n_of_val:]\n",
    "decoder_input_test = decoder_input[-n_of_val:]\n",
    "decoder_target_test = decoder_target[-n_of_val:]\n",
    "\n",
    "print('훈련 입력 데이터의 개수 :', len(encoder_input_train))\n",
    "print('훈련 입력 레이블의 개수 :', len(decoder_input_train))\n",
    "print('테스트 입력 데이터의 개수 :', len(encoder_input_test))\n",
    "print('테스트 입력 레이블의 개수 :', len(decoder_input_test))"
   ]
  },
  {
   "cell_type": "code",
   "execution_count": 29,
   "id": "e8dd1311",
   "metadata": {},
   "outputs": [
    {
     "data": {
      "text/plain": [
       "array(['astronomers found evidence repeated space radiation called fast radio bursts could coming rapidly rotating neutron stars located near black holes per new publication journal nature sources previously considered signals include exploding stars even beacons alien spaceships frbs discovered australia based parkes telescope',\n",
       "       'italian skydiver told wife going pull cord going somewhere wonderful minutes jumping death plane said police receiving call wife informed sky dive deland employee radio pilot vitantonio already jumped found dead soon',\n",
       "       'sri lanka successfully defended runs defeat pakistan runs first test hand pakistan first ever defeat adopted home venue abu dhabi monday sri lanka year old spinner rangana herath became first left arm spinner take wickets picking eleven wickets runs test',\n",
       "       ...,\n",
       "       'central government intervene disciplinary cases filed state government ias ips ifs officers ministry personnel told punjab haryana high court centre power relax rules cases involving undue hardship officers added court hearing case involving ifs officer',\n",
       "       'starting may prospective parents going adoption would allowed pick choose would given one option national adoption body till government adoption portal carings referred three children prospective parents choose notably adoption applicants participate three rounds referrals',\n",
       "       'former india captain sourav ganguly revealed sunil gavaskar advised choosing greg chappell team india coach revealed bcci president jagmohan dalmiya told even greg brother ian claimed might right choice decided ignore warnings follow instincts ganguly wrote'],\n",
       "      dtype=object)"
      ]
     },
     "execution_count": 29,
     "metadata": {},
     "output_type": "execute_result"
    }
   ],
   "source": [
    "# 확인용\n",
    "encoder_input_train"
   ]
  },
  {
   "cell_type": "markdown",
   "id": "1a257384",
   "metadata": {},
   "source": [
    "## 2-6. 단어 집합(vocaburary) 만들기 + 정수 인코딩\n",
    "\n",
    "### 통계량 확인 함수 정의"
   ]
  },
  {
   "cell_type": "code",
   "execution_count": 30,
   "id": "eb37a70a",
   "metadata": {},
   "outputs": [],
   "source": [
    "def tokenizer_threshold(threshold, tokenizer):\n",
    "                 \n",
    "    total_cnt = len(tokenizer.word_index)    # 단어의 수 (v_tokenizer.word_index : {단어 : 단어빈도수가 많은거 순})\n",
    "    rare_cnt = 0                             # 등장 빈도수가 threshold보다 작은 단어의 개수를 카운트\n",
    "    total_freq = 0                           # 훈련 데이터의 전체 단어 빈도수 총 합\n",
    "    rare_freq = 0                            # 등장 빈도수가 threshold보다 작은 단어의 등장 빈도수의 총 합\n",
    "\n",
    "    # 단어와 빈도수의 쌍(pair)을 key와 value로 받는다.\n",
    "    for key, value in tokenizer.word_counts.items():\n",
    "        total_freq = total_freq + value\n",
    "\n",
    "        # 단어의 등장 빈도수가 threshold보다 작으면\n",
    "        if(value < threshold):\n",
    "            rare_cnt = rare_cnt + 1          # 빈도수가 threshold보다 작은 단어의 개수를 카운트\n",
    "            rare_freq = rare_freq + value    # 빈도수가 threshold보다 작은 단어의 빈도수의 총 합\n",
    "\n",
    "    print('단어 집합(vocabulary)의 크기 :',total_cnt)\n",
    "    print('등장 빈도가 %s번 이하인 희귀 단어의 수: %s'%(threshold - 1, rare_cnt))\n",
    "    print('단어 집합에서 희귀 단어를 제외시킬 경우의 단어 집합의 크기 %s'%(total_cnt - rare_cnt))\n",
    "    print(\"단어 집합에서 희귀 단어의 비율:\", (rare_cnt / total_cnt)*100)\n",
    "    print(f\"전체 등장 빈도에서 희귀 단어 등장 빈도 비율: {(rare_freq / total_freq):.2%}\")"
   ]
  },
  {
   "cell_type": "markdown",
   "id": "dba7c5a3",
   "metadata": {},
   "source": [
    "### 1) encoder_input_train"
   ]
  },
  {
   "cell_type": "code",
   "execution_count": 31,
   "id": "ba1eb787",
   "metadata": {},
   "outputs": [],
   "source": [
    "# 단어 집합 생성\n",
    "src_tokenizer = Tokenizer()                     # 토크나이저 정의\n",
    "src_tokenizer.fit_on_texts(encoder_input_train) # 입력된 데이터로부터 단어 집합 생성"
   ]
  },
  {
   "cell_type": "code",
   "execution_count": 32,
   "id": "e2639a12",
   "metadata": {},
   "outputs": [
    {
     "name": "stdout",
     "output_type": "stream",
     "text": [
      "단어 집합(vocabulary)의 크기 : 69068\n",
      "등장 빈도가 7번 이하인 희귀 단어의 수: 48586\n",
      "단어 집합에서 희귀 단어를 제외시킬 경우의 단어 집합의 크기 20482\n",
      "단어 집합에서 희귀 단어의 비율: 70.34516708171657\n",
      "전체 등장 빈도에서 희귀 단어 등장 빈도 비율: 3.90%\n"
     ]
    }
   ],
   "source": [
    "# 통계량 확인하기\n",
    "tokenizer_threshold(8, src_tokenizer)"
   ]
  },
  {
   "cell_type": "code",
   "execution_count": 33,
   "id": "e8951924",
   "metadata": {},
   "outputs": [],
   "source": [
    "# 단어 집합 재생성\n",
    "src_vocab = 20000\n",
    "src_tokenizer = Tokenizer(num_words = src_vocab) # 단어 집합의 크기를 20,000으로 제한\n",
    "src_tokenizer.fit_on_texts(encoder_input_train)  # 단어 집합 재생성."
   ]
  },
  {
   "cell_type": "code",
   "execution_count": 34,
   "id": "43e058f4",
   "metadata": {},
   "outputs": [
    {
     "name": "stdout",
     "output_type": "stream",
     "text": [
      "[[3037, 83, 1141, 4360, 311, 4972, 64, 1029, 2805, 11477, 84, 1018, 7255, 10404, 9939, 866, 1739, 374, 590, 4815, 128, 25, 7816, 5750, 3157, 2975, 1042, 1345, 3868, 672, 11478, 866, 206, 10901, 8067, 815, 180, 34, 3251], [1685, 256, 163, 391, 3436, 10405, 391, 7004, 4695, 511, 3418, 179, 967, 1, 9, 1399, 592, 163, 1052, 4403, 11479, 938, 2805, 1204, 673, 2182, 83, 448, 820], [407, 735, 1558, 2888, 282, 1458, 44, 282, 7, 72, 721, 44, 7, 224, 1458, 2565, 135, 3238, 3013, 5806, 62, 407, 735, 3, 13, 913, 19267, 16573, 315, 7, 291, 1486, 913, 107, 701, 4734, 5687, 701, 282, 72]]\n"
     ]
    }
   ],
   "source": [
    "# 텍스트 시퀀스를 정수 시퀀스로 변환\n",
    "encoder_input_train = src_tokenizer.texts_to_sequences(encoder_input_train) \n",
    "encoder_input_test = src_tokenizer.texts_to_sequences(encoder_input_test)\n",
    "\n",
    "# 잘 진행되었는지 샘플 출력\n",
    "print(encoder_input_train[:3])"
   ]
  },
  {
   "cell_type": "markdown",
   "id": "69c2d210",
   "metadata": {},
   "source": [
    "### 2) decoder_input_train"
   ]
  },
  {
   "cell_type": "code",
   "execution_count": 35,
   "id": "f8d78b60",
   "metadata": {},
   "outputs": [],
   "source": [
    "# 단어 집합 생성\n",
    "tar_tokenizer = Tokenizer() # 토크나이저 정의\n",
    "tar_tokenizer.fit_on_texts(decoder_input_train)"
   ]
  },
  {
   "cell_type": "code",
   "execution_count": 36,
   "id": "af62d5f5",
   "metadata": {},
   "outputs": [
    {
     "name": "stdout",
     "output_type": "stream",
     "text": [
      "단어 집합(vocabulary)의 크기 : 29829\n",
      "등장 빈도가 5번 이하인 희귀 단어의 수: 19492\n",
      "단어 집합에서 희귀 단어를 제외시킬 경우의 단어 집합의 크기 10337\n",
      "단어 집합에서 희귀 단어의 비율: 65.3458044185189\n",
      "전체 등장 빈도에서 희귀 단어 등장 빈도 비율: 4.70%\n"
     ]
    }
   ],
   "source": [
    "# 통계량 확인하기\n",
    "tokenizer_threshold(6, tar_tokenizer)"
   ]
  },
  {
   "cell_type": "code",
   "execution_count": 37,
   "id": "56c0bc88",
   "metadata": {},
   "outputs": [
    {
     "name": "stdout",
     "output_type": "stream",
     "text": [
      "input\n",
      "input  [[1, 2422, 9466, 172, 7, 3543, 6, 7607, 2382, 5614], [1, 696, 116, 118, 24, 11, 179, 7608, 1092, 3, 92], [1, 899, 3141, 3, 1035, 56, 219, 41, 985, 4, 3628, 7161], [1, 579, 6, 1577, 290, 729, 1187], [1, 2940, 1339, 93, 230, 805, 12, 18, 30, 917, 3142]]\n",
      "target\n",
      "decoder  [[2422, 9466, 172, 7, 3543, 6, 7607, 2382, 5614, 2], [696, 116, 118, 24, 11, 179, 7608, 1092, 3, 92, 2], [899, 3141, 3, 1035, 56, 219, 41, 985, 4, 3628, 7161, 2], [579, 6, 1577, 290, 729, 1187, 2], [2940, 1339, 93, 230, 805, 12, 18, 30, 917, 3142, 2]]\n"
     ]
    }
   ],
   "source": [
    "# 단어 집합 재생성\n",
    "tar_vocab = 10000\n",
    "tar_tokenizer = Tokenizer(num_words = tar_vocab) \n",
    "tar_tokenizer.fit_on_texts(decoder_input_train)\n",
    "tar_tokenizer.fit_on_texts(decoder_target_train)\n",
    "\n",
    "# 텍스트 시퀀스를 정수 시퀀스로 변환\n",
    "decoder_input_train = tar_tokenizer.texts_to_sequences(decoder_input_train) \n",
    "decoder_target_train = tar_tokenizer.texts_to_sequences(decoder_target_train)\n",
    "decoder_input_test = tar_tokenizer.texts_to_sequences(decoder_input_test)\n",
    "decoder_target_test = tar_tokenizer.texts_to_sequences(decoder_target_test)\n",
    "\n",
    "#잘 변환되었는지 확인\n",
    "print('input')\n",
    "print('input ',decoder_input_train[:5])\n",
    "print('target')\n",
    "print('decoder ',decoder_target_train[:5])"
   ]
  },
  {
   "cell_type": "markdown",
   "id": "eb28e9da",
   "metadata": {},
   "source": [
    "## 2.7 eos, sos 토큰은 빈도수가 높아서 매 문장마다 살아있다\n",
    "요약문에서 길이가 0이 된 샘플들의 인덱스를 받아와볼게요. 여기서 주의할 점은 요약문인 decoder_input에는 sostoken 또는 decoder_target에는 eostoken이 추가된 상태이고, 이 두 토큰 각각은 해당 샘플마다 등장하므로 두 토큰의 빈도수가 샘플 수와 동일하게 매우 높으므로 단어 집합 제한(위 Tokenizer의 num_words 인자)에도 삭제되지 않아요. 그래서 이제 길이가 0이 된 요약문의 실제 길이는 1로 나올 거예요. 길이 0이 된 decoder_input에는 sostoken, decoder_target에는 eostoken만 남아 있을 테니까요.\n",
    "\n",
    "훈련 데이터와 테스트 데이터에 대해서 요약문의 길이가 1인 경우의 인덱스를 각각 drop_train과 drop_test에 라는 변수에 저장해볼게요. 이 샘플들은 모두 삭제할 거예요."
   ]
  },
  {
   "cell_type": "code",
   "execution_count": 38,
   "id": "533f464f",
   "metadata": {},
   "outputs": [
    {
     "name": "stdout",
     "output_type": "stream",
     "text": [
      "삭제할 훈련 데이터의 개수 : 0\n",
      "삭제할 테스트 데이터의 개수 : 0\n",
      "훈련 데이터의 개수 : 77497\n",
      "훈련 레이블의 개수 : 77497\n",
      "테스트 데이터의 개수 : 19374\n",
      "테스트 레이블의 개수 : 19374\n"
     ]
    }
   ],
   "source": [
    "# 각 문장에 eos token 또는 sos token만 있는 경우 인덱스 저장\n",
    "drop_train = [index for index, sentence in enumerate(decoder_input_train) if len(sentence) == 1]\n",
    "drop_test = [index for index, sentence in enumerate(decoder_input_test) if len(sentence) == 1]\n",
    "\n",
    "print('삭제할 훈련 데이터의 개수 :', len(drop_train))\n",
    "print('삭제할 테스트 데이터의 개수 :', len(drop_test))\n",
    "\n",
    "encoder_input_train = [sentence for index, sentence in enumerate(encoder_input_train) if index not in drop_train]\n",
    "decoder_input_train = [sentence for index, sentence in enumerate(decoder_input_train) if index not in drop_train]\n",
    "decoder_target_train = [sentence for index, sentence in enumerate(decoder_target_train) if index not in drop_train]\n",
    "\n",
    "encoder_input_test = [sentence for index, sentence in enumerate(encoder_input_test) if index not in drop_test]\n",
    "decoder_input_test = [sentence for index, sentence in enumerate(decoder_input_test) if index not in drop_test]\n",
    "decoder_target_test = [sentence for index, sentence in enumerate(decoder_target_test) if index not in drop_test]\n",
    "\n",
    "print('훈련 데이터의 개수 :', len(encoder_input_train))\n",
    "print('훈련 레이블의 개수 :', len(decoder_input_train))\n",
    "print('테스트 데이터의 개수 :', len(encoder_input_test))\n",
    "print('테스트 레이블의 개수 :', len(decoder_input_test))"
   ]
  },
  {
   "cell_type": "markdown",
   "id": "d408e2cc",
   "metadata": {},
   "source": [
    "## 2.8 패딩하기\n",
    "텍스트 시퀀스를 정수 시퀀스로 변환했다면, 이제 서로 다른 길이의 샘플들을 병렬 처리하기 위해 같은 길이로 맞춰주는 패딩 작업을 해주어야 해야 해요"
   ]
  },
  {
   "cell_type": "code",
   "execution_count": 39,
   "id": "c7e3939c",
   "metadata": {},
   "outputs": [],
   "source": [
    "encoder_input_train = pad_sequences(encoder_input_train, maxlen = text_max_len, padding='post')\n",
    "encoder_input_test = pad_sequences(encoder_input_test, maxlen = text_max_len, padding='post')\n",
    "decoder_input_train = pad_sequences(decoder_input_train, maxlen = headlines_max_len, padding='post')\n",
    "decoder_target_train = pad_sequences(decoder_target_train, maxlen = headlines_max_len, padding='post')\n",
    "decoder_input_test = pad_sequences(decoder_input_test, maxlen = headlines_max_len, padding='post')\n",
    "decoder_target_test = pad_sequences(decoder_target_test, maxlen = headlines_max_len, padding='post')"
   ]
  },
  {
   "cell_type": "markdown",
   "id": "3eaa1e8f",
   "metadata": {},
   "source": [
    "# Step 3. 어텐션 메커니즘 사용하기 (추상적 요약)\n",
    "일반적인 seq2seq보다는 어텐션 메커니즘을 사용한 seq2seq를 사용하는 것이 더 나은 성능을 얻을 수 있어요. 실습 내용을 참고하여 어텐션 메커니즘을 사용한 seq2seq를 설계해 보세요."
   ]
  },
  {
   "cell_type": "markdown",
   "id": "bb854458",
   "metadata": {},
   "source": [
    "## 모델 설계하기"
   ]
  },
  {
   "cell_type": "code",
   "execution_count": 40,
   "id": "6e18203b",
   "metadata": {},
   "outputs": [
    {
     "data": {
      "text/plain": [
       "('attention.py', <http.client.HTTPMessage at 0x7f68a14f5790>)"
      ]
     },
     "execution_count": 40,
     "metadata": {},
     "output_type": "execute_result"
    }
   ],
   "source": [
    "urllib.request.urlretrieve(\"https://raw.githubusercontent.com/thushv89/attention_keras/master/src/layers/attention.py\", filename=\"attention.py\")"
   ]
  },
  {
   "cell_type": "code",
   "execution_count": 41,
   "id": "373b06ab",
   "metadata": {},
   "outputs": [
    {
     "name": "stdout",
     "output_type": "stream",
     "text": [
      "WARNING:tensorflow:Layer lstm will not use cuDNN kernels since it doesn't meet the criteria. It will use a generic GPU kernel as fallback when running on GPU.\n",
      "WARNING:tensorflow:Layer lstm_1 will not use cuDNN kernels since it doesn't meet the criteria. It will use a generic GPU kernel as fallback when running on GPU.\n",
      "WARNING:tensorflow:Layer lstm_2 will not use cuDNN kernels since it doesn't meet the criteria. It will use a generic GPU kernel as fallback when running on GPU.\n",
      "WARNING:tensorflow:Layer lstm_3 will not use cuDNN kernels since it doesn't meet the criteria. It will use a generic GPU kernel as fallback when running on GPU.\n",
      "Model: \"model\"\n",
      "__________________________________________________________________________________________________\n",
      "Layer (type)                    Output Shape         Param #     Connected to                     \n",
      "==================================================================================================\n",
      "input_1 (InputLayer)            [(None, 45)]         0                                            \n",
      "__________________________________________________________________________________________________\n",
      "embedding (Embedding)           (None, 45, 128)      2560000     input_1[0][0]                    \n",
      "__________________________________________________________________________________________________\n",
      "lstm (LSTM)                     [(None, 45, 256), (N 394240      embedding[0][0]                  \n",
      "__________________________________________________________________________________________________\n",
      "input_2 (InputLayer)            [(None, None)]       0                                            \n",
      "__________________________________________________________________________________________________\n",
      "lstm_1 (LSTM)                   [(None, 45, 256), (N 525312      lstm[0][0]                       \n",
      "__________________________________________________________________________________________________\n",
      "embedding_1 (Embedding)         (None, None, 128)    1280000     input_2[0][0]                    \n",
      "__________________________________________________________________________________________________\n",
      "lstm_2 (LSTM)                   [(None, 45, 256), (N 525312      lstm_1[0][0]                     \n",
      "__________________________________________________________________________________________________\n",
      "lstm_3 (LSTM)                   [(None, None, 256),  394240      embedding_1[0][0]                \n",
      "                                                                 lstm_2[0][1]                     \n",
      "                                                                 lstm_2[0][2]                     \n",
      "__________________________________________________________________________________________________\n",
      "attention_layer (AttentionLayer ((None, None, 256),  131328      lstm_2[0][0]                     \n",
      "                                                                 lstm_3[0][0]                     \n",
      "__________________________________________________________________________________________________\n",
      "concat_layer (Concatenate)      (None, None, 512)    0           lstm_3[0][0]                     \n",
      "                                                                 attention_layer[0][0]            \n",
      "__________________________________________________________________________________________________\n",
      "dense (Dense)                   (None, None, 10000)  5130000     concat_layer[0][0]               \n",
      "==================================================================================================\n",
      "Total params: 10,940,432\n",
      "Trainable params: 10,940,432\n",
      "Non-trainable params: 0\n",
      "__________________________________________________________________________________________________\n"
     ]
    }
   ],
   "source": [
    "from attention import AttentionLayer\n",
    "from tensorflow.keras.layers import Input, LSTM, Embedding, Dense, Concatenate\n",
    "from tensorflow.keras.models import Model\n",
    "from tensorflow.keras.callbacks import EarlyStopping, ModelCheckpoint\n",
    "\n",
    "\n",
    "# 인코더 설계 시작\n",
    "embedding_dim = 128\n",
    "hidden_size = 256\n",
    "\n",
    "# 인코더\n",
    "encoder_inputs = Input(shape=(text_max_len,)) # text_max_len : 45. 즉 문자의 길이가 45\n",
    " \n",
    "# 인코더의 임베딩 층\n",
    "enc_emb = Embedding(src_vocab, embedding_dim)(encoder_inputs) # src_vocab : 20000, 문장의 길이 45인 문장을 넣음\n",
    "\n",
    "# 인코더의 LSTM 1\n",
    "encoder_lstm1 = LSTM(hidden_size, return_sequences=True, return_state=True ,dropout = 0.4, recurrent_dropout = 0.4) #recurrent_dropout=0\n",
    "encoder_output1, state_h1, state_c1 = encoder_lstm1(enc_emb)\n",
    "\n",
    "# 인코더의 LSTM 2\n",
    "encoder_lstm2 = LSTM(hidden_size, return_sequences=True, return_state=True, dropout=0.4, recurrent_dropout=0.4) #recurrent_dropout=0\n",
    "encoder_output2, state_h2, state_c2 = encoder_lstm2(encoder_output1)\n",
    "\n",
    "# 인코더의 LSTM 3\n",
    "encoder_lstm3 = LSTM(hidden_size, return_state=True, return_sequences=True, dropout=0.4, recurrent_dropout=0.4) #recurrent_dropout=0\n",
    "encoder_outputs, state_h, state_c= encoder_lstm3(encoder_output2)\n",
    "\n",
    "# 디코더 입력층\n",
    "# 디코더 설계, 디코더 인풋 shape 텐서 설정\n",
    "decoder_inputs = Input(shape=(None,))\n",
    "\n",
    "# 디코더의 임베딩 층\n",
    "dec_emb_layer = Embedding(tar_vocab, embedding_dim)\n",
    "dec_emb = dec_emb_layer(decoder_inputs)\n",
    "\n",
    "# 디코더의 LSTM\n",
    "decoder_lstm = LSTM(hidden_size, return_sequences = True, return_state = True, dropout = 0.4, recurrent_dropout=0.2) #recurrent_dropout=0\n",
    "decoder_outputs, _, _ = decoder_lstm(dec_emb, initial_state = [state_h, state_c]) \n",
    "\n",
    "# 어텐션 층(어텐션 함수)\n",
    "attn_layer = AttentionLayer(name='attention_layer')\n",
    "\n",
    "# 인코더와 디코더의 모든 time step의 hidden state를 어텐션 층에 전달하고 결과를 리턴\n",
    "attn_out, attn_states = attn_layer([encoder_outputs, decoder_outputs])\n",
    "\n",
    "# 어텐션의 결과와 디코더의 hidden state들을 연결\n",
    "decoder_concat_input = Concatenate(axis = -1, name='concat_layer')([decoder_outputs, attn_out])  # 어텐션 함수가 리턴한 값을 예측 시에 디코더의 hidden state와 함께 활용하는 형태로 작동\n",
    "\n",
    "# 디코더의 출력층\n",
    "decoder_softmax_layer = Dense(tar_vocab, activation='softmax')\n",
    "decoder_softmax_outputs = decoder_softmax_layer(decoder_concat_input)\n",
    "\n",
    "# 모델 정의\n",
    "model = Model([encoder_inputs, decoder_inputs], decoder_softmax_outputs)\n",
    "model.summary()"
   ]
  },
  {
   "cell_type": "code",
   "execution_count": 42,
   "id": "15ae7ce1",
   "metadata": {},
   "outputs": [
    {
     "name": "stdout",
     "output_type": "stream",
     "text": [
      "Epoch 1/50\n",
      "303/303 [==============================] - 226s 681ms/step - loss: 5.6187 - val_loss: 5.2065\n",
      "Epoch 2/50\n",
      "303/303 [==============================] - 203s 671ms/step - loss: 5.0420 - val_loss: 4.7878\n",
      "Epoch 3/50\n",
      "303/303 [==============================] - 204s 672ms/step - loss: 4.6905 - val_loss: 4.5157\n",
      "Epoch 4/50\n",
      "303/303 [==============================] - 202s 666ms/step - loss: 4.4242 - val_loss: 4.3237\n",
      "Epoch 5/50\n",
      "303/303 [==============================] - 201s 663ms/step - loss: 4.2141 - val_loss: 4.1745\n",
      "Epoch 6/50\n",
      "303/303 [==============================] - 200s 661ms/step - loss: 4.0399 - val_loss: 4.0611\n",
      "Epoch 7/50\n",
      "303/303 [==============================] - 200s 660ms/step - loss: 3.8937 - val_loss: 3.9780\n",
      "Epoch 8/50\n",
      "303/303 [==============================] - 199s 656ms/step - loss: 3.7693 - val_loss: 3.9095\n",
      "Epoch 9/50\n",
      "303/303 [==============================] - 200s 659ms/step - loss: 3.6580 - val_loss: 3.8502\n",
      "Epoch 10/50\n",
      "303/303 [==============================] - 199s 655ms/step - loss: 3.5624 - val_loss: 3.7982\n",
      "Epoch 11/50\n",
      "303/303 [==============================] - 197s 651ms/step - loss: 3.4737 - val_loss: 3.7579\n",
      "Epoch 12/50\n",
      "303/303 [==============================] - 197s 649ms/step - loss: 3.3949 - val_loss: 3.7241\n",
      "Epoch 13/50\n",
      "303/303 [==============================] - 197s 650ms/step - loss: 3.3240 - val_loss: 3.6940\n",
      "Epoch 14/50\n",
      "303/303 [==============================] - 196s 648ms/step - loss: 3.2585 - val_loss: 3.6669\n",
      "Epoch 15/50\n",
      "303/303 [==============================] - 196s 648ms/step - loss: 3.1951 - val_loss: 3.6453\n",
      "Epoch 16/50\n",
      "303/303 [==============================] - 196s 648ms/step - loss: 3.1372 - val_loss: 3.6250\n",
      "Epoch 17/50\n",
      "303/303 [==============================] - 197s 649ms/step - loss: 3.0880 - val_loss: 3.6120\n",
      "Epoch 18/50\n",
      "303/303 [==============================] - 196s 648ms/step - loss: 3.0408 - val_loss: 3.5948\n",
      "Epoch 19/50\n",
      "303/303 [==============================] - 195s 645ms/step - loss: 2.9918 - val_loss: 3.5830\n",
      "Epoch 20/50\n",
      "303/303 [==============================] - 196s 646ms/step - loss: 2.9467 - val_loss: 3.5733\n",
      "Epoch 21/50\n",
      "303/303 [==============================] - 195s 644ms/step - loss: 2.9096 - val_loss: 3.5672\n",
      "Epoch 22/50\n",
      "303/303 [==============================] - 195s 644ms/step - loss: 2.8721 - val_loss: 3.5664\n",
      "Epoch 23/50\n",
      "303/303 [==============================] - 196s 645ms/step - loss: 2.8380 - val_loss: 3.5545\n",
      "Epoch 24/50\n",
      "303/303 [==============================] - 195s 643ms/step - loss: 2.8041 - val_loss: 3.5520\n",
      "Epoch 25/50\n",
      "303/303 [==============================] - 194s 642ms/step - loss: 2.7707 - val_loss: 3.5417\n",
      "Epoch 26/50\n",
      "303/303 [==============================] - 194s 641ms/step - loss: 2.7393 - val_loss: 3.5385\n",
      "Epoch 27/50\n",
      "303/303 [==============================] - 194s 641ms/step - loss: 2.7079 - val_loss: 3.5305\n",
      "Epoch 28/50\n",
      "303/303 [==============================] - 194s 642ms/step - loss: 2.6781 - val_loss: 3.5336\n",
      "Epoch 29/50\n",
      "303/303 [==============================] - 194s 639ms/step - loss: 2.6527 - val_loss: 3.5247\n",
      "Epoch 30/50\n",
      "303/303 [==============================] - 194s 639ms/step - loss: 2.6279 - val_loss: 3.5256\n",
      "Epoch 31/50\n",
      "303/303 [==============================] - 193s 638ms/step - loss: 2.6059 - val_loss: 3.5204\n",
      "Epoch 32/50\n",
      "303/303 [==============================] - 193s 639ms/step - loss: 2.5821 - val_loss: 3.5220\n",
      "Epoch 33/50\n",
      "303/303 [==============================] - 194s 639ms/step - loss: 2.5601 - val_loss: 3.5170\n",
      "Epoch 34/50\n",
      "303/303 [==============================] - 194s 639ms/step - loss: 2.5401 - val_loss: 3.5254\n",
      "Epoch 35/50\n",
      "303/303 [==============================] - 195s 643ms/step - loss: 2.5175 - val_loss: 3.5197\n",
      "Epoch 00035: early stopping\n"
     ]
    }
   ],
   "source": [
    "model.compile(optimizer='rmsprop', loss='sparse_categorical_crossentropy')\n",
    "es = EarlyStopping(monitor='val_loss', mode='min', verbose=1, patience = 2)\n",
    "history = model.fit(x = [encoder_input_train, decoder_input_train], y = decoder_target_train, \\\n",
    "          validation_data = ([encoder_input_test, decoder_input_test], decoder_target_test),\n",
    "          batch_size = 256, callbacks=[es], epochs = 50)"
   ]
  },
  {
   "cell_type": "code",
   "execution_count": 43,
   "id": "64e074a7",
   "metadata": {},
   "outputs": [
    {
     "data": {
      "image/png": "[encoded data removed]",
      "text/plain": [
       "<Figure size 432x288 with 1 Axes>"
      ]
     },
     "metadata": {
      "needs_background": "light"
     },
     "output_type": "display_data"
    }
   ],
   "source": [
    "plt.plot(history.history['loss'], label='train')\n",
    "plt.plot(history.history['val_loss'], label='test')\n",
    "plt.legend()\n",
    "plt.show()"
   ]
  },
  {
   "cell_type": "markdown",
   "id": "d95695ae",
   "metadata": {},
   "source": [
    "## 추론(인퍼런스, 예측) 모델 구현하기\n",
    "테스트 단계에서는 정수 인덱스 행렬로 존재하던 정수 데이터를 실제 단어 데이터로 복원해야 하므로, 필요한 3개의 사전을 아래와 같이 미리 준비"
   ]
  },
  {
   "cell_type": "code",
   "execution_count": 44,
   "id": "8d9ea9a7",
   "metadata": {},
   "outputs": [],
   "source": [
    "src_index_to_word = src_tokenizer.index_word # 원문 단어 집합에서 정수 -> 단어를 얻음\n",
    "tar_word_to_index = tar_tokenizer.word_index # 요약 단어 집합에서 단어 -> 정수를 얻음\n",
    "tar_index_to_word = tar_tokenizer.index_word # 요약 단어 집합에서 정수 -> 단어를 얻음"
   ]
  },
  {
   "cell_type": "markdown",
   "id": "997ac3c0",
   "metadata": {},
   "source": [
    "seq2seq는 \n",
    "- **훈련 학습할 때**와 \n",
    "- **실제 추론(예측)할 때(인퍼런스 단계)**\n",
    "\n",
    "의 방식이 다르므로 그에 맞게 모델 설계를 별개로 진행해야 한다는 것, 알고 계시나요?\n",
    "\n",
    "**훈련 단계에**서는 디코더의 입력부에 정답이 되는 문장 전체를 한꺼번에 넣고 같은 문장인 디코더의 출력과 한 번에 비교하도록 **인코더와 디코더를 엮은 통짜 모델 하나**만 준비했습니다. 즉, 디코더의 입력과 출력값이 이미 존재하는 교사학습처럼 시켰음\n",
    "\n",
    "그러나  \n",
    "\n",
    "**정답 문장이 없는 인퍼런스(추론) 단계**에서는 추론해야 할 문장의 길이만큼 디코더가 반복 구조로 동작해야 하기 때문에 부득이하게 인퍼런스를 위한 모델 설계를 별도로 해주어야 합니다. 이때는 **인코더 모델과 디코더 모델을 분리**해서 설계합니다"
   ]
  },
  {
   "cell_type": "code",
   "execution_count": 45,
   "id": "40fffd5f",
   "metadata": {},
   "outputs": [],
   "source": [
    "# 인코더 모델 설계\n",
    "encoder_model = Model(inputs=encoder_inputs, outputs=[encoder_outputs, state_h, state_c]) # 각 인자값들은 훈련때 설계한 값들을 들고옴\n",
    "\n",
    "# 이전 시점의 상태들을 저장하는 텐서\n",
    "decoder_state_input_h = Input(shape=(hidden_size,)) # 디코더에 텐서형태로 입력값의 단순한 shape을 지정함\n",
    "decoder_state_input_c = Input(shape=(hidden_size,)) # 디코더에 텐서형태로 입력값의 단순한 shape을 지정함\n",
    "\n",
    "dec_emb2 = dec_emb_layer(decoder_inputs)\n",
    "# 문장의 다음 단어를 예측하기 위해서 초기 상태(initial_state)를 이전 시점의 상태로 사용. 이는 뒤의 함수 decode_sequence()에 구현\n",
    "# 훈련 과정에서와 달리 LSTM이 리턴하는 은닉 상태와 셀 상태인 state_h와 state_c를 버리지 않음.\n",
    "decoder_outputs2, state_h2, state_c2 = decoder_lstm(dec_emb2, initial_state=[decoder_state_input_h, decoder_state_input_c])"
   ]
  },
  {
   "cell_type": "markdown",
   "id": "711f8585",
   "metadata": {},
   "source": [
    "어텐션 메커니즘을 사용하는 출력층을 설계"
   ]
  },
  {
   "cell_type": "code",
   "execution_count": 46,
   "id": "91b5ece0",
   "metadata": {},
   "outputs": [],
   "source": [
    "# 어텐션 함수\n",
    "decoder_hidden_state_input = Input(shape=(text_max_len, hidden_size))\n",
    "attn_out_inf, attn_states_inf = attn_layer([decoder_hidden_state_input, decoder_outputs2])\n",
    "decoder_inf_concat = Concatenate(axis=-1, name='concat')([decoder_outputs2, attn_out_inf])\n",
    "\n",
    "# 디코더의 출력층\n",
    "decoder_outputs2 = decoder_softmax_layer(decoder_inf_concat) \n",
    "\n",
    "# 최종 디코더 모델\n",
    "decoder_model = Model(\n",
    "    [decoder_inputs] + [decoder_hidden_state_input,decoder_state_input_h, decoder_state_input_c],\n",
    "    [decoder_outputs2] + [state_h2, state_c2])"
   ]
  },
  {
   "cell_type": "markdown",
   "id": "f44b0e92",
   "metadata": {},
   "source": [
    "인퍼런스 단계에서 단어 시퀀스를 완성하는 함수를 만들기\n",
    "## 예측 함수 정의"
   ]
  },
  {
   "cell_type": "code",
   "execution_count": 47,
   "id": "d7e26991",
   "metadata": {},
   "outputs": [],
   "source": [
    "def decode_sequence(input_seq):\n",
    "    # 입력으로부터 인코더의 상태를 얻음\n",
    "    e_out, e_h, e_c = encoder_model.predict(input_seq)\n",
    "\n",
    "     # 에 해당하는 토큰 생성\n",
    "    target_seq = np.zeros((1,1))\n",
    "    target_seq[0, 0] = tar_word_to_index['sostoken']\n",
    "\n",
    "    stop_condition = False\n",
    "    decoded_sentence = ''\n",
    "    while not stop_condition: # stop_condition이 True가 될 때까지 루프 반복\n",
    "\n",
    "        output_tokens, h, c = decoder_model.predict([target_seq] + [e_out, e_h, e_c])\n",
    "        sampled_token_index = np.argmax(output_tokens[0, -1, :])\n",
    "        sampled_token = tar_index_to_word[sampled_token_index]\n",
    "\n",
    "        if(sampled_token!='eostoken'):\n",
    "            decoded_sentence += ' '+sampled_token\n",
    "\n",
    "        #  에 도달하거나 최대 길이를 넘으면 중단.\n",
    "        if (sampled_token == 'eostoken'  or len(decoded_sentence.split()) >= (headlines_max_len-1)):\n",
    "            stop_condition = True\n",
    "\n",
    "        # 길이가 1인 타겟 시퀀스를 업데이트\n",
    "        target_seq = np.zeros((1,1))\n",
    "        target_seq[0, 0] = sampled_token_index\n",
    "\n",
    "        # 상태를 업데이트 합니다.\n",
    "        e_h, e_c = h, c\n",
    "\n",
    "    return decoded_sentence"
   ]
  },
  {
   "cell_type": "markdown",
   "id": "134888d3",
   "metadata": {},
   "source": [
    "## 정수를 텍스트로 변환하는 함수 정의"
   ]
  },
  {
   "cell_type": "code",
   "execution_count": 48,
   "id": "49db8fad",
   "metadata": {},
   "outputs": [],
   "source": [
    "# 원문의 정수 시퀀스를 텍스트 시퀀스로 변환\n",
    "def seq2text(input_seq):\n",
    "    temp=''\n",
    "    for i in input_seq:\n",
    "        if(i!=0):\n",
    "            temp = temp + src_index_to_word[i]+' '\n",
    "    return temp\n",
    "\n",
    "# 요약문의 정수 시퀀스를 텍스트 시퀀스로 변환\n",
    "def seq2summary(input_seq):\n",
    "    temp=''\n",
    "    for i in input_seq:\n",
    "        if((i!=0 and i!=tar_word_to_index['sostoken']) and i!=tar_word_to_index['eostoken']):\n",
    "            temp = temp + tar_index_to_word[i] + ' '\n",
    "    return temp"
   ]
  },
  {
   "cell_type": "markdown",
   "id": "e58106af",
   "metadata": {},
   "source": [
    "# Step 4. 실제 결과와 요약문 비교하기 (추상적 요약)\n",
    "원래의 요약문(headlines 열)과 학습을 통해 얻은 추상적 요약의 결과를 비교해 보세요."
   ]
  },
  {
   "cell_type": "code",
   "execution_count": 49,
   "id": "982646ed",
   "metadata": {},
   "outputs": [
    {
     "name": "stdout",
     "output_type": "stream",
     "text": [
      "원문50 : twitter user recently posted picture poll asking people beach door picture shows three colours blue green white placed vertically alongside people got confused initially appears door looks like beach person later shared original photo showing beach \n",
      "실제 요약 : beach or door picture goes viral as people get confused \n",
      "예측 요약 :  twitter reacts to man shares pic with his own buyback\n",
      "\n",
      "\n",
      "원문51 : born july serbian inventor nikola tesla moved us work inventor thomas edison tesla quit edison machine works within six months reportedly unpaid bonuses went develop current technology directly challenged edison direct current edison later publicly electrocuted elephant depict ac dangers \n",
      "실제 요약 : tesla once worked for his rival thomas edison \n",
      "예측 요약 :  apple st apple billionaire to be held in apple\n",
      "\n",
      "\n",
      "원문52 : yoga guru ramdev patanjali delayed launch kimbho chat app missed official roll date monday announce new date official launch patanjali ayurved managing director acharya balkrishna said tweet app taken google play store may day first launched \n",
      "실제 요약 : patanjali delays app launch after missing deadline \n",
      "예측 요약 :  ramdev patanjali to launch app ramdev for ramdev\n",
      "\n",
      "\n",
      "원문53 : us president donald trump monday said real possibility iran nuclear deal terminated calling iranians great negotiated great deal trump said deal horrible us comes trump iran compliance deal last week \n",
      "실제 요약 : of iran nuclear deal real possibility trump \n",
      "예측 요약 :  iran nuclear deal would be us president trump\n",
      "\n",
      "\n",
      "원문54 : ride hailing startup ola raised million new york based hedge fund private ventures june per regulatory filings backed softbank falcon edge ola reportedly also talks microsoft raise million last month vanguard raised value investments ola taking valuation billion \n",
      "실제 요약 : ola raises crore from new york based hedge fund \n",
      "예측 요약 :  ola raises million in series funding\n",
      "\n",
      "\n",
      "원문55 : north delhi municipal corporation listed public toilets one six zones google maps pilot project officials visited toilet complexes obtain exact uploaded information three days following implementation project karol bagh department list remaining zones google maps \n",
      "실제 요약 : public toilets in delhi listed on google maps \n",
      "예측 요약 :  delhi to get new google training training\n",
      "\n",
      "\n",
      "원문56 : year old woman hyderabad burnt alive friday high tension wire fell car traveling farm house five family members inside car including husband two children suffered injuries accident police investigating negligence part telangana power supply department \n",
      "실제 요약 : woman burnt alive after high tension wire falls on her car \n",
      "예측 요약 :  woman dies after being hit by car in car in up\n",
      "\n",
      "\n",
      "원문57 : google could reportedly pay billion year apple ensure remains default search engine iphone safari browser ios according us investment firm goldman sachs analyst google could also pay apple billion apple also uses microsoft search engine bing \n",
      "실제 요약 : google may pay bn to remain apple default search engine \n",
      "예측 요약 :  google to pay billion to billion apple patent store\n",
      "\n",
      "\n",
      "원문58 : infosys co founder nr narayana murthy tuesday defended role dispute infosys board saying actions interest shareholders murthy added confident management would rally behind nandan nilekani new non executive chairman earlier infosys board blamed murthy continuous assault primary reason vishal sikka resignation ceo \n",
      "실제 요약 : my actions were in interest of infosys shareholders murthy \n",
      "예측 요약 :  murthy denies murthy exit infosys decision\n",
      "\n",
      "\n",
      "원문59 : us president donald trump like hell golf course trump partner time tour winner said always says world best times played never come close breaking holds career best world rank added \n",
      "실제 요약 : trump cheats like hell in golf trump partner \n",
      "예측 요약 :  trump is like the best time in the world trump\n",
      "\n",
      "\n",
      "원문60 : women prisoners inmates open jails maharashtra make video calls families relatives possible first kind initiative prisoners india state prison department official said prisoners talk family members five minutes charged first began pilot basis pune central jail \n",
      "실제 요약 : maha women prisoners allowed to make video calls to families \n",
      "예측 요약 :  women to get women from jail for st time in yrs\n",
      "\n",
      "\n",
      "원문61 : philippine president rodrigo duterte said country police free kill idiots violently resist arrest however homicide unlawful killings allowed police uphold rule law carrying duties added drug personalities killed police operations since duterte took office last year \n",
      "실제 요약 : cops free to kill idiots who resist arrest philippine prez \n",
      "예측 요약 :  philippine prez duterte threatens to stop drug attack\n",
      "\n",
      "\n",
      "원문62 : five lakh employers expected save around crore annually employees provident fund organisation decision cut administrative charges starting june charges slashed total wage paid employers epfo collected around crore administrative charges employers last fiscal \n",
      "실제 요약 : epfo cuts admin charges to save cr \n",
      "예측 요약 :  lakh crore cash within hours of family in\n",
      "\n",
      "\n",
      "원문63 : customer named william sued united airlines claiming united reservation agent humiliated unsolicited sex talk name phone call february agent reportedly taunted man nearly minutes lawsuit also claimed agent asked would alone together \n",
      "실제 요약 : man sues united as worker him with sex talk over name \n",
      "예측 요약 :  man sues united airlines for not having sex with\n",
      "\n",
      "\n",
      "원문64 : actress alia bhatt asked relationship status recent interview said sorry single earlier actor ranbir kapoor admitted alia dating interview may ranbir said new us let cook bit needs time breathe \n",
      "실제 요약 : sorry am not single alia bhatt on relationship status \n",
      "예측 요약 :  alia does not have ranbir if she is alia\n",
      "\n",
      "\n",
      "원문65 : eighteen year old kamlesh nagarkoti bowled speeds kmph ongoing world cup bought kkr crore ipl auction amount highest current india world cup player sold saturday nagarkoti base price lakh bought three way bidding war \n",
      "실제 요약 : pacer who bowled at kmph sold for cr in ipl \n",
      "예측 요약 :  yr old nets becomes world cup in ipl\n",
      "\n",
      "\n",
      "원문66 : filmmaker karan johar took social media share picture twins yash roohi dressed christmas themed outfits captioned mine johar also hosted christmas eve party sunday attended katrina kaif alia bhatt aishwarya rai ranbir kapoor among others \n",
      "실제 요약 : johar shares pic of his twins in christmas themed outfits \n",
      "예측 요약 :  karan johar shares picture with twins\n",
      "\n",
      "\n",
      "원문67 : microsoft ended support windows phone years april debut marking end windows phone os move would render nearly windows phones obsolete run company latest windows mobile os windows phone considered microsoft response android ios \n",
      "실제 요약 : microsoft officially ends support for windows phone \n",
      "예측 요약 :  microsoft to launch windows network in years\n",
      "\n",
      "\n",
      "원문68 : bitcoin surpassed mark wednesday hit fresh time high week crossing bitcoin largest cryptocurrency market value started start risen year crossing mark last week cryptocurrency lost value one day \n",
      "실제 요약 : bitcoin breaches mark to reach all time high \n",
      "예측 요약 :  bitcoin price falls to record high of\n",
      "\n",
      "\n",
      "원문69 : punjab based startup technologies raised undisclosed amount funding investor kalaari capital startup reportedly raised total million last months latest funding founded iit kharagpur alumni startup collects data across agriculture food value chain help food processors improve productivity \n",
      "실제 요약 : iit alumni startup gets funding from kalaari \n",
      "예측 요약 :  fitness startup raises mn in series funding\n",
      "\n",
      "\n",
      "원문70 : actor aamir khan said actor amitabh bachchan cannot recreated unique mean imagine time seven films running theatre months added aamir said watching amitabh screen theatre fulfilling experience \n",
      "실제 요약 : amitabh bachchan cannot be re created aamir \n",
      "예측 요약 :  am not big on screen superstar in bollywood aamir\n",
      "\n",
      "\n",
      "원문71 : president ram nath kovind prime minister narendra modi friday took part dussehra celebrations delhi lal maidan president kovind prime minister modi witnessed burning effigies ravana union minister harsh vardhan delhi bjp chief manoj tiwari also attended event \n",
      "실제 요약 : president kovind pm modi take part in celebrations \n",
      "예측 요약 :  pm modi president kovind attend delhi delhi event\n",
      "\n",
      "\n",
      "원문72 : decision rename delhi university singh evening college vande mataram put hold human resource development minister prakash javadekar said government decision change name college added november governing body college passed resolution rename institution \n",
      "실제 요약 : plan to rename du singh college on hold javadekar \n"
     ]
    },
    {
     "name": "stdout",
     "output_type": "stream",
     "text": [
      "예측 요약 :  du schools to hold new name of du students\n",
      "\n",
      "\n",
      "원문73 : least four workers killed nine injured sunday blast chemical plant gujarat vadodara reports said injured workers two stated critical condition admitted different hospitals treatment cause blast yet known inquiry ordered \n",
      "실제 요약 : killed injured in blast at chemical plant in vadodara \n",
      "예측 요약 :  killed injured in explosion at explosion in explosion\n",
      "\n",
      "\n",
      "원문74 : chennai based tvs logistics services private equity firm capital supply chain firm looking acquire vulcan express logistics unit snapdeal crore crore buyout likely take place within next two months report comes snapdeal said talks flipkart potential buyout \n",
      "실제 요약 : snapdeal may sell logistics unit for up to crore \n",
      "예측 요약 :  reliance industries to buy stake in mumbai reports\n",
      "\n",
      "\n",
      "원문75 : speaking trend personal branding facebook coo sheryl sandberg said package speak speak honestly data behind think building personal brand career want authentic sandberg added interview psychology professor adam grant \n",
      "실제 요약 : don package yourself sandberg on building personal brand \n",
      "예측 요약 :  facebook coo sheryl sandberg resigns\n",
      "\n",
      "\n",
      "원문76 : canadian air traffic controllers bought hundreds pizzas american counterparts received salaries due partial us government shutdown around air traffic controllers us working without pay since shutdown imposed december notably ongoing government shutdown longest us history \n",
      "실제 요약 : canada air traffic send pizzas to unpaid us \n",
      "예측 요약 :  airline to pay lakh to avoid refugees\n",
      "\n",
      "\n",
      "원문77 : six afghan girls denied visas travel us international robotics competition robot built allowed entry asked girls banned official cited regulations prohibiting agency discussing individual visa cases girls watch robot compete via live streaming contest organisers said \n",
      "실제 요약 : afghan all girl robotics team denied us entry robot allowed \n",
      "예측 요약 :  un to allow women to check hotel in us without sex\n",
      "\n",
      "\n",
      "원문78 : talking film padmavati bjp leader subramanian swamy said many big budget movies made days see conspiracy people dubai want muslim kings portrayed hero added want show hindu women wanted relationships swamy hinted larger international conspiracy \n",
      "실제 요약 : people from dubai want to show muslim kings as heroes swamy \n",
      "예측 요약 :  big films is not big on rajinikanth\n",
      "\n",
      "\n",
      "원문79 : industry chamber assocham asked government postpone gst implementation saying taxpayers find difficult comply new tax regime network yet ready letter finance minister arun jaitley assocham added current phase gst migration existing server constantly maintenance \n",
      "실제 요약 : gst as it network not ready to jaitley \n",
      "예측 요약 :  gst council to gst on gst\n",
      "\n",
      "\n",
      "원문80 : authorities mexican state seized van mounted cannon used propel packages marijuana across country border us authorities also seized kilograms marijuana bullets however none criminals operating machine arrested operation \n",
      "실제 요약 : mexican authorities seize marijuana near us border \n",
      "예측 요약 :  thieves steal neymar seized from truck in canada\n",
      "\n",
      "\n",
      "원문81 : many people died others injured rain related incidents across uttar pradesh past hours statement issued office relief commissioner said sunday animals died state many houses huts also damaged \n",
      "실제 요약 : die in rain related incidents in up in one day \n",
      "예측 요약 :  killed injured in gujarat in uttar pradesh\n",
      "\n",
      "\n",
      "원문82 : telangana irrigation minister harish rao tuesday said andhra pradesh granted special category status telangana adding industries moved andhra pradesh alone given special status said telangana congress leaders support sc status andhra cost telangana \n",
      "실제 요약 : telangana should get special status if andhra does minister \n",
      "예측 요약 :  andhra pradesh assembly to be andhra pradesh minister\n",
      "\n",
      "\n",
      "원문83 : former cricketer sachin tendulkar recently shot marathi tv show hawa spotted sheet glass cricket bat tendulkar accompanied wife anjali shattered glass sheet reveal poster upcoming film sachin billion dreams movie set release may \n",
      "실제 요약 : tendulkar glass with bat on sets of marathi tv show \n",
      "예측 요약 :  sachin tendulkar shares video of his spider fans\n",
      "\n",
      "\n",
      "원문84 : government air india disinvestment plan civil aviation minister ashok gajapathi raju said would like airline go kingfisher way would want people losing jobs said whole idea privatisation vibrant airline notably carrier debt crore \n",
      "실제 요약 : do not want air india to go the kingfisher way aviation min \n",
      "예측 요약 :  air india debt is not an air india to govt\n",
      "\n",
      "\n",
      "원문85 : amid fears food contamination across country police australia new south wales arrested boy admitted inserting needles prank meanwhile australian parliament passed legislation thursday increase maximum prison term years years anyone convicted tampering food \n",
      "실제 요약 : australian boy arrested for in \n",
      "예측 요약 :  new zealand restaurant in australia\n",
      "\n",
      "\n",
      "원문86 : congress released second candidate list karnataka assembly polls nominated cm siddaramaiah constituency siddaramaiah already nominated given second ticket due public demand party said referring general polls senior congress leaders added modi ji also contested election two seats \n",
      "실제 요약 : taka cm contesting from seats due to public demand cong \n",
      "예측 요약 :  congress releases its first congress candidates in taka\n",
      "\n",
      "\n",
      "원문87 : speaking world economic forum switzerland davos pm narendra modi tuesday said losing protectionism gaining importance india opened almost areas economy fdi added said good bad terrorism global warming protectionism three challenges facing world \n",
      "실제 요약 : is losing its pm modi in davos \n",
      "예측 요약 :  pm modi open open abroad in india\n",
      "\n",
      "\n",
      "원문88 : china tuesday ordered tour operators based border city halt trips north korea notice according reports came day us president donald trump visit china amid ongoing tensions north korea nuclear programme north korea reportedly generates crore tourism china \n",
      "실제 요약 : china bans tourism to north korea \n",
      "예측 요약 :  china orders to deploy military to citizens\n",
      "\n",
      "\n",
      "원문89 : many people killed bridge collapsed italian port city genoa tuesday reports citing italy interior ministry said one person pulled alive rubble two people injured local media reported italy transport minister said incident seemed like imminent tragedy \n",
      "실제 요약 : dead as bridge collapses with cars on it in italy \n",
      "예측 요약 :  dead as bridge collapses in brazil\n",
      "\n",
      "\n",
      "원문90 : meeting non nda party leaders former congress president sonia gandhi urged everyone bury differences unite ruling bjp national level alert issues national concern come together leaving aside differences congress leader ghulam nabi azad quoted sonia gandhi saying \n",
      "실제 요약 : sonia urges opp to bury differences and unite against bjp \n",
      "예측 요약 :  congress is not responsible for indu sarkar sonia gandhi\n",
      "\n",
      "\n",
      "원문91 : prime minister narendra modi tuesday tweeted cinema make point cleanliness innovative picture poster featuring scene film emerged online poster shows sumitra devi played roy saying nahi jo mai saath instead choosing sons \n",
      "실제 요약 : modi tweets on poster promoting swachh bharat \n",
      "예측 요약 :  pm modi wishes hits the theatres\n",
      "\n",
      "\n",
      "원문92 : delhi daredevils eased run win kings xi punjab indian premier league match saturday batting first daredevils put sam scoring ball reply kings xi managed score axar patel top scoring ball daredevils rounder chris morris picked three wickets \n",
      "실제 요약 : daredevils ease to run win over kings xi punjab \n",
      "예측 요약 :  delhi daredevils end ipl match unbeaten streak\n",
      "\n",
      "\n",
      "원문93 : may india commenced second nuclear tests operation shakti army range rajasthan pokhran successfully conducting five two days later pm atal bihari vajpayee declared india full fledged nuclear weapons state later india committed first use nuclear policy wherein use weapons unless attacked first \n",
      "실제 요약 : india conducted second nuke tests on this day years ago \n",
      "예측 요약 :  india tests nuclear test site for st time in india\n",
      "\n",
      "\n",
      "원문94 : police constable minor boy arrested sunday allegedly raping year old girl north goa constable taken raped pretext dropping home thursday police said minor arrested victim told police physically abused last month \n",
      "실제 요약 : goa police constable arrested for raping year old girl \n",
      "예측 요약 :  man rapes yr old girl in up arrested for raping minor\n",
      "\n",
      "\n",
      "원문95 : rbi revealed demonetised notes make back system former finance minister chidambaram wednesday used figures criticise saying shame rbi also questioned government whether demonetisation decision designed convert black money white \n",
      "실제 요약 : shame on rbi chidambaram on post demonetisation figures \n"
     ]
    },
    {
     "name": "stdout",
     "output_type": "stream",
     "text": [
      "예측 요약 :  rbi is like to be used to be ex fm\n",
      "\n",
      "\n",
      "원문96 : year old woman used name mrs fortune jackpot prize million lottery us woman prize lottery years back prize money takes load comes bills living expenses said \n",
      "실제 요약 : woman who won in lottery wins million \n",
      "예측 요약 :  woman wins lottery prize for cr\n",
      "\n",
      "\n",
      "원문97 : us president donald trump branded former fbi director james comey former fbi deputy director andrew losers ruining stellar reputation fbi trump said hurt many great men women fbi trump fired comey last year handling hillary clinton email investigation \n",
      "실제 요약 : trump calls comey co for fbi \n",
      "예측 요약 :  ex fbi director calls ex fbi director comey\n",
      "\n",
      "\n",
      "원문98 : video altercation american airlines crew woman carrying child surfaced online airline issued apology deeply sorry pain caused passenger family customers affected airline said notably employee violently took woman hitting \n",
      "실제 요약 : airline apologises to woman hit with baby by staff \n",
      "예측 요약 :  man who fired woman on flight delays flight delays\n",
      "\n",
      "\n",
      "원문99 : following congress vice president rahul gandhi us visit several congress leaders claimed rahul managed correct perception people party would benefit new avatar leaders said received calls many youngsters india well us canada really impressed speeches \n",
      "실제 요약 : party will benefit from rahul new avatar cong leaders \n",
      "예측 요약 :  rahul gandhi is the congress\n",
      "\n",
      "\n"
     ]
    }
   ],
   "source": [
    "for i in range(50, 100):\n",
    "    print(f\"원문{i} :\", seq2text(encoder_input_test[i]))\n",
    "    print(\"실제 요약 :\", seq2summary(decoder_input_test[i]))\n",
    "    print(\"예측 요약 :\", decode_sequence(encoder_input_test[i].reshape(1, text_max_len)))\n",
    "    print(\"\\n\")"
   ]
  },
  {
   "cell_type": "code",
   "execution_count": 50,
   "id": "01c02a80",
   "metadata": {},
   "outputs": [
    {
     "data": {
      "text/plain": [
       "'yoga guru ramdev patanjali delayed launch kimbho chat app missed official roll date monday announce new date official launch patanjali ayurved managing director acharya balkrishna said tweet app taken google play store may day first launched '"
      ]
     },
     "execution_count": 50,
     "metadata": {},
     "output_type": "execute_result"
    }
   ],
   "source": [
    "seq2text(encoder_input_test[52])"
   ]
  },
  {
   "cell_type": "code",
   "execution_count": 51,
   "id": "feb1b3be",
   "metadata": {},
   "outputs": [
    {
     "data": {
      "text/plain": [
       "'patanjali delays app launch after missing deadline'"
      ]
     },
     "execution_count": 51,
     "metadata": {},
     "output_type": "execute_result"
    }
   ],
   "source": [
    "str_test = seq2summary(decoder_input_test[52])[:-1]\n",
    "str_test"
   ]
  },
  {
   "cell_type": "markdown",
   "id": "b28b27ba",
   "metadata": {},
   "source": [
    "# Step 5. Summa을 이용해서 추출적 요약해보기\n",
    "추상적 요약은 추출적 요약과는 달리 문장의 표현력을 다양하게 가져갈 수 있지만, 추출적 요약에 비해서 난이도가 높아요. 반대로 말하면 추출적 요약은 추상적 요약에 비해 난이도가 낮고 기존 문장에서 문장을 꺼내오는 것이므로 잘못된 요약이 나올 가능성이 낮아요.\n",
    "\n",
    "Summa의 summarize를 사용하여 추출적 요약을 해보세요.\n",
    "\n",
    "## summarize 사용하기\n",
    "Summa의 summarize()의 인자로 사용되는 값들에 대해서 알아볼게요.\n",
    "> text (str) : 요약할 테스트.  \n",
    "ratio (float, optional) – 요약문에서 원본에서 선택되는 문장 비율. 0~1 사이값  \n",
    "words (int or None, optional) – 출력에 포함할 단어 수.  \n",
    "만약, ratio와 함께 두 파라미터가 모두 제공되는 경우 ratio는 무시한다.  \n",
    "split (bool, optional) – True면 문장 list / False는 조인(join)된 문자열을 반환  \n",
    "\n",
    "Summa의 summarize는 문장 토큰화를 별도로 하지 않더라도 내부적으로 문장 토큰화를 수행해요. 그렇기 때문에 문장 구분이 되어있지 않은 원문을 바로 입력으로 넣을 수 있어요. 비율을 적게 주어서 요약문으로 선택되는 문장의 개수를 줄여볼게요. 원문의 0.005%만을 출력하도록 설정했어요."
   ]
  },
  {
   "cell_type": "code",
   "execution_count": 53,
   "id": "ab0e4f9a",
   "metadata": {},
   "outputs": [],
   "source": [
    "import requests\n",
    "from summa.summarizer import summarize"
   ]
  },
  {
   "cell_type": "code",
   "execution_count": 54,
   "id": "753f0d72",
   "metadata": {},
   "outputs": [],
   "source": [
    "urllib.request.urlretrieve(\"https://raw.githubusercontent.com/sunnysai12345/News_Summary/master/news_summary_more.csv\", filename=\"news_summary_more.csv\")\n",
    "summa_data = pd.read_csv('news_summary_more.csv', encoding='iso-8859-1')"
   ]
  },
  {
   "cell_type": "code",
   "execution_count": 55,
   "id": "a2e34101",
   "metadata": {},
   "outputs": [
    {
     "name": "stdout",
     "output_type": "stream",
     "text": [
      "Summary:\n",
      "Facebook is working on a feature called 'Your Time on Facebook' which will track how much time users spend on an average on the app.\n"
     ]
    }
   ],
   "source": [
    "print('Summary:')\n",
    "print(summarize(summa_data.iloc[36928].text, words=13))"
   ]
  },
  {
   "cell_type": "code",
   "execution_count": 62,
   "id": "5d78167a",
   "metadata": {},
   "outputs": [
    {
     "name": "stdout",
     "output_type": "stream",
     "text": [
      "원문 : Saurav Kant, an alumnus of upGrad and IIIT-B's PG Program in Machine learning and Artificial Intelligence, was a Sr Systems Engineer at Infosys with almost 5 years of work experience. The program and upGrad's 360-degree career support helped him transition to a Data Scientist at Tech Mahindra with 90% salary hike. upGrad's Online Power Learning has powered 3 lakh+ careers.\n",
      "실제 요약 : upGrad learner switches to career in ML & Al with 90% salary hike\n",
      "예측 요약 : upGrad's Online Power Learning has powered 3 lakh+ careers.\n",
      "\n",
      "\n",
      "원문 : Kunal Shah's credit card bill payment platform, CRED, gave users a chance to win free food from Swiggy for one year. Pranav Kaushik, a Delhi techie, bagged this reward after spending 2000 CRED coins. Users get one CRED coin per rupee of bill paid, which can be used to avail rewards from brands like Ixigo, BookMyShow, UberEats, Cult.Fit and more.\n",
      "실제 요약 : Delhi techie wins free food from Swiggy for one year on CRED\n",
      "예측 요약 : Users get one CRED coin per rupee of bill paid, which can be used to avail rewards from brands like Ixigo, BookMyShow, UberEats, Cult.Fit and more.\n",
      "\n",
      "\n",
      "원문 : New Zealand defeated India by 8 wickets in the fourth ODI at Hamilton on Thursday to win their first match of the five-match ODI series. India lost an international match under Rohit Sharma's captaincy after 12 consecutive victories dating back to March 2018. The match witnessed India getting all out for 92, their seventh lowest total in ODI cricket history.\n",
      "실제 요약 : New Zealand end Rohit Sharma-led India's 12-match winning streak\n",
      "예측 요약 : The match witnessed India getting all out for 92, their seventh lowest total in ODI cricket history.\n",
      "\n",
      "\n",
      "원문 : With Aegon Life iTerm Insurance plan, customers can enjoy tax benefits on your premiums paid and save up to Ã¢ÂÂ¹46,800^ on taxes. The plan provides life cover up to the age of 100 years. Also, customers have options to insure against Critical Illnesses, Disability and Accidental Death Benefit Rider with a life cover up to the age of 80 years.\n",
      "실제 요약 : Aegon life iTerm insurance plan helps customers save tax\n",
      "예측 요약 : Also, customers have options to insure against Critical Illnesses, Disability and Accidental Death Benefit Rider with a life cover up to the age of 80 years.\n",
      "\n",
      "\n",
      "원문 : Speaking about the sexual harassment allegations against Rajkumar Hirani, Sonam Kapoor said, \"I've known Hirani for many years...What if it's not true, the [#MeToo] movement will get derailed.\" \"In the #MeToo movement, I always believe a woman. But in this case, we need to reserve our judgment,\" she added. Hirani has been accused by an assistant who worked in 'Sanju'.\n",
      "실제 요약 : Have known Hirani for yrs, what if MeToo claims are not true: Sonam\n",
      "예측 요약 : Speaking about the sexual harassment allegations against Rajkumar Hirani, Sonam Kapoor said, \"I've known Hirani for many years...What if it's not true, the [#MeToo] movement will get derailed.\" \"In the #MeToo movement, I always believe a woman.\n",
      "\n",
      "\n",
      "원문 : Pakistani singer Rahat Fateh Ali Khan has denied receiving any notice from the Enforcement Directorate over allegedly smuggling foreign currency out of India. \"It would have been better if the authorities would have served the notice first if any and then publicised this,\" reads a press release issued on behalf of Rahat. The statement further called the allegation \"bizarre\".\n",
      "실제 요약 : Rahat Fateh Ali Khan denies getting notice for smuggling currency\n",
      "예측 요약 : Pakistani singer Rahat Fateh Ali Khan has denied receiving any notice from the Enforcement Directorate over allegedly smuggling foreign currency out of India.\n",
      "\n",
      "\n",
      "원문 : India recorded their lowest ODI total in New Zealand after getting all out for 92 runs in 30.5 overs in the fourth ODI at Hamilton on Thursday. Seven of India's batsmen were dismissed for single-digit scores, while their number ten batsman Yuzvendra Chahal top-scored with 18*(37). India's previous lowest ODI total in New Zealand was 108.\n",
      "실제 요약 : India get all out for 92, their lowest ODI total in New Zealand\n",
      "예측 요약 : India's previous lowest ODI total in New Zealand was 108.\n",
      "\n",
      "\n",
      "원문 : Weeks after ex-CBI Director Alok Verma told the Department of Personnel and Training to consider him retired, the Home Ministry asked him to join work on the last day of his fixed tenure as Director on Thursday. The ministry directed him to immediately join as DG, Fire Services, the post he was transferred to after his removal as CBI chief.\n",
      "실제 요약 : Govt directs Alok Verma to join work 1 day before his retirement\n",
      "예측 요약 : Weeks after ex-CBI Director Alok Verma told the Department of Personnel and Training to consider him retired, the Home Ministry asked him to join work on the last day of his fixed tenure as Director on Thursday.\n",
      "\n",
      "\n",
      "원문 : Andhra Pradesh CM N Chandrababu Naidu has said, \"When I met then US President Bill Clinton, I addressed him as Mr Clinton, not as 'sir'. (PM Narendra) Modi is my junior in politics...I addressed him as sir 10 times.\" \"I did this...to satisfy his ego in the hope that he will do justice to the state,\" he added.\n",
      "실제 요약 : Called PM Modi 'sir' 10 times to satisfy his ego: Andhra CM\n",
      "예측 요약 : Andhra Pradesh CM N Chandrababu Naidu has said, \"When I met then US President Bill Clinton, I addressed him as Mr Clinton, not as 'sir'.\n",
      "\n",
      "\n",
      "원문 : Congress candidate Shafia Zubair won the Ramgarh Assembly seat in Rajasthan, by defeating BJP's Sukhwant Singh with a margin of 12,228 votes in the bypoll. With this victory, Congress has taken its total to 100 seats in the 200-member assembly. The election to the Ramgarh seat was delayed due to the death of sitting MLA and BSP candidate Laxman Singh.\n",
      "실제 요약 : Cong wins Ramgarh bypoll in Rajasthan, takes total to 100 seats\n",
      "예측 요약 : Congress candidate Shafia Zubair won the Ramgarh Assembly seat in Rajasthan, by defeating BJP's Sukhwant Singh with a margin of 12,228 votes in the bypoll.\n",
      "\n",
      "\n",
      "원문 : Two minor cousins in Uttar Pradesh's Gorakhpur were allegedly repeatedly burnt with tongs and forced to eat human excreta by their family for being friends with two boys from the same school. The cousins revealed their ordeal to the police and Child Welfare Committee after being brought back to Gorakhpur from Nepal, where they had fled to escape the torture.\n",
      "실제 요약 : UP cousins fed human excreta for friendship with boys\n",
      "예측 요약 : Two minor cousins in Uttar Pradesh's Gorakhpur were allegedly repeatedly burnt with tongs and forced to eat human excreta by their family for being friends with two boys from the same school.\n",
      "\n",
      "\n",
      "원문 : Isha Ghosh, an 81-year-old member of Bharat Scouts and Guides (BSG), has been imparting physical and mental training to schoolchildren in Jharkhand for several decades. Chaibasa-based Ghosh reportedly walks seven kilometres daily and spends eight hours conducting physical training, apart from climbing and yoga sessions. She says, \"One should do something for society till one's last breath.\"\n",
      "실제 요약 : 81-yr-old woman conducts physical training in J'khand schools\n",
      "예측 요약 : Isha Ghosh, an 81-year-old member of Bharat Scouts and Guides (BSG), has been imparting physical and mental training to schoolchildren in Jharkhand for several decades.\n",
      "\n",
      "\n",
      "원문 : Urging saints and seers at the Kumbh Mela to quit smoking, Yoga guru Ramdev said, \"We follow Ram and Krishna who never smoked in their life then why should we?\" Making them take a pledge to quit tobacco, he collected chillum (clay pipe) from several sadhus. He said he will deposit the chillums for display at a museum he'll build.\n",
      "실제 요약 : Ram, Krishna didn't smoke, why should we: Ramdev to sadhus at Kumbh\n",
      "예측 요약 : Urging saints and seers at the Kumbh Mela to quit smoking, Yoga guru Ramdev said, \"We follow Ram and Krishna who never smoked in their life then why should we?\" Making them take a pledge to quit tobacco, he collected chillum (clay pipe) from several sadhus.\n",
      "\n",
      "\n",
      "원문 : Former stripper and regional sales director of a pharmaceutical company, Sunrise Lee, gave a doctor a lap dance in a nightclub to persuade him to prescribe an addictive fentanyl spray in 2012, the company's sales representative told a US court. She said she saw Lee \"sitting on [doctor's] lap, kind of bouncing around.\" Lee has been accused of bribing doctors.\n",
      "실제 요약 : Pharma exec gave doctor a lap dance to sell medicine in US: Witness\n",
      "예측 요약 : Former stripper and regional sales director of a pharmaceutical company, Sunrise Lee, gave a doctor a lap dance in a nightclub to persuade him to prescribe an addictive fentanyl spray in 2012, the company's sales representative told a US court.\n",
      "\n",
      "\n",
      "원문 : Reliance Industries' Chairman Mukesh Ambani's daughter Isha Ambani, who got married last month, said she only cried at her 'bidaai' because she felt peer pressure as everyone was crying, especially her parents. \"I was emotional too but everyone around me would cry all the time,\" she added. \"It was a very emotional affair for everyone in my family,\" said Isha.\n",
      "실제 요약 :  I only cried at my 'bidaai' as I felt peer pressure: Isha Ambani\n",
      "예측 요약 : \"It was a very emotional affair for everyone in my family,\" said Isha.\n",
      "\n",
      "\n",
      "원문 : Louis Vuitton owner LVMH, which makes high-end beverages like MoÃÂ«t & Chandon champagne and Hennessy cognac, said it's stockpiling four months' worth of wine and spirits in UK in preparation for Brexit. \"We're ready for worst case scenario if there are difficulties with deliveries,\" the French luxury giant said. The UK is scheduled to leave the EU on March 29.\n",
      "실제 요약 : Louis Vuitton owner to stockpile 4 months of wine, spirits in UK\n",
      "예측 요약 : Louis Vuitton owner LVMH, which makes high-end beverages like MoÃÂ«t & Chandon champagne and Hennessy cognac, said it's stockpiling four months' worth of wine and spirits in UK in preparation for Brexit.\n",
      "\n",
      "\n",
      "원문 : Filmmaker Karan Johar and actress Tabu turned showstoppers for Gaurav Gupta on the opening night of LakmÃÂ© Fashion Week Summer/ Resort 2019. While Johar wore a red sequinned jacket with black pants, Tabu walked the ramp in a grey embellished gown. The fashion show, which began on January 29, will continue till February 3.\n",
      "실제 요약 : Karan Johar, Tabu turn showstoppers on opening night of LFW\n",
      "예측 요약 : Filmmaker Karan Johar and actress Tabu turned showstoppers for Gaurav Gupta on the opening night of LakmÃÂ© Fashion Week Summer/ Resort 2019.\n",
      "\n",
      "\n",
      "원문 : In a jibe at Congress President Rahul Gandhi, PM Narendra Modi on Wednesday said those on \"bail will have to go to jail.\" PM Modi added, \"He is out on bail and his associates too are facing charges...I know they will be convicted one day.\" The PM claimed he'd waged a war on corruption because he's from a common household. \n",
      "실제 요약 : Those on bail will go to jail: PM Modi takes jibe at Rahul\n",
      "예측 요약 : \n",
      "\n",
      "\n",
      "원문 : Days after he threatened to step down from his post if Congress MLAs continue \"crossing the line,\" Karnataka Chief Minister HD Kumaraswamy accused them of taking potshots and asked, \"How many more days can I tolerate such stuff?\" Kumaraswamy, who made the statements after a Congress MLA demanded that Siddaramaiah be made CM again, said, \"Power is ephemeral.\"\n",
      "실제 요약 : How long can I tolerate Congress leaders' potshots: K'taka CM\n",
      "예측 요약 : \n",
      "\n",
      "\n",
      "원문 : Union Minister Dharmendra Pradhan on Wednesday claimed the illegal mining mafia in Odisha operates under the control of CM Naveen Patnaik and state Congress chief Niranjan Patnaik. He added, \"The time has come for the people of Odisha to put a full stop to their activities...The time has come for us to ask for an explanation from this corrupt government.\"\n",
      "실제 요약 : Odisha CM Patnaik controls mining mafia: Union Minister\n",
      "예측 요약 : Union Minister Dharmendra Pradhan on Wednesday claimed the illegal mining mafia in Odisha operates under the control of CM Naveen Patnaik and state Congress chief Niranjan Patnaik.\n",
      "\n",
      "\n"
     ]
    }
   ],
   "source": [
    "# 여러 개 확인해보기\n",
    "for idx, (headlines, text) in enumerate(zip(summa_data['headlines'], summa_data['text'])):\n",
    "    if idx == 20: break\n",
    "    \n",
    "    print(\"원문 :\", text)\n",
    "    print(\"실제 요약 :\", headlines)\n",
    "    print(\"예측 요약 :\", summarize(text, ratio=0.5))\n",
    "    print(\"\\n\")"
   ]
  },
  {
   "cell_type": "markdown",
   "id": "c97f7e86",
   "metadata": {},
   "source": [
    "# Step 6. 추상적 요약과 추출적 요약 비교"
   ]
  },
  {
   "cell_type": "code",
   "execution_count": 56,
   "id": "e4bbd86e",
   "metadata": {},
   "outputs": [
    {
     "name": "stdout",
     "output_type": "stream",
     "text": [
      "1)원문(전처리전) : Facebook is working on a feature called 'Your Time on Facebook' which will track how much time users spend on an average on the app. It will also offer users an option to set a daily time limit to reduce app usage. A company spokesperson confirmed the same but did not reveal when or if the feature would be launched.\n",
      "\n",
      "\n",
      "2)원문(전처리후) : yoga guru ramdev patanjali delayed launch kimbho chat app missed official roll date monday announce new date official launch patanjali ayurved managing director acharya balkrishna said tweet app taken google play store may day first launched \n",
      "\n",
      "\n",
      "3)실제 요약 : patanjali delays app launch after missing deadline \n",
      "\n",
      "\n",
      "4)추상적 요약 :  ramdev patanjali to launch app ramdev for ramdev\n",
      "\n",
      "\n",
      "5)추출적 요약 : Facebook is working on a feature called 'Your Time on Facebook' which will track how much time users spend on an average on the app.\n",
      "\n",
      "\n"
     ]
    }
   ],
   "source": [
    "print(\"1)원문(전처리전) :\", summa_data.iloc[36928].text)\n",
    "print(\"\\n\")\n",
    "print(\"2)원문(전처리후) :\", seq2text(encoder_input_test[52]))\n",
    "print(\"\\n\")\n",
    "print(\"3)실제 요약 :\", seq2summary(decoder_input_test[52]))\n",
    "print(\"\\n\")\n",
    "print(\"4)추상적 요약 :\", decode_sequence(encoder_input_test[52].reshape(1, text_max_len)))\n",
    "print(\"\\n\")\n",
    "print(\"5)추출적 요약 :\", summarize(summa_data.iloc[36928].text, ratio=0.5))\n",
    "print(\"\\n\")"
   ]
  },
  {
   "cell_type": "markdown",
   "id": "03ae6372",
   "metadata": {},
   "source": [
    "# Step 6. 회고"
   ]
  },
  {
   "cell_type": "markdown",
   "id": "a3b5a090",
   "metadata": {},
   "source": [
    "1. 코드를 이해하는데 시간이 많이 걸렸으며 attention층 구조와 기능을 이해하는데 힘들었다\n",
    "2. 추론 결과에 대해서 어느 부분은 추론이 잘됐으나 어떤 부분은 문법적으로 오류도 있었다\n",
    "3. RNN 구조에 대해서 다시 공부해야겠다"
   ]
  }
 ],
 "metadata": {
  "kernelspec": {
   "display_name": "Python 3 (ipykernel)",
   "language": "python",
   "name": "python3"
  },
  "language_info": {
   "codemirror_mode": {
    "name": "ipython",
    "version": 3
   },
   "file_extension": ".py",
   "mimetype": "text/x-python",
   "name": "python",
   "nbconvert_exporter": "python",
   "pygments_lexer": "ipython3",
   "version": "3.9.7"
  }
 },
 "nbformat": 4,
 "nbformat_minor": 5
}

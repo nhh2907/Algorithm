{
 "cells": [
  {
   "cell_type": "markdown",
   "id": "16f5bb1d",
   "metadata": {},
   "source": [
    "이전 스텝에서 배운 MF 모델 학습 방법을 토대로, 내가 좋아할 만한 영화 추천 시스템을 제작해 보겠습니다.\n",
    "\n",
    "이번에 활용할 데이터셋은 추천 시스템의 MNIST라고 부를만한 Movielens 데이터입니다.\n",
    "\n",
    "- 유저가 영화에 대해 평점을 매긴 데이터가 데이터 크기 별로 있습니다. MovieLens 1M Dataset 사용을 권장합니다.\n",
    "- 별점 데이터는 대표적인 explicit 데이터입니다. 하지만 implicit 데이터로 간주하고 테스트해 볼 수 있습니다.\n",
    "- 별점을 시청횟수로 해석해서 생각하겠습니다.\n",
    "- 또한 유저가 3점 미만으로 준 데이터는 선호하지 않는다고 가정하고 제외하겠습니다.\n",
    "\n",
    "Cloud Storage에 미리 업로드된 ml-1m폴더 내 파일을 심볼릭 링크로 개인 storage에 연결해 줍니다.\n",
    "\n",
    "Cloud shell에서 아래 명령어를 입력해 주세요.\n",
    "\n",
    "mkdir -p ~/aiffel/recommendata_iu/data/ml-1m  \n",
    "ln -s ~/data/ml-1m/* ~/aiffel/recommendata_iu/data/ml-1m\n",
    "\n",
    "프로젝트에 필요한 주요 라이브러리 버전을 확인해봅시다."
   ]
  },
  {
   "cell_type": "code",
   "execution_count": 1,
   "id": "4581d0ec",
   "metadata": {},
   "outputs": [],
   "source": [
    "import numpy as np\n",
    "import pandas as pd\n",
    "import os\n",
    "import scipy\n",
    "from implicit.als import AlternatingLeastSquares\n",
    "from scipy.sparse import csr_matrix"
   ]
  },
  {
   "cell_type": "markdown",
   "id": "837e70a2",
   "metadata": {},
   "source": [
    "# STEP 1. 데이터 준비와 전처리\n",
    "Movielens 데이터는 rating.dat 안에 이미 인덱싱까지 완료된 사용자-영화-평점 데이터가 깔끔하게 정리되어 있습니다"
   ]
  },
  {
   "cell_type": "code",
   "execution_count": 2,
   "id": "0d73b70e",
   "metadata": {},
   "outputs": [],
   "source": [
    "def load_data(data_path, cols_names, is_time=None, nrows=None):\n",
    "    data = pd.read_csv(data_path, sep='::', names=cols_names, engine='python', encoding=\"ISO-8859-1\")\n",
    "    data.columns = cols_names\n",
    "    if is_time:\n",
    "        data['Time'] = pd.to_datetime(data['Time'], unit='s')               # 시간 형식 변경\n",
    "    return data"
   ]
  },
  {
   "cell_type": "code",
   "execution_count": 3,
   "id": "f86f6b9a",
   "metadata": {},
   "outputs": [
    {
     "name": "stdout",
     "output_type": "stream",
     "text": [
      "파일 shape:  (1000209, 4)\n"
     ]
    },
    {
     "data": {
      "text/html": [
       "<div>\n",
       "<style scoped>\n",
       "    .dataframe tbody tr th:only-of-type {\n",
       "        vertical-align: middle;\n",
       "    }\n",
       "\n",
       "    .dataframe tbody tr th {\n",
       "        vertical-align: top;\n",
       "    }\n",
       "\n",
       "    .dataframe thead th {\n",
       "        text-align: right;\n",
       "    }\n",
       "</style>\n",
       "<table border=\"1\" class=\"dataframe\">\n",
       "  <thead>\n",
       "    <tr style=\"text-align: right;\">\n",
       "      <th></th>\n",
       "      <th>User_id</th>\n",
       "      <th>Movie_id</th>\n",
       "      <th>Ratings</th>\n",
       "      <th>Time</th>\n",
       "    </tr>\n",
       "  </thead>\n",
       "  <tbody>\n",
       "    <tr>\n",
       "      <th>0</th>\n",
       "      <td>1</td>\n",
       "      <td>1193</td>\n",
       "      <td>5</td>\n",
       "      <td>2000-12-31 22:12:40</td>\n",
       "    </tr>\n",
       "    <tr>\n",
       "      <th>1</th>\n",
       "      <td>1</td>\n",
       "      <td>661</td>\n",
       "      <td>3</td>\n",
       "      <td>2000-12-31 22:35:09</td>\n",
       "    </tr>\n",
       "    <tr>\n",
       "      <th>2</th>\n",
       "      <td>1</td>\n",
       "      <td>914</td>\n",
       "      <td>3</td>\n",
       "      <td>2000-12-31 22:32:48</td>\n",
       "    </tr>\n",
       "    <tr>\n",
       "      <th>3</th>\n",
       "      <td>1</td>\n",
       "      <td>3408</td>\n",
       "      <td>4</td>\n",
       "      <td>2000-12-31 22:04:35</td>\n",
       "    </tr>\n",
       "    <tr>\n",
       "      <th>4</th>\n",
       "      <td>1</td>\n",
       "      <td>2355</td>\n",
       "      <td>5</td>\n",
       "      <td>2001-01-06 23:38:11</td>\n",
       "    </tr>\n",
       "  </tbody>\n",
       "</table>\n",
       "</div>"
      ],
      "text/plain": [
       "   User_id  Movie_id  Ratings                Time\n",
       "0        1      1193        5 2000-12-31 22:12:40\n",
       "1        1       661        3 2000-12-31 22:35:09\n",
       "2        1       914        3 2000-12-31 22:32:48\n",
       "3        1      3408        4 2000-12-31 22:04:35\n",
       "4        1      2355        5 2001-01-06 23:38:11"
      ]
     },
     "execution_count": 3,
     "metadata": {},
     "output_type": "execute_result"
    }
   ],
   "source": [
    "rating_file_path = os.getenv('HOME') + '/aiffel/recommendata_iu/data/ml-1m/ratings.dat'\n",
    "ratings_cols = ['User_id', 'Movie_id', 'Ratings', 'Time']\n",
    "\n",
    "ratings = load_data(rating_file_path, ratings_cols, is_time=True)\n",
    "  \n",
    "orginal_data_size = len(ratings)\n",
    "print('파일 shape: ', ratings.shape)\n",
    "ratings.head()"
   ]
  },
  {
   "cell_type": "code",
   "execution_count": 4,
   "id": "99610b28",
   "metadata": {},
   "outputs": [
    {
     "name": "stdout",
     "output_type": "stream",
     "text": [
      "orginal_data_size: 1000209, filtered_data_size: 836478\n",
      "Ratio of Remaining Data is 83.63%\n"
     ]
    }
   ],
   "source": [
    "# 3점 이상만 남깁니다.\n",
    "ratings = ratings[ratings['Ratings'] >= 3]\n",
    "filtered_data_size = len(ratings)\n",
    "\n",
    "print(f'orginal_data_size: {orginal_data_size}, filtered_data_size: {filtered_data_size}')\n",
    "print(f'Ratio of Remaining Data is {filtered_data_size / orginal_data_size:.2%}')"
   ]
  },
  {
   "cell_type": "code",
   "execution_count": 5,
   "id": "56f74713",
   "metadata": {},
   "outputs": [],
   "source": [
    "# ratings 컬럼의 이름을 counts로 바꿉니다.\n",
    "# 왜냐하면 우리는 이번 프로젝트에서 explicit한 평점을 implicit한 시청횟수로 가정하기 때문\n",
    "ratings.rename(columns={'Ratings':'Counts'}, inplace=True)"
   ]
  },
  {
   "cell_type": "code",
   "execution_count": 6,
   "id": "5438ffb7",
   "metadata": {},
   "outputs": [
    {
     "data": {
      "text/plain": [
       "0          5\n",
       "1          3\n",
       "2          3\n",
       "3          4\n",
       "4          5\n",
       "          ..\n",
       "1000203    3\n",
       "1000205    5\n",
       "1000206    5\n",
       "1000207    4\n",
       "1000208    4\n",
       "Name: Counts, Length: 836478, dtype: int64"
      ]
     },
     "execution_count": 6,
     "metadata": {},
     "output_type": "execute_result"
    }
   ],
   "source": [
    "# 확인용\n",
    "ratings['Counts']"
   ]
  },
  {
   "cell_type": "code",
   "execution_count": 7,
   "id": "c82219e5",
   "metadata": {},
   "outputs": [
    {
     "data": {
      "text/html": [
       "<div>\n",
       "<style scoped>\n",
       "    .dataframe tbody tr th:only-of-type {\n",
       "        vertical-align: middle;\n",
       "    }\n",
       "\n",
       "    .dataframe tbody tr th {\n",
       "        vertical-align: top;\n",
       "    }\n",
       "\n",
       "    .dataframe thead th {\n",
       "        text-align: right;\n",
       "    }\n",
       "</style>\n",
       "<table border=\"1\" class=\"dataframe\">\n",
       "  <thead>\n",
       "    <tr style=\"text-align: right;\">\n",
       "      <th></th>\n",
       "      <th>Movie_id</th>\n",
       "      <th>Title</th>\n",
       "      <th>Genre</th>\n",
       "    </tr>\n",
       "  </thead>\n",
       "  <tbody>\n",
       "    <tr>\n",
       "      <th>0</th>\n",
       "      <td>1</td>\n",
       "      <td>Toy Story (1995)</td>\n",
       "      <td>Animation|Children's|Comedy</td>\n",
       "    </tr>\n",
       "    <tr>\n",
       "      <th>1</th>\n",
       "      <td>2</td>\n",
       "      <td>Jumanji (1995)</td>\n",
       "      <td>Adventure|Children's|Fantasy</td>\n",
       "    </tr>\n",
       "    <tr>\n",
       "      <th>2</th>\n",
       "      <td>3</td>\n",
       "      <td>Grumpier Old Men (1995)</td>\n",
       "      <td>Comedy|Romance</td>\n",
       "    </tr>\n",
       "    <tr>\n",
       "      <th>3</th>\n",
       "      <td>4</td>\n",
       "      <td>Waiting to Exhale (1995)</td>\n",
       "      <td>Comedy|Drama</td>\n",
       "    </tr>\n",
       "    <tr>\n",
       "      <th>4</th>\n",
       "      <td>5</td>\n",
       "      <td>Father of the Bride Part II (1995)</td>\n",
       "      <td>Comedy</td>\n",
       "    </tr>\n",
       "  </tbody>\n",
       "</table>\n",
       "</div>"
      ],
      "text/plain": [
       "   Movie_id                               Title                         Genre\n",
       "0         1                    Toy Story (1995)   Animation|Children's|Comedy\n",
       "1         2                      Jumanji (1995)  Adventure|Children's|Fantasy\n",
       "2         3             Grumpier Old Men (1995)                Comedy|Romance\n",
       "3         4            Waiting to Exhale (1995)                  Comedy|Drama\n",
       "4         5  Father of the Bride Part II (1995)                        Comedy"
      ]
     },
     "execution_count": 7,
     "metadata": {},
     "output_type": "execute_result"
    }
   ],
   "source": [
    "# 영화 제목을 보기 위해 메타 데이터를 읽어옵니다.\n",
    "movie_file_path = os.getenv('HOME') + '/aiffel/recommendata_iu/data/ml-1m/movies.dat'\n",
    "movie_cols = ['Movie_id', 'Title', 'Genre'] \n",
    "\n",
    "movies = load_data(movie_file_path, movie_cols)\n",
    "movies.head()"
   ]
  },
  {
   "cell_type": "markdown",
   "id": "e677801e",
   "metadata": {},
   "source": [
    "# STEP 2. 분석"
   ]
  },
  {
   "cell_type": "code",
   "execution_count": 8,
   "id": "6e58f064",
   "metadata": {},
   "outputs": [
    {
     "data": {
      "text/plain": [
       "3628"
      ]
     },
     "execution_count": 8,
     "metadata": {},
     "output_type": "execute_result"
    }
   ],
   "source": [
    "# Ratings에 있는 유니크한 영화 개수\n",
    "ratings['Movie_id'].nunique()"
   ]
  },
  {
   "cell_type": "code",
   "execution_count": 9,
   "id": "bcc6241e",
   "metadata": {},
   "outputs": [
    {
     "data": {
      "text/plain": [
       "6039"
      ]
     },
     "execution_count": 9,
     "metadata": {},
     "output_type": "execute_result"
    }
   ],
   "source": [
    "# Ratings에 있는 유니크한 사용자 수\n",
    "ratings['User_id'].nunique()"
   ]
  },
  {
   "cell_type": "code",
   "execution_count": 10,
   "id": "6304079b",
   "metadata": {},
   "outputs": [
    {
     "data": {
      "text/html": [
       "<div>\n",
       "<style scoped>\n",
       "    .dataframe tbody tr th:only-of-type {\n",
       "        vertical-align: middle;\n",
       "    }\n",
       "\n",
       "    .dataframe tbody tr th {\n",
       "        vertical-align: top;\n",
       "    }\n",
       "\n",
       "    .dataframe thead th {\n",
       "        text-align: right;\n",
       "    }\n",
       "</style>\n",
       "<table border=\"1\" class=\"dataframe\">\n",
       "  <thead>\n",
       "    <tr style=\"text-align: right;\">\n",
       "      <th></th>\n",
       "      <th>User_id</th>\n",
       "      <th>Movie_id</th>\n",
       "      <th>Counts</th>\n",
       "      <th>Time</th>\n",
       "    </tr>\n",
       "  </thead>\n",
       "  <tbody>\n",
       "    <tr>\n",
       "      <th>120627</th>\n",
       "      <td>777</td>\n",
       "      <td>59</td>\n",
       "      <td>3</td>\n",
       "      <td>2000-11-30 17:06:53</td>\n",
       "    </tr>\n",
       "    <tr>\n",
       "      <th>155518</th>\n",
       "      <td>1001</td>\n",
       "      <td>59</td>\n",
       "      <td>5</td>\n",
       "      <td>2000-12-08 17:25:20</td>\n",
       "    </tr>\n",
       "    <tr>\n",
       "      <th>168708</th>\n",
       "      <td>1069</td>\n",
       "      <td>59</td>\n",
       "      <td>3</td>\n",
       "      <td>2000-11-23 01:21:46</td>\n",
       "    </tr>\n",
       "    <tr>\n",
       "      <th>580665</th>\n",
       "      <td>3546</td>\n",
       "      <td>59</td>\n",
       "      <td>4</td>\n",
       "      <td>2000-08-21 11:20:37</td>\n",
       "    </tr>\n",
       "    <tr>\n",
       "      <th>997181</th>\n",
       "      <td>6021</td>\n",
       "      <td>59</td>\n",
       "      <td>3</td>\n",
       "      <td>2000-04-26 13:27:16</td>\n",
       "    </tr>\n",
       "  </tbody>\n",
       "</table>\n",
       "</div>"
      ],
      "text/plain": [
       "        User_id  Movie_id  Counts                Time\n",
       "120627      777        59       3 2000-11-30 17:06:53\n",
       "155518     1001        59       5 2000-12-08 17:25:20\n",
       "168708     1069        59       3 2000-11-23 01:21:46\n",
       "580665     3546        59       4 2000-08-21 11:20:37\n",
       "997181     6021        59       3 2000-04-26 13:27:16"
      ]
     },
     "execution_count": 10,
     "metadata": {},
     "output_type": "execute_result"
    }
   ],
   "source": [
    "# 확인용 - merge 작동원리 확인을 위해\n",
    "ratings[ratings['Movie_id']==59]"
   ]
  },
  {
   "cell_type": "code",
   "execution_count": 11,
   "id": "57ac5f54",
   "metadata": {},
   "outputs": [
    {
     "data": {
      "text/html": [
       "<div>\n",
       "<style scoped>\n",
       "    .dataframe tbody tr th:only-of-type {\n",
       "        vertical-align: middle;\n",
       "    }\n",
       "\n",
       "    .dataframe tbody tr th {\n",
       "        vertical-align: top;\n",
       "    }\n",
       "\n",
       "    .dataframe thead th {\n",
       "        text-align: right;\n",
       "    }\n",
       "</style>\n",
       "<table border=\"1\" class=\"dataframe\">\n",
       "  <thead>\n",
       "    <tr style=\"text-align: right;\">\n",
       "      <th></th>\n",
       "      <th>Movie_id</th>\n",
       "      <th>Title</th>\n",
       "      <th>Genre</th>\n",
       "    </tr>\n",
       "  </thead>\n",
       "  <tbody>\n",
       "    <tr>\n",
       "      <th>58</th>\n",
       "      <td>59</td>\n",
       "      <td>Confessional, The (Le Confessionnal) (1995)</td>\n",
       "      <td>Drama|Mystery</td>\n",
       "    </tr>\n",
       "  </tbody>\n",
       "</table>\n",
       "</div>"
      ],
      "text/plain": [
       "    Movie_id                                        Title          Genre\n",
       "58        59  Confessional, The (Le Confessionnal) (1995)  Drama|Mystery"
      ]
     },
     "execution_count": 11,
     "metadata": {},
     "output_type": "execute_result"
    }
   ],
   "source": [
    "# 확인용 - merge 작동원리 확인을 위해\n",
    "movies[movies['Movie_id']==59]"
   ]
  },
  {
   "cell_type": "code",
   "execution_count": 12,
   "id": "5eeee205",
   "metadata": {},
   "outputs": [
    {
     "data": {
      "text/html": [
       "<div>\n",
       "<style scoped>\n",
       "    .dataframe tbody tr th:only-of-type {\n",
       "        vertical-align: middle;\n",
       "    }\n",
       "\n",
       "    .dataframe tbody tr th {\n",
       "        vertical-align: top;\n",
       "    }\n",
       "\n",
       "    .dataframe thead th {\n",
       "        text-align: right;\n",
       "    }\n",
       "</style>\n",
       "<table border=\"1\" class=\"dataframe\">\n",
       "  <thead>\n",
       "    <tr style=\"text-align: right;\">\n",
       "      <th></th>\n",
       "      <th>Movie_id</th>\n",
       "      <th>Title</th>\n",
       "      <th>Genre</th>\n",
       "      <th>User_id</th>\n",
       "      <th>Counts</th>\n",
       "      <th>Time</th>\n",
       "    </tr>\n",
       "  </thead>\n",
       "  <tbody>\n",
       "    <tr>\n",
       "      <th>22809</th>\n",
       "      <td>59</td>\n",
       "      <td>Confessional, The (Le Confessionnal) (1995)</td>\n",
       "      <td>Drama|Mystery</td>\n",
       "      <td>777</td>\n",
       "      <td>3</td>\n",
       "      <td>2000-11-30 17:06:53</td>\n",
       "    </tr>\n",
       "    <tr>\n",
       "      <th>22810</th>\n",
       "      <td>59</td>\n",
       "      <td>Confessional, The (Le Confessionnal) (1995)</td>\n",
       "      <td>Drama|Mystery</td>\n",
       "      <td>1001</td>\n",
       "      <td>5</td>\n",
       "      <td>2000-12-08 17:25:20</td>\n",
       "    </tr>\n",
       "    <tr>\n",
       "      <th>22811</th>\n",
       "      <td>59</td>\n",
       "      <td>Confessional, The (Le Confessionnal) (1995)</td>\n",
       "      <td>Drama|Mystery</td>\n",
       "      <td>1069</td>\n",
       "      <td>3</td>\n",
       "      <td>2000-11-23 01:21:46</td>\n",
       "    </tr>\n",
       "    <tr>\n",
       "      <th>22812</th>\n",
       "      <td>59</td>\n",
       "      <td>Confessional, The (Le Confessionnal) (1995)</td>\n",
       "      <td>Drama|Mystery</td>\n",
       "      <td>3546</td>\n",
       "      <td>4</td>\n",
       "      <td>2000-08-21 11:20:37</td>\n",
       "    </tr>\n",
       "    <tr>\n",
       "      <th>22813</th>\n",
       "      <td>59</td>\n",
       "      <td>Confessional, The (Le Confessionnal) (1995)</td>\n",
       "      <td>Drama|Mystery</td>\n",
       "      <td>6021</td>\n",
       "      <td>3</td>\n",
       "      <td>2000-04-26 13:27:16</td>\n",
       "    </tr>\n",
       "  </tbody>\n",
       "</table>\n",
       "</div>"
      ],
      "text/plain": [
       "       Movie_id                                        Title          Genre  \\\n",
       "22809        59  Confessional, The (Le Confessionnal) (1995)  Drama|Mystery   \n",
       "22810        59  Confessional, The (Le Confessionnal) (1995)  Drama|Mystery   \n",
       "22811        59  Confessional, The (Le Confessionnal) (1995)  Drama|Mystery   \n",
       "22812        59  Confessional, The (Le Confessionnal) (1995)  Drama|Mystery   \n",
       "22813        59  Confessional, The (Le Confessionnal) (1995)  Drama|Mystery   \n",
       "\n",
       "       User_id  Counts                Time  \n",
       "22809      777       3 2000-11-30 17:06:53  \n",
       "22810     1001       5 2000-12-08 17:25:20  \n",
       "22811     1069       3 2000-11-23 01:21:46  \n",
       "22812     3546       4 2000-08-21 11:20:37  \n",
       "22813     6021       3 2000-04-26 13:27:16  "
      ]
     },
     "execution_count": 12,
     "metadata": {},
     "output_type": "execute_result"
    }
   ],
   "source": [
    "# movies와 ratings 데이터프레임 merge하기\n",
    "movies_df = pd.merge(left = movies, right = ratings, how='inner', on='Movie_id')\n",
    "movies_df[movies_df['Movie_id']==59]"
   ]
  },
  {
   "cell_type": "code",
   "execution_count": 13,
   "id": "e81ed23b",
   "metadata": {},
   "outputs": [
    {
     "data": {
      "text/plain": [
       "Movie_id    0\n",
       "Title       0\n",
       "Genre       0\n",
       "User_id     0\n",
       "Counts      0\n",
       "Time        0\n",
       "dtype: int64"
      ]
     },
     "execution_count": 13,
     "metadata": {},
     "output_type": "execute_result"
    }
   ],
   "source": [
    "# 결측치 확인\n",
    "movies_df.isnull().sum()"
   ]
  },
  {
   "cell_type": "markdown",
   "id": "e120c605",
   "metadata": {},
   "source": [
    "## 가장 인기 있는 영화 30개(인기순)"
   ]
  },
  {
   "cell_type": "code",
   "execution_count": 14,
   "id": "3f43427e",
   "metadata": {
    "scrolled": true
   },
   "outputs": [
    {
     "data": {
      "text/plain": [
       "Title\n",
       "American Beauty (1999)                                   3211\n",
       "Star Wars: Episode IV - A New Hope (1977)                2910\n",
       "Star Wars: Episode V - The Empire Strikes Back (1980)    2885\n",
       "Star Wars: Episode VI - Return of the Jedi (1983)        2716\n",
       "Saving Private Ryan (1998)                               2561\n",
       "Terminator 2: Judgment Day (1991)                        2509\n",
       "Silence of the Lambs, The (1991)                         2498\n",
       "Raiders of the Lost Ark (1981)                           2473\n",
       "Back to the Future (1985)                                2460\n",
       "Matrix, The (1999)                                       2434\n",
       "Jurassic Park (1993)                                     2413\n",
       "Sixth Sense, The (1999)                                  2385\n",
       "Fargo (1996)                                             2371\n",
       "Braveheart (1995)                                        2314\n",
       "Men in Black (1997)                                      2297\n",
       "Schindler's List (1993)                                  2257\n",
       "Princess Bride, The (1987)                               2252\n",
       "Shakespeare in Love (1998)                               2213\n",
       "L.A. Confidential (1997)                                 2210\n",
       "Shawshank Redemption, The (1994)                         2194\n",
       "Godfather, The (1972)                                    2167\n",
       "Groundhog Day (1993)                                     2121\n",
       "E.T. the Extra-Terrestrial (1982)                        2102\n",
       "Being John Malkovich (1999)                              2066\n",
       "Ghostbusters (1984)                                      2051\n",
       "Pulp Fiction (1994)                                      2030\n",
       "Forrest Gump (1994)                                      2022\n",
       "Terminator, The (1984)                                   2019\n",
       "Toy Story (1995)                                         2000\n",
       "Fugitive, The (1993)                                     1941\n",
       "Name: User_id, dtype: int64"
      ]
     },
     "execution_count": 14,
     "metadata": {},
     "output_type": "execute_result"
    }
   ],
   "source": [
    "# 평점 3, 4, 5는 시청수로 가정\n",
    "# 각 3, 4, 5 평점이 몇 번 카운트 되었는지 확인\n",
    "movie_counts = movies_df.groupby('Title')['User_id'].count()\n",
    "movie_counts.sort_values(ascending=False).head(30)"
   ]
  },
  {
   "cell_type": "markdown",
   "id": "b4b525e8",
   "metadata": {},
   "source": [
    "#  STEP 3. 내가 선호하는 영화를 5가지 골라서 ratings에 추가함"
   ]
  },
  {
   "cell_type": "code",
   "execution_count": 15,
   "id": "ba43e589",
   "metadata": {
    "scrolled": false
   },
   "outputs": [
    {
     "data": {
      "text/html": [
       "<div>\n",
       "<style scoped>\n",
       "    .dataframe tbody tr th:only-of-type {\n",
       "        vertical-align: middle;\n",
       "    }\n",
       "\n",
       "    .dataframe tbody tr th {\n",
       "        vertical-align: top;\n",
       "    }\n",
       "\n",
       "    .dataframe thead th {\n",
       "        text-align: right;\n",
       "    }\n",
       "</style>\n",
       "<table border=\"1\" class=\"dataframe\">\n",
       "  <thead>\n",
       "    <tr style=\"text-align: right;\">\n",
       "      <th></th>\n",
       "      <th>Movie_id</th>\n",
       "      <th>Title</th>\n",
       "      <th>Genre</th>\n",
       "      <th>User_id</th>\n",
       "      <th>Counts</th>\n",
       "      <th>Time</th>\n",
       "    </tr>\n",
       "  </thead>\n",
       "  <tbody>\n",
       "    <tr>\n",
       "      <th>84035</th>\n",
       "      <td>364</td>\n",
       "      <td>Lion King, The (1994)</td>\n",
       "      <td>Animation|Children's|Musical</td>\n",
       "      <td>6</td>\n",
       "      <td>4</td>\n",
       "      <td>2000-12-31 04:39:30</td>\n",
       "    </tr>\n",
       "    <tr>\n",
       "      <th>84036</th>\n",
       "      <td>364</td>\n",
       "      <td>Lion King, The (1994)</td>\n",
       "      <td>Animation|Children's|Musical</td>\n",
       "      <td>10</td>\n",
       "      <td>4</td>\n",
       "      <td>2000-12-31 01:38:18</td>\n",
       "    </tr>\n",
       "    <tr>\n",
       "      <th>84037</th>\n",
       "      <td>364</td>\n",
       "      <td>Lion King, The (1994)</td>\n",
       "      <td>Animation|Children's|Musical</td>\n",
       "      <td>15</td>\n",
       "      <td>4</td>\n",
       "      <td>2000-12-30 17:41:02</td>\n",
       "    </tr>\n",
       "  </tbody>\n",
       "</table>\n",
       "</div>"
      ],
      "text/plain": [
       "       Movie_id                  Title                         Genre  User_id  \\\n",
       "84035       364  Lion King, The (1994)  Animation|Children's|Musical        6   \n",
       "84036       364  Lion King, The (1994)  Animation|Children's|Musical       10   \n",
       "84037       364  Lion King, The (1994)  Animation|Children's|Musical       15   \n",
       "\n",
       "       Counts                Time  \n",
       "84035       4 2000-12-31 04:39:30  \n",
       "84036       4 2000-12-31 01:38:18  \n",
       "84037       4 2000-12-30 17:41:02  "
      ]
     },
     "execution_count": 15,
     "metadata": {},
     "output_type": "execute_result"
    }
   ],
   "source": [
    "# 확인용\n",
    "movies_df[movies_df['Title'].str.lower().str.contains('lion king')].head(3)"
   ]
  },
  {
   "cell_type": "code",
   "execution_count": 16,
   "id": "283a52ba",
   "metadata": {},
   "outputs": [
    {
     "data": {
      "text/html": [
       "<div>\n",
       "<style scoped>\n",
       "    .dataframe tbody tr th:only-of-type {\n",
       "        vertical-align: middle;\n",
       "    }\n",
       "\n",
       "    .dataframe tbody tr th {\n",
       "        vertical-align: top;\n",
       "    }\n",
       "\n",
       "    .dataframe thead th {\n",
       "        text-align: right;\n",
       "    }\n",
       "</style>\n",
       "<table border=\"1\" class=\"dataframe\">\n",
       "  <thead>\n",
       "    <tr style=\"text-align: right;\">\n",
       "      <th></th>\n",
       "      <th>Movie_id</th>\n",
       "      <th>Title</th>\n",
       "      <th>Genre</th>\n",
       "      <th>User_id</th>\n",
       "      <th>Counts</th>\n",
       "      <th>Time</th>\n",
       "    </tr>\n",
       "  </thead>\n",
       "  <tbody>\n",
       "    <tr>\n",
       "      <th>130190</th>\n",
       "      <td>588</td>\n",
       "      <td>Aladdin (1992)</td>\n",
       "      <td>Animation|Children's|Comedy|Musical</td>\n",
       "      <td>1</td>\n",
       "      <td>4</td>\n",
       "      <td>2001-01-06 23:37:48</td>\n",
       "    </tr>\n",
       "    <tr>\n",
       "      <th>130191</th>\n",
       "      <td>588</td>\n",
       "      <td>Aladdin (1992)</td>\n",
       "      <td>Animation|Children's|Comedy|Musical</td>\n",
       "      <td>6</td>\n",
       "      <td>4</td>\n",
       "      <td>2000-12-31 04:38:31</td>\n",
       "    </tr>\n",
       "    <tr>\n",
       "      <th>130192</th>\n",
       "      <td>588</td>\n",
       "      <td>Aladdin (1992)</td>\n",
       "      <td>Animation|Children's|Comedy|Musical</td>\n",
       "      <td>10</td>\n",
       "      <td>4</td>\n",
       "      <td>2000-12-31 01:25:00</td>\n",
       "    </tr>\n",
       "  </tbody>\n",
       "</table>\n",
       "</div>"
      ],
      "text/plain": [
       "        Movie_id           Title                                Genre  \\\n",
       "130190       588  Aladdin (1992)  Animation|Children's|Comedy|Musical   \n",
       "130191       588  Aladdin (1992)  Animation|Children's|Comedy|Musical   \n",
       "130192       588  Aladdin (1992)  Animation|Children's|Comedy|Musical   \n",
       "\n",
       "        User_id  Counts                Time  \n",
       "130190        1       4 2001-01-06 23:37:48  \n",
       "130191        6       4 2000-12-31 04:38:31  \n",
       "130192       10       4 2000-12-31 01:25:00  "
      ]
     },
     "execution_count": 16,
     "metadata": {},
     "output_type": "execute_result"
    }
   ],
   "source": [
    "# 확인용\n",
    "movies_df[movies_df['Title'].str.lower().str.contains('aladdin \\(')].head(3)"
   ]
  },
  {
   "cell_type": "code",
   "execution_count": 17,
   "id": "28f6e430",
   "metadata": {},
   "outputs": [
    {
     "data": {
      "text/html": [
       "<div>\n",
       "<style scoped>\n",
       "    .dataframe tbody tr th:only-of-type {\n",
       "        vertical-align: middle;\n",
       "    }\n",
       "\n",
       "    .dataframe tbody tr th {\n",
       "        vertical-align: top;\n",
       "    }\n",
       "\n",
       "    .dataframe thead th {\n",
       "        text-align: right;\n",
       "    }\n",
       "</style>\n",
       "<table border=\"1\" class=\"dataframe\">\n",
       "  <thead>\n",
       "    <tr style=\"text-align: right;\">\n",
       "      <th></th>\n",
       "      <th>Movie_id</th>\n",
       "      <th>Title</th>\n",
       "      <th>Genre</th>\n",
       "      <th>User_id</th>\n",
       "      <th>Counts</th>\n",
       "      <th>Time</th>\n",
       "    </tr>\n",
       "  </thead>\n",
       "  <tbody>\n",
       "    <tr>\n",
       "      <th>472333</th>\n",
       "      <td>2028</td>\n",
       "      <td>Saving Private Ryan (1998)</td>\n",
       "      <td>Action|Drama|War</td>\n",
       "      <td>1</td>\n",
       "      <td>5</td>\n",
       "      <td>2000-12-31 22:26:59</td>\n",
       "    </tr>\n",
       "    <tr>\n",
       "      <th>472334</th>\n",
       "      <td>2028</td>\n",
       "      <td>Saving Private Ryan (1998)</td>\n",
       "      <td>Action|Drama|War</td>\n",
       "      <td>2</td>\n",
       "      <td>4</td>\n",
       "      <td>2000-12-31 21:56:13</td>\n",
       "    </tr>\n",
       "    <tr>\n",
       "      <th>472335</th>\n",
       "      <td>2028</td>\n",
       "      <td>Saving Private Ryan (1998)</td>\n",
       "      <td>Action|Drama|War</td>\n",
       "      <td>4</td>\n",
       "      <td>5</td>\n",
       "      <td>2000-12-31 20:23:50</td>\n",
       "    </tr>\n",
       "  </tbody>\n",
       "</table>\n",
       "</div>"
      ],
      "text/plain": [
       "        Movie_id                       Title             Genre  User_id  \\\n",
       "472333      2028  Saving Private Ryan (1998)  Action|Drama|War        1   \n",
       "472334      2028  Saving Private Ryan (1998)  Action|Drama|War        2   \n",
       "472335      2028  Saving Private Ryan (1998)  Action|Drama|War        4   \n",
       "\n",
       "        Counts                Time  \n",
       "472333       5 2000-12-31 22:26:59  \n",
       "472334       4 2000-12-31 21:56:13  \n",
       "472335       5 2000-12-31 20:23:50  "
      ]
     },
     "execution_count": 17,
     "metadata": {},
     "output_type": "execute_result"
    }
   ],
   "source": [
    "# 확인용\n",
    "movies_df[movies_df['Title'].str.lower().str.contains('saving private ryan')].head(3)"
   ]
  },
  {
   "cell_type": "code",
   "execution_count": 18,
   "id": "e9b35a40",
   "metadata": {},
   "outputs": [
    {
     "data": {
      "text/html": [
       "<div>\n",
       "<style scoped>\n",
       "    .dataframe tbody tr th:only-of-type {\n",
       "        vertical-align: middle;\n",
       "    }\n",
       "\n",
       "    .dataframe tbody tr th {\n",
       "        vertical-align: top;\n",
       "    }\n",
       "\n",
       "    .dataframe thead th {\n",
       "        text-align: right;\n",
       "    }\n",
       "</style>\n",
       "<table border=\"1\" class=\"dataframe\">\n",
       "  <thead>\n",
       "    <tr style=\"text-align: right;\">\n",
       "      <th></th>\n",
       "      <th>Movie_id</th>\n",
       "      <th>Title</th>\n",
       "      <th>Genre</th>\n",
       "      <th>User_id</th>\n",
       "      <th>Counts</th>\n",
       "      <th>Time</th>\n",
       "    </tr>\n",
       "  </thead>\n",
       "  <tbody>\n",
       "    <tr>\n",
       "      <th>80209</th>\n",
       "      <td>356</td>\n",
       "      <td>Forrest Gump (1994)</td>\n",
       "      <td>Comedy|Romance|War</td>\n",
       "      <td>2</td>\n",
       "      <td>5</td>\n",
       "      <td>2000-12-31 21:54:46</td>\n",
       "    </tr>\n",
       "    <tr>\n",
       "      <th>80210</th>\n",
       "      <td>356</td>\n",
       "      <td>Forrest Gump (1994)</td>\n",
       "      <td>Comedy|Romance|War</td>\n",
       "      <td>10</td>\n",
       "      <td>5</td>\n",
       "      <td>2000-12-31 01:40:33</td>\n",
       "    </tr>\n",
       "    <tr>\n",
       "      <th>80211</th>\n",
       "      <td>356</td>\n",
       "      <td>Forrest Gump (1994)</td>\n",
       "      <td>Comedy|Romance|War</td>\n",
       "      <td>11</td>\n",
       "      <td>5</td>\n",
       "      <td>2001-01-07 21:33:29</td>\n",
       "    </tr>\n",
       "  </tbody>\n",
       "</table>\n",
       "</div>"
      ],
      "text/plain": [
       "       Movie_id                Title               Genre  User_id  Counts  \\\n",
       "80209       356  Forrest Gump (1994)  Comedy|Romance|War        2       5   \n",
       "80210       356  Forrest Gump (1994)  Comedy|Romance|War       10       5   \n",
       "80211       356  Forrest Gump (1994)  Comedy|Romance|War       11       5   \n",
       "\n",
       "                     Time  \n",
       "80209 2000-12-31 21:54:46  \n",
       "80210 2000-12-31 01:40:33  \n",
       "80211 2001-01-07 21:33:29  "
      ]
     },
     "execution_count": 18,
     "metadata": {},
     "output_type": "execute_result"
    }
   ],
   "source": [
    "# 확인용\n",
    "movies_df[movies_df['Title'].str.lower().str.contains('forrest gump')].head(3)"
   ]
  },
  {
   "cell_type": "code",
   "execution_count": 19,
   "id": "eb6c5d00",
   "metadata": {},
   "outputs": [
    {
     "data": {
      "text/html": [
       "<div>\n",
       "<style scoped>\n",
       "    .dataframe tbody tr th:only-of-type {\n",
       "        vertical-align: middle;\n",
       "    }\n",
       "\n",
       "    .dataframe tbody tr th {\n",
       "        vertical-align: top;\n",
       "    }\n",
       "\n",
       "    .dataframe thead th {\n",
       "        text-align: right;\n",
       "    }\n",
       "</style>\n",
       "<table border=\"1\" class=\"dataframe\">\n",
       "  <thead>\n",
       "    <tr style=\"text-align: right;\">\n",
       "      <th></th>\n",
       "      <th>Movie_id</th>\n",
       "      <th>Title</th>\n",
       "      <th>Genre</th>\n",
       "      <th>User_id</th>\n",
       "      <th>Counts</th>\n",
       "      <th>Time</th>\n",
       "    </tr>\n",
       "  </thead>\n",
       "  <tbody>\n",
       "    <tr>\n",
       "      <th>783395</th>\n",
       "      <td>3578</td>\n",
       "      <td>Gladiator (2000)</td>\n",
       "      <td>Action|Drama</td>\n",
       "      <td>2</td>\n",
       "      <td>5</td>\n",
       "      <td>2000-12-31 21:42:38</td>\n",
       "    </tr>\n",
       "    <tr>\n",
       "      <th>783396</th>\n",
       "      <td>3578</td>\n",
       "      <td>Gladiator (2000)</td>\n",
       "      <td>Action|Drama</td>\n",
       "      <td>6</td>\n",
       "      <td>4</td>\n",
       "      <td>2000-12-31 04:49:55</td>\n",
       "    </tr>\n",
       "    <tr>\n",
       "      <th>783397</th>\n",
       "      <td>3578</td>\n",
       "      <td>Gladiator (2000)</td>\n",
       "      <td>Action|Drama</td>\n",
       "      <td>7</td>\n",
       "      <td>3</td>\n",
       "      <td>2000-12-31 03:52:17</td>\n",
       "    </tr>\n",
       "  </tbody>\n",
       "</table>\n",
       "</div>"
      ],
      "text/plain": [
       "        Movie_id             Title         Genre  User_id  Counts  \\\n",
       "783395      3578  Gladiator (2000)  Action|Drama        2       5   \n",
       "783396      3578  Gladiator (2000)  Action|Drama        6       4   \n",
       "783397      3578  Gladiator (2000)  Action|Drama        7       3   \n",
       "\n",
       "                      Time  \n",
       "783395 2000-12-31 21:42:38  \n",
       "783396 2000-12-31 04:49:55  \n",
       "783397 2000-12-31 03:52:17  "
      ]
     },
     "execution_count": 19,
     "metadata": {},
     "output_type": "execute_result"
    }
   ],
   "source": [
    "# 확인용\n",
    "movies_df[movies_df['Title'].str.lower().str.contains('gladiator')].head(3)"
   ]
  },
  {
   "cell_type": "code",
   "execution_count": 20,
   "id": "c123169c",
   "metadata": {
    "scrolled": true
   },
   "outputs": [
    {
     "data": {
      "text/html": [
       "<div>\n",
       "<style scoped>\n",
       "    .dataframe tbody tr th:only-of-type {\n",
       "        vertical-align: middle;\n",
       "    }\n",
       "\n",
       "    .dataframe tbody tr th {\n",
       "        vertical-align: top;\n",
       "    }\n",
       "\n",
       "    .dataframe thead th {\n",
       "        text-align: right;\n",
       "    }\n",
       "</style>\n",
       "<table border=\"1\" class=\"dataframe\">\n",
       "  <thead>\n",
       "    <tr style=\"text-align: right;\">\n",
       "      <th></th>\n",
       "      <th>Movie_id</th>\n",
       "      <th>Title</th>\n",
       "      <th>Genre</th>\n",
       "      <th>User_id</th>\n",
       "      <th>Counts</th>\n",
       "      <th>Time</th>\n",
       "    </tr>\n",
       "  </thead>\n",
       "  <tbody>\n",
       "    <tr>\n",
       "      <th>836473</th>\n",
       "      <td>3952.0</td>\n",
       "      <td>Contender, The (2000)</td>\n",
       "      <td>Drama|Thriller</td>\n",
       "      <td>5682</td>\n",
       "      <td>3</td>\n",
       "      <td>2002-08-16 00:30:29</td>\n",
       "    </tr>\n",
       "    <tr>\n",
       "      <th>836474</th>\n",
       "      <td>3952.0</td>\n",
       "      <td>Contender, The (2000)</td>\n",
       "      <td>Drama|Thriller</td>\n",
       "      <td>5812</td>\n",
       "      <td>4</td>\n",
       "      <td>2001-06-09 07:34:59</td>\n",
       "    </tr>\n",
       "    <tr>\n",
       "      <th>836475</th>\n",
       "      <td>3952.0</td>\n",
       "      <td>Contender, The (2000)</td>\n",
       "      <td>Drama|Thriller</td>\n",
       "      <td>5831</td>\n",
       "      <td>3</td>\n",
       "      <td>2001-04-02 14:52:05</td>\n",
       "    </tr>\n",
       "    <tr>\n",
       "      <th>836476</th>\n",
       "      <td>3952.0</td>\n",
       "      <td>Contender, The (2000)</td>\n",
       "      <td>Drama|Thriller</td>\n",
       "      <td>5837</td>\n",
       "      <td>4</td>\n",
       "      <td>2002-01-24 20:04:16</td>\n",
       "    </tr>\n",
       "    <tr>\n",
       "      <th>836477</th>\n",
       "      <td>3952.0</td>\n",
       "      <td>Contender, The (2000)</td>\n",
       "      <td>Drama|Thriller</td>\n",
       "      <td>5998</td>\n",
       "      <td>4</td>\n",
       "      <td>2001-09-29 16:30:44</td>\n",
       "    </tr>\n",
       "    <tr>\n",
       "      <th>0</th>\n",
       "      <td>NaN</td>\n",
       "      <td>Aladdin (1992)</td>\n",
       "      <td>NaN</td>\n",
       "      <td>nogari</td>\n",
       "      <td>4</td>\n",
       "      <td>NaT</td>\n",
       "    </tr>\n",
       "    <tr>\n",
       "      <th>1</th>\n",
       "      <td>NaN</td>\n",
       "      <td>Lion King, The (1994)</td>\n",
       "      <td>NaN</td>\n",
       "      <td>nogari</td>\n",
       "      <td>5</td>\n",
       "      <td>NaT</td>\n",
       "    </tr>\n",
       "    <tr>\n",
       "      <th>2</th>\n",
       "      <td>NaN</td>\n",
       "      <td>Saving Private Ryan (1998)</td>\n",
       "      <td>NaN</td>\n",
       "      <td>nogari</td>\n",
       "      <td>5</td>\n",
       "      <td>NaT</td>\n",
       "    </tr>\n",
       "    <tr>\n",
       "      <th>3</th>\n",
       "      <td>NaN</td>\n",
       "      <td>Forrest Gump (1994)</td>\n",
       "      <td>NaN</td>\n",
       "      <td>nogari</td>\n",
       "      <td>4</td>\n",
       "      <td>NaT</td>\n",
       "    </tr>\n",
       "    <tr>\n",
       "      <th>4</th>\n",
       "      <td>NaN</td>\n",
       "      <td>Gladiator (2000)</td>\n",
       "      <td>NaN</td>\n",
       "      <td>nogari</td>\n",
       "      <td>4</td>\n",
       "      <td>NaT</td>\n",
       "    </tr>\n",
       "  </tbody>\n",
       "</table>\n",
       "</div>"
      ],
      "text/plain": [
       "        Movie_id                       Title           Genre User_id  Counts  \\\n",
       "836473    3952.0       Contender, The (2000)  Drama|Thriller    5682       3   \n",
       "836474    3952.0       Contender, The (2000)  Drama|Thriller    5812       4   \n",
       "836475    3952.0       Contender, The (2000)  Drama|Thriller    5831       3   \n",
       "836476    3952.0       Contender, The (2000)  Drama|Thriller    5837       4   \n",
       "836477    3952.0       Contender, The (2000)  Drama|Thriller    5998       4   \n",
       "0            NaN              Aladdin (1992)             NaN  nogari       4   \n",
       "1            NaN       Lion King, The (1994)             NaN  nogari       5   \n",
       "2            NaN  Saving Private Ryan (1998)             NaN  nogari       5   \n",
       "3            NaN         Forrest Gump (1994)             NaN  nogari       4   \n",
       "4            NaN            Gladiator (2000)             NaN  nogari       4   \n",
       "\n",
       "                      Time  \n",
       "836473 2002-08-16 00:30:29  \n",
       "836474 2001-06-09 07:34:59  \n",
       "836475 2001-04-02 14:52:05  \n",
       "836476 2002-01-24 20:04:16  \n",
       "836477 2001-09-29 16:30:44  \n",
       "0                      NaT  \n",
       "1                      NaT  \n",
       "2                      NaT  \n",
       "3                      NaT  \n",
       "4                      NaT  "
      ]
     },
     "execution_count": 20,
     "metadata": {},
     "output_type": "execute_result"
    }
   ],
   "source": [
    "# 나의 영화와 평점\n",
    "my_favorite = ['Aladdin (1992)', 'Lion King, The (1994)', 'Saving Private Ryan (1998)', 'Forrest Gump (1994)', 'Gladiator (2000)']\n",
    "my_list = pd.DataFrame({'User_id': ['nogari']*5, 'Title': my_favorite, 'Counts':[4, 5, 5, 4, 4]})\n",
    "\n",
    "\n",
    "# User_id에 'nogari'라는 데이터가 없다면 my_favorite 데이터를 추가함\n",
    "if not movies_df.isin({'User_id': ['nogari']})['User_id'].any():\n",
    "    movies_df = movies_df.append(my_list)                         # pd.Dataframe.append() : Append rows of other to the end of caller, returning a new object.\n",
    "\n",
    "movies_df.tail(10)  "
   ]
  },
  {
   "cell_type": "code",
   "execution_count": 21,
   "id": "f8995f67",
   "metadata": {
    "scrolled": true
   },
   "outputs": [
    {
     "data": {
      "text/html": [
       "<div>\n",
       "<style scoped>\n",
       "    .dataframe tbody tr th:only-of-type {\n",
       "        vertical-align: middle;\n",
       "    }\n",
       "\n",
       "    .dataframe tbody tr th {\n",
       "        vertical-align: top;\n",
       "    }\n",
       "\n",
       "    .dataframe thead th {\n",
       "        text-align: right;\n",
       "    }\n",
       "</style>\n",
       "<table border=\"1\" class=\"dataframe\">\n",
       "  <thead>\n",
       "    <tr style=\"text-align: right;\">\n",
       "      <th></th>\n",
       "      <th>User_id</th>\n",
       "      <th>Title</th>\n",
       "      <th>Counts</th>\n",
       "    </tr>\n",
       "  </thead>\n",
       "  <tbody>\n",
       "    <tr>\n",
       "      <th>836463</th>\n",
       "      <td>5074</td>\n",
       "      <td>Contender, The (2000)</td>\n",
       "      <td>4</td>\n",
       "    </tr>\n",
       "    <tr>\n",
       "      <th>836464</th>\n",
       "      <td>5087</td>\n",
       "      <td>Contender, The (2000)</td>\n",
       "      <td>4</td>\n",
       "    </tr>\n",
       "    <tr>\n",
       "      <th>836465</th>\n",
       "      <td>5100</td>\n",
       "      <td>Contender, The (2000)</td>\n",
       "      <td>4</td>\n",
       "    </tr>\n",
       "    <tr>\n",
       "      <th>836466</th>\n",
       "      <td>5205</td>\n",
       "      <td>Contender, The (2000)</td>\n",
       "      <td>4</td>\n",
       "    </tr>\n",
       "    <tr>\n",
       "      <th>836467</th>\n",
       "      <td>5304</td>\n",
       "      <td>Contender, The (2000)</td>\n",
       "      <td>4</td>\n",
       "    </tr>\n",
       "    <tr>\n",
       "      <th>836468</th>\n",
       "      <td>5333</td>\n",
       "      <td>Contender, The (2000)</td>\n",
       "      <td>4</td>\n",
       "    </tr>\n",
       "    <tr>\n",
       "      <th>836469</th>\n",
       "      <td>5359</td>\n",
       "      <td>Contender, The (2000)</td>\n",
       "      <td>5</td>\n",
       "    </tr>\n",
       "    <tr>\n",
       "      <th>836470</th>\n",
       "      <td>5405</td>\n",
       "      <td>Contender, The (2000)</td>\n",
       "      <td>4</td>\n",
       "    </tr>\n",
       "    <tr>\n",
       "      <th>836471</th>\n",
       "      <td>5475</td>\n",
       "      <td>Contender, The (2000)</td>\n",
       "      <td>5</td>\n",
       "    </tr>\n",
       "    <tr>\n",
       "      <th>836472</th>\n",
       "      <td>5602</td>\n",
       "      <td>Contender, The (2000)</td>\n",
       "      <td>3</td>\n",
       "    </tr>\n",
       "    <tr>\n",
       "      <th>836473</th>\n",
       "      <td>5682</td>\n",
       "      <td>Contender, The (2000)</td>\n",
       "      <td>3</td>\n",
       "    </tr>\n",
       "    <tr>\n",
       "      <th>836474</th>\n",
       "      <td>5812</td>\n",
       "      <td>Contender, The (2000)</td>\n",
       "      <td>4</td>\n",
       "    </tr>\n",
       "    <tr>\n",
       "      <th>836475</th>\n",
       "      <td>5831</td>\n",
       "      <td>Contender, The (2000)</td>\n",
       "      <td>3</td>\n",
       "    </tr>\n",
       "    <tr>\n",
       "      <th>836476</th>\n",
       "      <td>5837</td>\n",
       "      <td>Contender, The (2000)</td>\n",
       "      <td>4</td>\n",
       "    </tr>\n",
       "    <tr>\n",
       "      <th>836477</th>\n",
       "      <td>5998</td>\n",
       "      <td>Contender, The (2000)</td>\n",
       "      <td>4</td>\n",
       "    </tr>\n",
       "    <tr>\n",
       "      <th>0</th>\n",
       "      <td>nogari</td>\n",
       "      <td>Aladdin (1992)</td>\n",
       "      <td>4</td>\n",
       "    </tr>\n",
       "    <tr>\n",
       "      <th>1</th>\n",
       "      <td>nogari</td>\n",
       "      <td>Lion King, The (1994)</td>\n",
       "      <td>5</td>\n",
       "    </tr>\n",
       "    <tr>\n",
       "      <th>2</th>\n",
       "      <td>nogari</td>\n",
       "      <td>Saving Private Ryan (1998)</td>\n",
       "      <td>5</td>\n",
       "    </tr>\n",
       "    <tr>\n",
       "      <th>3</th>\n",
       "      <td>nogari</td>\n",
       "      <td>Forrest Gump (1994)</td>\n",
       "      <td>4</td>\n",
       "    </tr>\n",
       "    <tr>\n",
       "      <th>4</th>\n",
       "      <td>nogari</td>\n",
       "      <td>Gladiator (2000)</td>\n",
       "      <td>4</td>\n",
       "    </tr>\n",
       "  </tbody>\n",
       "</table>\n",
       "</div>"
      ],
      "text/plain": [
       "       User_id                       Title  Counts\n",
       "836463    5074       Contender, The (2000)       4\n",
       "836464    5087       Contender, The (2000)       4\n",
       "836465    5100       Contender, The (2000)       4\n",
       "836466    5205       Contender, The (2000)       4\n",
       "836467    5304       Contender, The (2000)       4\n",
       "836468    5333       Contender, The (2000)       4\n",
       "836469    5359       Contender, The (2000)       5\n",
       "836470    5405       Contender, The (2000)       4\n",
       "836471    5475       Contender, The (2000)       5\n",
       "836472    5602       Contender, The (2000)       3\n",
       "836473    5682       Contender, The (2000)       3\n",
       "836474    5812       Contender, The (2000)       4\n",
       "836475    5831       Contender, The (2000)       3\n",
       "836476    5837       Contender, The (2000)       4\n",
       "836477    5998       Contender, The (2000)       4\n",
       "0       nogari              Aladdin (1992)       4\n",
       "1       nogari       Lion King, The (1994)       5\n",
       "2       nogari  Saving Private Ryan (1998)       5\n",
       "3       nogari         Forrest Gump (1994)       4\n",
       "4       nogari            Gladiator (2000)       4"
      ]
     },
     "execution_count": 21,
     "metadata": {},
     "output_type": "execute_result"
    }
   ],
   "source": [
    "# 사용하는 컬럼만 남겨줍니다.\n",
    "movies_df = movies_df[['User_id','Title', 'Counts']]\n",
    "movies_df.tail(20)"
   ]
  },
  {
   "cell_type": "markdown",
   "id": "eaa75e6e",
   "metadata": {},
   "source": [
    "### Indexing"
   ]
  },
  {
   "cell_type": "code",
   "execution_count": 22,
   "id": "6f74b9cc",
   "metadata": {},
   "outputs": [],
   "source": [
    "# 고유한 유저, 아티스트를 찾아내는 코드\n",
    "user_unique = movies_df['User_id'].unique()\n",
    "movie_unique = movies_df['Title'].unique()\n",
    "    \n",
    "# 유저, 아티스트 indexing 하는 코드 \n",
    "user_to_idx = {v:k for k,v in enumerate(user_unique)}\n",
    "movie_to_idx = {v:k for k,v in enumerate(movie_unique)}"
   ]
  },
  {
   "cell_type": "code",
   "execution_count": 23,
   "id": "83af9ec3",
   "metadata": {
    "scrolled": true
   },
   "outputs": [],
   "source": [
    "# 확인용\n",
    "# user_to_idx"
   ]
  },
  {
   "cell_type": "code",
   "execution_count": 24,
   "id": "8ec5cf28",
   "metadata": {},
   "outputs": [],
   "source": [
    "# 확인용\n",
    "# movie_to_idx"
   ]
  },
  {
   "cell_type": "code",
   "execution_count": 25,
   "id": "500241a9",
   "metadata": {},
   "outputs": [
    {
     "name": "stdout",
     "output_type": "stream",
     "text": [
      "6039\n",
      "350\n"
     ]
    }
   ],
   "source": [
    "# 인덱싱이 잘 되었는지 확인해 봅니다. \n",
    "print(user_to_idx['nogari'])                # 6040명의 유저 중 마지막으로 추가된 유저이니 6039이 나와야 합니다. \n",
    "print(movie_to_idx['Lion King, The (1994)'])"
   ]
  },
  {
   "cell_type": "code",
   "execution_count": 26,
   "id": "fd20bc56",
   "metadata": {},
   "outputs": [
    {
     "data": {
      "text/html": [
       "<div>\n",
       "<style scoped>\n",
       "    .dataframe tbody tr th:only-of-type {\n",
       "        vertical-align: middle;\n",
       "    }\n",
       "\n",
       "    .dataframe tbody tr th {\n",
       "        vertical-align: top;\n",
       "    }\n",
       "\n",
       "    .dataframe thead th {\n",
       "        text-align: right;\n",
       "    }\n",
       "</style>\n",
       "<table border=\"1\" class=\"dataframe\">\n",
       "  <thead>\n",
       "    <tr style=\"text-align: right;\">\n",
       "      <th></th>\n",
       "      <th>User_id</th>\n",
       "      <th>Title</th>\n",
       "      <th>Counts</th>\n",
       "    </tr>\n",
       "  </thead>\n",
       "  <tbody>\n",
       "    <tr>\n",
       "      <th>0</th>\n",
       "      <td>1</td>\n",
       "      <td>Toy Story (1995)</td>\n",
       "      <td>5</td>\n",
       "    </tr>\n",
       "    <tr>\n",
       "      <th>1</th>\n",
       "      <td>6</td>\n",
       "      <td>Toy Story (1995)</td>\n",
       "      <td>4</td>\n",
       "    </tr>\n",
       "    <tr>\n",
       "      <th>2</th>\n",
       "      <td>8</td>\n",
       "      <td>Toy Story (1995)</td>\n",
       "      <td>4</td>\n",
       "    </tr>\n",
       "    <tr>\n",
       "      <th>3</th>\n",
       "      <td>9</td>\n",
       "      <td>Toy Story (1995)</td>\n",
       "      <td>5</td>\n",
       "    </tr>\n",
       "    <tr>\n",
       "      <th>4</th>\n",
       "      <td>10</td>\n",
       "      <td>Toy Story (1995)</td>\n",
       "      <td>5</td>\n",
       "    </tr>\n",
       "    <tr>\n",
       "      <th>...</th>\n",
       "      <td>...</td>\n",
       "      <td>...</td>\n",
       "      <td>...</td>\n",
       "    </tr>\n",
       "    <tr>\n",
       "      <th>0</th>\n",
       "      <td>nogari</td>\n",
       "      <td>Aladdin (1992)</td>\n",
       "      <td>4</td>\n",
       "    </tr>\n",
       "    <tr>\n",
       "      <th>1</th>\n",
       "      <td>nogari</td>\n",
       "      <td>Lion King, The (1994)</td>\n",
       "      <td>5</td>\n",
       "    </tr>\n",
       "    <tr>\n",
       "      <th>2</th>\n",
       "      <td>nogari</td>\n",
       "      <td>Saving Private Ryan (1998)</td>\n",
       "      <td>5</td>\n",
       "    </tr>\n",
       "    <tr>\n",
       "      <th>3</th>\n",
       "      <td>nogari</td>\n",
       "      <td>Forrest Gump (1994)</td>\n",
       "      <td>4</td>\n",
       "    </tr>\n",
       "    <tr>\n",
       "      <th>4</th>\n",
       "      <td>nogari</td>\n",
       "      <td>Gladiator (2000)</td>\n",
       "      <td>4</td>\n",
       "    </tr>\n",
       "  </tbody>\n",
       "</table>\n",
       "<p>836483 rows × 3 columns</p>\n",
       "</div>"
      ],
      "text/plain": [
       "   User_id                       Title  Counts\n",
       "0        1            Toy Story (1995)       5\n",
       "1        6            Toy Story (1995)       4\n",
       "2        8            Toy Story (1995)       4\n",
       "3        9            Toy Story (1995)       5\n",
       "4       10            Toy Story (1995)       5\n",
       "..     ...                         ...     ...\n",
       "0   nogari              Aladdin (1992)       4\n",
       "1   nogari       Lion King, The (1994)       5\n",
       "2   nogari  Saving Private Ryan (1998)       5\n",
       "3   nogari         Forrest Gump (1994)       4\n",
       "4   nogari            Gladiator (2000)       4\n",
       "\n",
       "[836483 rows x 3 columns]"
      ]
     },
     "execution_count": 26,
     "metadata": {},
     "output_type": "execute_result"
    }
   ],
   "source": [
    "# 확인용\n",
    "movies_df.iloc[-10:]\n",
    "movies_df"
   ]
  },
  {
   "cell_type": "markdown",
   "id": "52449509",
   "metadata": {},
   "source": [
    "### 문자를 정수로 변환"
   ]
  },
  {
   "cell_type": "code",
   "execution_count": 27,
   "id": "7d87ae5b",
   "metadata": {},
   "outputs": [
    {
     "name": "stdout",
     "output_type": "stream",
     "text": [
      "User_id column indexing OK!!\n",
      "Movie column indexing OK!!\n"
     ]
    },
    {
     "data": {
      "text/html": [
       "<div>\n",
       "<style scoped>\n",
       "    .dataframe tbody tr th:only-of-type {\n",
       "        vertical-align: middle;\n",
       "    }\n",
       "\n",
       "    .dataframe tbody tr th {\n",
       "        vertical-align: top;\n",
       "    }\n",
       "\n",
       "    .dataframe thead th {\n",
       "        text-align: right;\n",
       "    }\n",
       "</style>\n",
       "<table border=\"1\" class=\"dataframe\">\n",
       "  <thead>\n",
       "    <tr style=\"text-align: right;\">\n",
       "      <th></th>\n",
       "      <th>User_id</th>\n",
       "      <th>Title</th>\n",
       "      <th>Counts</th>\n",
       "    </tr>\n",
       "  </thead>\n",
       "  <tbody>\n",
       "    <tr>\n",
       "      <th>0</th>\n",
       "      <td>0</td>\n",
       "      <td>0</td>\n",
       "      <td>5</td>\n",
       "    </tr>\n",
       "    <tr>\n",
       "      <th>1</th>\n",
       "      <td>1</td>\n",
       "      <td>0</td>\n",
       "      <td>4</td>\n",
       "    </tr>\n",
       "    <tr>\n",
       "      <th>2</th>\n",
       "      <td>2</td>\n",
       "      <td>0</td>\n",
       "      <td>4</td>\n",
       "    </tr>\n",
       "    <tr>\n",
       "      <th>3</th>\n",
       "      <td>3</td>\n",
       "      <td>0</td>\n",
       "      <td>5</td>\n",
       "    </tr>\n",
       "    <tr>\n",
       "      <th>4</th>\n",
       "      <td>4</td>\n",
       "      <td>0</td>\n",
       "      <td>5</td>\n",
       "    </tr>\n",
       "    <tr>\n",
       "      <th>...</th>\n",
       "      <td>...</td>\n",
       "      <td>...</td>\n",
       "      <td>...</td>\n",
       "    </tr>\n",
       "    <tr>\n",
       "      <th>0</th>\n",
       "      <td>6039</td>\n",
       "      <td>568</td>\n",
       "      <td>4</td>\n",
       "    </tr>\n",
       "    <tr>\n",
       "      <th>1</th>\n",
       "      <td>6039</td>\n",
       "      <td>350</td>\n",
       "      <td>5</td>\n",
       "    </tr>\n",
       "    <tr>\n",
       "      <th>2</th>\n",
       "      <td>6039</td>\n",
       "      <td>1810</td>\n",
       "      <td>5</td>\n",
       "    </tr>\n",
       "    <tr>\n",
       "      <th>3</th>\n",
       "      <td>6039</td>\n",
       "      <td>342</td>\n",
       "      <td>4</td>\n",
       "    </tr>\n",
       "    <tr>\n",
       "      <th>4</th>\n",
       "      <td>6039</td>\n",
       "      <td>3270</td>\n",
       "      <td>4</td>\n",
       "    </tr>\n",
       "  </tbody>\n",
       "</table>\n",
       "<p>836483 rows × 3 columns</p>\n",
       "</div>"
      ],
      "text/plain": [
       "    User_id  Title  Counts\n",
       "0         0      0       5\n",
       "1         1      0       4\n",
       "2         2      0       4\n",
       "3         3      0       5\n",
       "4         4      0       5\n",
       "..      ...    ...     ...\n",
       "0      6039    568       4\n",
       "1      6039    350       5\n",
       "2      6039   1810       5\n",
       "3      6039    342       4\n",
       "4      6039   3270       4\n",
       "\n",
       "[836483 rows x 3 columns]"
      ]
     },
     "execution_count": 27,
     "metadata": {},
     "output_type": "execute_result"
    }
   ],
   "source": [
    "# indexing을 통해 데이터 컬럼 내 값을 바꾸는 코드\n",
    "# dictionary 자료형의 get 함수는 https://wikidocs.net/16 을 참고하세요.\n",
    "\n",
    "# user_to_idx.get을 통해 user_id 컬럼의 모든 값을 인덱싱한 Series를 구해 봅시다. \n",
    "# 혹시 정상적으로 인덱싱되지 않은 row가 있다면 인덱스가 NaN이 될 테니 dropna()로 제거합니다. \n",
    "temp_user_data = movies_df['User_id'].map(user_to_idx.get).dropna()             # Series.map() : https://pandas.pydata.org/docs/reference/api/pandas.Series.map.html  \n",
    "                                                                                # dictionary.get() : https://wikidocs.net/16\n",
    "if len(temp_user_data) == len(movies_df):   # 모든 row가 정상적으로 인덱싱되었다면\n",
    "    print('User_id column indexing OK!!')\n",
    "    movies_df['User_id'] = temp_user_data   # data['User_id']을 인덱싱된 Series로 교체해 줍니다. \n",
    "else:\n",
    "    print('User_id column indexing Fail!!')\n",
    "\n",
    "# movie_to_idx을 통해 movie 컬럼도 동일한 방식으로 인덱싱해 줍니다. \n",
    "temp_movie_data = movies_df['Title'].map(movie_to_idx.get).dropna()\n",
    "if len(temp_movie_data) == len(movies_df):\n",
    "    print('Movie column indexing OK!!')\n",
    "    movies_df['Title'] = temp_movie_data\n",
    "else:\n",
    "    print('Movie column indexing Fail!!')\n",
    "\n",
    "movies_df"
   ]
  },
  {
   "cell_type": "markdown",
   "id": "1ee908c7",
   "metadata": {},
   "source": [
    "# STEP 4. CSR matrix를 직접 만들어 봅시다.\n",
    "Sparse Matrix 문제를 해결하는 CSR(Compressed Sparse Row) Matrix를 생성 후 모델 학습 입력으로 사용\n",
    "- CSR Matrix는 Sparse한 matrix에서 0이 아닌 유효한 데이터로 채워지는 데이터의 값과 좌표 정보만으로 구성하여 메모리 사용량을 최소화하면서도 Sparse한 matrix와 동일한 행렬을 표현할 수 있도록 하는 데이터 구조입니다."
   ]
  },
  {
   "cell_type": "code",
   "execution_count": null,
   "id": "98ef0e77",
   "metadata": {},
   "outputs": [],
   "source": [
    "num_user = movies_df['User_id'].nunique()\n",
    "num_movie = movies_df['Title'].nunique()\n",
    "\n",
    "csr_data = csr_matrix((movies_df.Counts, (movies_df.User_id, movies_df.Title)), shape=(num_user, num_movie))  # https://docs.scipy.org/doc/scipy/reference/generated/scipy.sparse.csr_matrix.html\n",
    "csr_data"
   ]
  },
  {
   "cell_type": "markdown",
   "id": "dfbdbea1",
   "metadata": {},
   "source": [
    "# STEP 5. als_model = AlternatingLeastSquares 모델을 직접 구성하여 훈련\n",
    "- 사용할 모델은 Collaborative Filtering for Implicit Feedback Datasets 논문에서 제안한 모델을 사용할 것입니다.\n",
    "- 유저 벡터와 아이템 벡터를 곱했을 때 1에 가까워야 모델이 잘 학습하는 것을 목표로 함\n",
    "- Matrix Factorization 모델을 implicit 패키지의 AlternatingLeastSquares를 사용하여 학습할 것임\n",
    "    - implicit 패키지는 이전 스텝에서 설명한 암묵적(implicit) dataset을 사용하는 다양한 모델을 굉장히 빠르게 학습할 수 있는 패키지입니다.\n",
    "    - 이 패키지에 구현된 als(AlternatingLeastSquares) 모델을 사용하겠습니다. Matrix Factorization에서 쪼개진 두 Feature Matrix를 한꺼번에 훈련하는 것은 잘 수렴하지 않기 때문에, 한쪽을 고정시키고 다른 쪽을 학습하는 방식을 번갈아 수행하는 AlternatingLeastSquares 방식이 효과적인 것으로 알려져 있습니다.\n"
   ]
  },
  {
   "cell_type": "code",
   "execution_count": 29,
   "id": "918294dc",
   "metadata": {},
   "outputs": [],
   "source": [
    "# implicit 라이브러리에서 권장하고 있는 부분입니다. 학습 내용과는 무관합니다.\n",
    "os.environ['OPENBLAS_NUM_THREADS']='1'\n",
    "os.environ['KMP_DUPLICATE_LIB_OK']='True'\n",
    "os.environ['MKL_NUM_THREADS']='1'"
   ]
  },
  {
   "cell_type": "code",
   "execution_count": 30,
   "id": "a4dc2cfa",
   "metadata": {},
   "outputs": [],
   "source": [
    "# Implicit AlternatingLeastSquares 모델의 선언\n",
    "als_model = AlternatingLeastSquares(factors=500, regularization=0.001, use_gpu=False, iterations=1000, dtype=np.float32)"
   ]
  },
  {
   "cell_type": "markdown",
   "id": "d67eda37",
   "metadata": {},
   "source": [
    "AlternatingLeastSquares 클래스의 __init__ 파라미터를 살펴보겠습니다.\n",
    "\n",
    "1. factors : 유저와 아이템의 벡터를 몇 차원으로 할 것인지\n",
    "2. regularization : 과적합을 방지하기 위해 정규화 값을 얼마나 사용할 것인지\n",
    "3. use_gpu : GPU를 사용할 것인지\n",
    "4. iterations : epochs와 같은 의미입니다. 데이터를 몇 번 반복해서 학습할 것인지\n",
    "\n",
    "1과 4를 늘릴수록 학습 데이터를 잘 학습하게 되지만 과적합의 우려가 있으니 좋은 값을 찾아야 합니다."
   ]
  },
  {
   "cell_type": "code",
   "execution_count": 31,
   "id": "39db1106",
   "metadata": {},
   "outputs": [
    {
     "data": {
      "text/plain": [
       "<3628x6040 sparse matrix of type '<class 'numpy.int64'>'\n",
       "\twith 836483 stored elements in Compressed Sparse Column format>"
      ]
     },
     "execution_count": 31,
     "metadata": {},
     "output_type": "execute_result"
    }
   ],
   "source": [
    "# als 모델은 input으로 (item X user 꼴의 matrix를 받기 때문에 Transpose해줍니다.)\n",
    "csr_data_transpose = csr_data.T\n",
    "csr_data_transpose"
   ]
  },
  {
   "cell_type": "code",
   "execution_count": 32,
   "id": "91db349a",
   "metadata": {},
   "outputs": [
    {
     "data": {
      "application/vnd.jupyter.widget-view+json": {
       "model_id": "c3ef19e757914495b1314a587f357077",
       "version_major": 2,
       "version_minor": 0
      },
      "text/plain": [
       "  0%|          | 0/1000 [00:00<?, ?it/s]"
      ]
     },
     "metadata": {},
     "output_type": "display_data"
    }
   ],
   "source": [
    "als_model.fit(csr_data_transpose) # 모델 학습 "
   ]
  },
  {
   "cell_type": "markdown",
   "id": "7e796f11",
   "metadata": {},
   "source": [
    "# STEP 6. 내가 선호하는 5가지 영화 중 하나와 그 외의 영화 하나를 골라 훈련된 모델이 예측한 나의 선호도를 파악해 보세요."
   ]
  },
  {
   "cell_type": "markdown",
   "id": "a54d26f7",
   "metadata": {},
   "source": [
    "## 내가 선호하는 5가지 영화 중 한 개와 나의 선호도"
   ]
  },
  {
   "cell_type": "code",
   "execution_count": 33,
   "id": "ca55d190",
   "metadata": {},
   "outputs": [],
   "source": [
    "#나(nogari) vector과 Lion King vector 확인\n",
    "nogari_idx, lion_king_idx = user_to_idx['nogari'], movie_to_idx['Lion King, The (1994)']\n",
    "nogari_vector, lion_king_vector = als_model.user_factors[nogari_idx], als_model.item_factors[lion_king_idx]"
   ]
  },
  {
   "cell_type": "code",
   "execution_count": 34,
   "id": "b9ef35b0",
   "metadata": {},
   "outputs": [
    {
     "data": {
      "text/plain": [
       "array([-0.07241631, -0.47959688,  0.10989027,  0.08384133,  0.06084403,\n",
       "        0.20024821, -0.023342  ,  0.18600379, -0.05122977,  0.04938873,\n",
       "       -0.18930419,  0.06422227, -0.0512466 ,  0.0312527 ,  0.2755352 ,\n",
       "       -0.13653111,  0.08855879,  0.0868596 ,  0.04294017, -0.19858856,\n",
       "       -0.09723696, -0.17422646, -0.33803886,  0.01066677,  0.1682439 ,\n",
       "        0.09494501, -0.0728912 ,  0.15563194, -0.05601176,  0.23320438,\n",
       "        0.08132262,  0.17820296, -0.03506682, -0.05640317,  0.1901791 ,\n",
       "        0.28708264,  0.21400635,  0.07247877, -0.00348458, -0.00933393,\n",
       "       -0.15785839,  0.18805784,  0.05645679, -0.1118498 ,  0.3295737 ,\n",
       "        0.02090603, -0.00289995, -0.03980061,  0.0504856 , -0.19057876,\n",
       "        0.13423029,  0.0723017 , -0.08450122, -0.24842112, -0.404362  ,\n",
       "       -0.02146108, -0.10234736,  0.02353209,  0.19344051,  0.02416558,\n",
       "       -0.2388568 , -0.15786122,  0.01780696,  0.00230517, -0.01030654,\n",
       "       -0.16102096, -0.00812619, -0.06977837, -0.21060862,  0.09784102,\n",
       "        0.12210896,  0.23031145,  0.12206466,  0.04212613,  0.03151726,\n",
       "        0.25571612,  0.0763992 , -0.05463698,  0.3640615 , -0.13584307,\n",
       "       -0.11475115, -0.1074049 , -0.13404693,  0.16199845,  0.09809538,\n",
       "       -0.1235157 , -0.15637822,  0.01946603, -0.03378307, -0.05683245,\n",
       "       -0.23267774,  0.05443387, -0.00075018, -0.13205074,  0.36876237,\n",
       "       -0.25792792,  0.07480171, -0.25311998, -0.23269212, -0.0246935 ,\n",
       "        0.15146898, -0.00395843, -0.07867467, -0.1303171 ,  0.18543535,\n",
       "       -0.07424701, -0.03168407, -0.37557   , -0.1207352 ,  0.06933151,\n",
       "       -0.00446362, -0.04384225, -0.0847429 ,  0.0356614 , -0.10080123,\n",
       "       -0.18502343,  0.01369409,  0.08359142,  0.14068283,  0.12355545,\n",
       "        0.19244315, -0.27300572,  0.08309119,  0.03999712, -0.274508  ,\n",
       "       -0.31396112, -0.20339042,  0.18584153,  0.34841347, -0.00288226,\n",
       "        0.07236651, -0.01826673, -0.00719986, -0.0361827 , -0.13955125,\n",
       "       -0.19349709,  0.14195052,  0.28615844, -0.00459024, -0.06074727,\n",
       "       -0.06096451, -0.02399581,  0.21712819, -0.0631009 , -0.15711781,\n",
       "       -0.18316507,  0.01198504, -0.0024047 , -0.07875176,  0.30662498,\n",
       "        0.02393472, -0.11172576, -0.09115606,  0.23065795, -0.20489676,\n",
       "        0.05534778,  0.03269886, -0.03917493, -0.13268448, -0.02690568,\n",
       "       -0.05764046,  0.16867016, -0.19228338,  0.184006  ,  0.03906229,\n",
       "       -0.23006155,  0.14254704,  0.01371378, -0.01461295, -0.04521298,\n",
       "       -0.14546064, -0.15925904,  0.00622945, -0.02778556,  0.15131141,\n",
       "       -0.00778367, -0.10842741, -0.14740631, -0.04056155,  0.03564392,\n",
       "       -0.04900247, -0.01703983,  0.01652266,  0.09815618, -0.01088427,\n",
       "       -0.1111213 ,  0.07769064,  0.20531319,  0.02329237, -0.02813506,\n",
       "        0.21327734,  0.10093278, -0.18570545, -0.01359271, -0.00415347,\n",
       "        0.05166906, -0.1548292 , -0.01948053,  0.06860139,  0.03828343,\n",
       "       -0.12862013,  0.15957454, -0.00377148, -0.19964875,  0.16833271,\n",
       "       -0.3073679 ,  0.05366124, -0.13531926, -0.21741587,  0.31714118,\n",
       "       -0.16291243, -0.03696477,  0.17784774, -0.08858012,  0.07949594,\n",
       "        0.28035706, -0.13806231, -0.14847974, -0.10098366, -0.0834372 ,\n",
       "       -0.08314394, -0.04001699, -0.03699978,  0.11029898, -0.00389429,\n",
       "       -0.03643259, -0.02981484, -0.01958527,  0.1262986 , -0.06939306,\n",
       "        0.10460816,  0.29271302,  0.17446983,  0.01414452, -0.01874106,\n",
       "        0.01076487, -0.20387341,  0.17033812,  0.1154291 , -0.07897829,\n",
       "       -0.22223946,  0.11207258,  0.35942978,  0.0412639 , -0.2705341 ,\n",
       "        0.08131353, -0.18122385,  0.03146058,  0.1263595 , -0.02079936,\n",
       "        0.09098238,  0.24812618, -0.2668404 ,  0.06587   , -0.21632394,\n",
       "       -0.10310801, -0.07203745,  0.1430481 , -0.16195753, -0.21287048,\n",
       "       -0.12266698,  0.16579624, -0.05438646, -0.03994462,  0.24132572,\n",
       "        0.16707055,  0.07721318, -0.05479367, -0.26769075,  0.245148  ,\n",
       "       -0.03022272,  0.0113865 , -0.07437152, -0.05111511,  0.24207428,\n",
       "       -0.04407429,  0.09201701, -0.1424564 ,  0.06508255, -0.09708232,\n",
       "        0.05515935, -0.03344597,  0.40148076,  0.17946683, -0.18547729,\n",
       "        0.06107555, -0.26072595,  0.17029928, -0.00395206,  0.163626  ,\n",
       "       -0.1014974 ,  0.16050209,  0.10329229,  0.03903682,  0.08251631,\n",
       "        0.2013446 ,  0.01325212, -0.0090676 , -0.01911081, -0.04128159,\n",
       "       -0.14728878, -0.12770544,  0.37490696,  0.03627613,  0.02285534,\n",
       "        0.06742629,  0.06254598, -0.13919291,  0.04426348, -0.21940266,\n",
       "        0.07428002, -0.06242749, -0.14695388,  0.04000897, -0.28395137,\n",
       "        0.08719512, -0.08237879, -0.20747246,  0.28066358,  0.2136392 ,\n",
       "        0.1532654 ,  0.02654936,  0.07920072,  0.13491555,  0.06342656,\n",
       "        0.15114594,  0.02967948, -0.08404335,  0.20275593, -0.01168036,\n",
       "       -0.1285431 , -0.10334969, -0.04815536,  0.12308556,  0.34331715,\n",
       "        0.29972526, -0.20416184, -0.06222177,  0.30353445,  0.20319887,\n",
       "        0.10727701, -0.17032431,  0.26084682, -0.06117576,  0.30744648,\n",
       "       -0.00960223, -0.14679559, -0.1191751 ,  0.13734937, -0.07175834,\n",
       "       -0.03008289,  0.01740412, -0.04639906, -0.14658009, -0.01952268,\n",
       "        0.15509093,  0.03553728,  0.12698984, -0.09375928, -0.12056626,\n",
       "       -0.19534089, -0.0380789 , -0.02730302, -0.1080488 , -0.06897506,\n",
       "        0.0676842 ,  0.09950732,  0.1869588 ,  0.19733098, -0.13506664,\n",
       "       -0.01607609,  0.00422265,  0.08499399,  0.12563774,  0.45450497,\n",
       "       -0.09706301,  0.02442746, -0.21348836,  0.23887266,  0.25935638,\n",
       "        0.04498796,  0.06705406, -0.1629425 , -0.05138961, -0.1739441 ,\n",
       "        0.11904957, -0.14882095,  0.16343023, -0.18867904,  0.10508695,\n",
       "        0.21941823,  0.2411051 , -0.29916394,  0.02738388, -0.1751252 ,\n",
       "       -0.1890378 ,  0.04278297, -0.00141019, -0.13216859,  0.08851758,\n",
       "       -0.0263206 ,  0.04040823, -0.2813647 ,  0.01833076, -0.40915954,\n",
       "        0.01499845,  0.07507487, -0.09403854, -0.01970275,  0.29621774,\n",
       "       -0.09931706,  0.48515052,  0.11807753, -0.21650802, -0.28007415,\n",
       "        0.05929075, -0.01433104,  0.03675473, -0.06976334, -0.02588732,\n",
       "        0.1730393 , -0.09169993,  0.06729447, -0.12225328,  0.20173246,\n",
       "       -0.20102538, -0.02817184, -0.08576342, -0.27629322, -0.21159293,\n",
       "        0.11307915,  0.25103334, -0.19290633, -0.15081903, -0.3315159 ,\n",
       "       -0.00614398,  0.15427868, -0.21642339,  0.10791364, -0.33005944,\n",
       "        0.24132629, -0.02475251,  0.19349144, -0.06366149, -0.10218883,\n",
       "        0.15965344, -0.009169  , -0.24959596,  0.09479786, -0.3043774 ,\n",
       "        0.24775003, -0.10709145,  0.06843571,  0.1636876 ,  0.30471265,\n",
       "       -0.16265906, -0.12921058,  0.00347631, -0.11264385, -0.09666931,\n",
       "       -0.07516001,  0.04343469, -0.07963918, -0.12559412, -0.02763866,\n",
       "       -0.0774984 , -0.10341449, -0.16027193,  0.08930892, -0.20569639,\n",
       "       -0.07277738,  0.21115477,  0.05010221,  0.2568549 ,  0.17098847,\n",
       "        0.06954258,  0.04871792,  0.26071483,  0.00803181, -0.03275442,\n",
       "        0.16129766, -0.09245087,  0.04875959,  0.16912657,  0.0206597 ,\n",
       "       -0.0234936 ,  0.11798755, -0.12212192, -0.06976401, -0.09000145,\n",
       "        0.10328948, -0.10269741, -0.12485506,  0.14432937, -0.07457785,\n",
       "       -0.11163314,  0.02658184, -0.17881638,  0.08139217,  0.08371606],\n",
       "      dtype=float32)"
      ]
     },
     "execution_count": 34,
     "metadata": {},
     "output_type": "execute_result"
    }
   ],
   "source": [
    "# 나의 선호도\n",
    "nogari_vector"
   ]
  },
  {
   "cell_type": "code",
   "execution_count": 35,
   "id": "0e4d04e9",
   "metadata": {},
   "outputs": [
    {
     "data": {
      "text/plain": [
       "0.84950185"
      ]
     },
     "execution_count": 35,
     "metadata": {},
     "output_type": "execute_result"
    }
   ],
   "source": [
    "# 두 벡터의 내적 값 확인\n",
    "np.dot(nogari_vector, lion_king_vector)"
   ]
  },
  {
   "cell_type": "markdown",
   "id": "985cceff",
   "metadata": {},
   "source": [
    "## 그 외의 영화 한 개와 나의 선호도"
   ]
  },
  {
   "cell_type": "code",
   "execution_count": 36,
   "id": "e4beec42",
   "metadata": {},
   "outputs": [
    {
     "data": {
      "text/plain": [
       "0.104743354"
      ]
     },
     "execution_count": 36,
     "metadata": {},
     "output_type": "execute_result"
    }
   ],
   "source": [
    "# 나의 벡터와 my_favorite외의 다른 영화와의 선호도 확인\n",
    "toy_story_idx = movie_to_idx['Toy Story (1995)']\n",
    "toy_story_vector = als_model.item_factors[toy_story_idx]\n",
    "np.dot(nogari_vector, toy_story_vector)"
   ]
  },
  {
   "cell_type": "markdown",
   "id": "9205f7b2",
   "metadata": {},
   "source": [
    "# STEP 7. 내가 좋아하는 영화와 비슷한 영화를 추천받아 봅시다."
   ]
  },
  {
   "cell_type": "markdown",
   "id": "6a150d08",
   "metadata": {},
   "source": [
    "AlternatingLeastSquares 클래스에 구현되어 있는 similar_items 메서드를 통하여 비슷한 아티스트를 찾습니다. 처음으로는 제가 좋아하는 Lion King으로 찾아보겠습니다."
   ]
  },
  {
   "cell_type": "code",
   "execution_count": 37,
   "id": "9fce4a12",
   "metadata": {},
   "outputs": [],
   "source": [
    "idx_to_movie = {v:k for k,v in movie_to_idx.items()}\n",
    "\n",
    "def get_similar_movie(movie_name: str):\n",
    "    movie_id = movie_to_idx[movie_name]\n",
    "    similar_movie = als_model.similar_items(movie_id, N=15)   # 유사한 영화 확인\n",
    "    similar_movie = [idx_to_movie[idx_val_tuple[0]] for idx_val_tuple in similar_movie]\n",
    "    return similar_movie"
   ]
  },
  {
   "cell_type": "code",
   "execution_count": 38,
   "id": "a6c5f844",
   "metadata": {},
   "outputs": [
    {
     "data": {
      "text/plain": [
       "['Lion King, The (1994)',\n",
       " 'Beauty and the Beast (1991)',\n",
       " 'Aladdin (1992)',\n",
       " 'Tarzan (1999)',\n",
       " 'Antz (1998)',\n",
       " 'Mulan (1998)',\n",
       " 'Hunchback of Notre Dame, The (1996)',\n",
       " 'Cinderella (1950)',\n",
       " 'Anastasia (1997)',\n",
       " 'Evita (1996)',\n",
       " 'Hercules (1997)',\n",
       " 'Return of Jafar, The (1993)',\n",
       " 'Snow White and the Seven Dwarfs (1937)',\n",
       " 'My Favorite Season (1993)',\n",
       " 'Soft Toilet Seats (1999)']"
      ]
     },
     "execution_count": 38,
     "metadata": {},
     "output_type": "execute_result"
    }
   ],
   "source": [
    "get_similar_movie('Lion King, The (1994)')"
   ]
  },
  {
   "cell_type": "code",
   "execution_count": 39,
   "id": "18bfd308",
   "metadata": {},
   "outputs": [
    {
     "data": {
      "text/plain": [
       "['Forrest Gump (1994)',\n",
       " \"Devil's Brigade, The (1968)\",\n",
       " \"Child's Play 3 (1992)\",\n",
       " 'Digimon: The Movie (2000)',\n",
       " 'Death in the Garden (Mort en ce jardin, La) (1956)',\n",
       " 'Flower of My Secret, The (La Flor de Mi Secreto) (1995)',\n",
       " 'Déjà Vu (1997)',\n",
       " 'Ulysses (Ulisse) (1954)',\n",
       " 'Nil By Mouth (1997)',\n",
       " 'Amityville II: The Possession (1982)',\n",
       " 'Man of No Importance, A (1994)',\n",
       " 'Battle of the Sexes, The (1959)',\n",
       " 'Children of the Corn II: The Final Sacrifice (1993)',\n",
       " 'Sacco and Vanzetti (Sacco e Vanzetti) (1971)',\n",
       " 'King in New York, A (1957)']"
      ]
     },
     "execution_count": 39,
     "metadata": {},
     "output_type": "execute_result"
    }
   ],
   "source": [
    "get_similar_movie('Forrest Gump (1994)')"
   ]
  },
  {
   "cell_type": "markdown",
   "id": "b4e1e8b6",
   "metadata": {},
   "source": [
    "# STEP 8. 내가 가장 좋아할 만한 영화들을 추천받아 봅시다."
   ]
  },
  {
   "cell_type": "code",
   "execution_count": 40,
   "id": "fe5a6903",
   "metadata": {},
   "outputs": [],
   "source": [
    "def get_recommend_movie(user_name: str):\n",
    "    user_idx = user_to_idx[user_name]\n",
    "    \n",
    "    # recommend에서는 user*item CSR Matrix를 받습니다.\n",
    "    movie_recommended = als_model.recommend(user_idx, csr_data, N=15, filter_already_liked_items=True)\n",
    "    movie_recommended = [[idx_to_movie[idx_val_tuple[0]], idx_val_tuple[1]] for idx_val_tuple in movie_recommended]\n",
    "    return movie_recommended"
   ]
  },
  {
   "cell_type": "code",
   "execution_count": 41,
   "id": "e35fac10",
   "metadata": {},
   "outputs": [
    {
     "data": {
      "text/plain": [
       "[['Beauty and the Beast (1991)', 0.29474965],\n",
       " ['Little Mermaid, The (1989)', 0.12478913],\n",
       " ['Tarzan (1999)', 0.122440174],\n",
       " ['Anastasia (1997)', 0.116505064],\n",
       " ['Mulan (1998)', 0.11497588],\n",
       " ['Perfect Storm, The (2000)', 0.10687573],\n",
       " ['Toy Story (1995)', 0.10474334],\n",
       " ['Hercules (1997)', 0.100075476],\n",
       " ['Antz (1998)', 0.09964849],\n",
       " ['Patriot, The (2000)', 0.091271125],\n",
       " ['Mrs. Doubtfire (1993)', 0.09032702],\n",
       " ['Home Alone (1990)', 0.08965412],\n",
       " ['Mask of Zorro, The (1998)', 0.08564678],\n",
       " ['U-571 (2000)', 0.08280902],\n",
       " ['Last Picture Show, The (1971)', 0.0825756]]"
      ]
     },
     "execution_count": 41,
     "metadata": {},
     "output_type": "execute_result"
    }
   ],
   "source": [
    "get_recommend_movie('nogari')"
   ]
  },
  {
   "attachments": {
    "image.png": {
     "image/png": "[encoded data removed]"
    }
   },
   "cell_type": "markdown",
   "id": "9ea887be",
   "metadata": {},
   "source": [
    "Beauty and the Beast (1991) 추천해 주고 있네요. 모델은 왜 Beauty and the Beast (1991) 추천해 줬을까요? AlternatingLeastSquares 클래스에 구현된 explain method는 추천한 콘텐츠의 점수에 기여한 다른 콘텐츠와 기여도(합이 콘텐츠의 점수가 됩니다.)를 반환합니다.  \n",
    " 어떤 아이템(영화)들이 이 추천에 얼마나 기여하고 있는 걸까요?\n",
    " \n",
    " ![image.png](attachment:image.png)\n"
   ]
  },
  {
   "cell_type": "code",
   "execution_count": 42,
   "id": "2cfe2612",
   "metadata": {},
   "outputs": [],
   "source": [
    "def get_explain(movie_name: str, user_name: str):\n",
    "    movie_idx = movie_to_idx[movie_name]\n",
    "    user_idx = user_to_idx[user_name]\n",
    "    \n",
    "    explain = als_model.explain(user_idx, csr_data, itemid=movie_idx)\n",
    "    explain = [(idx_to_movie[idx_val_tuple[0]], idx_val_tuple[1]) for idx_val_tuple in explain[1]]\n",
    "    return explain"
   ]
  },
  {
   "cell_type": "code",
   "execution_count": 43,
   "id": "8c00aa78",
   "metadata": {},
   "outputs": [
    {
     "data": {
      "text/plain": [
       "(0.29461423517325,\n",
       " [(350, 0.1944736589776349),\n",
       "  (568, 0.11349670613236786),\n",
       "  (342, 0.005571733061788327),\n",
       "  (1810, 0.002497294411496742),\n",
       "  (3270, -0.02142515741003782)],\n",
       " (array([[ 0.77749003,  0.09336934,  0.08268342, ...,  0.08291483,\n",
       "           0.08539808,  0.08495998],\n",
       "         [ 0.07259373,  0.78840575,  0.09842989, ...,  0.07883043,\n",
       "           0.06791251,  0.07169371],\n",
       "         [ 0.06428553,  0.08532279,  0.78778037, ...,  0.05871668,\n",
       "           0.04378133,  0.05417247],\n",
       "         ...,\n",
       "         [ 0.06446546,  0.06989207,  0.0608708 , ...,  0.72158691,\n",
       "           0.00241895,  0.01167417],\n",
       "         [ 0.06639615,  0.06151618,  0.0482357 , ...,  0.06712144,\n",
       "           0.71838354, -0.00228689],\n",
       "         [ 0.06605554,  0.06445639,  0.05675759, ...,  0.08979224,\n",
       "           0.05781612,  0.71979357]]),\n",
       "  False))"
      ]
     },
     "execution_count": 43,
     "metadata": {},
     "output_type": "execute_result"
    }
   ],
   "source": [
    "# 확인용\n",
    "explain = als_model.explain(user_to_idx['nogari'], csr_data, itemid=movie_to_idx['Beauty and the Beast (1991)'])\n",
    "explain"
   ]
  },
  {
   "cell_type": "code",
   "execution_count": 44,
   "id": "cff88da7",
   "metadata": {},
   "outputs": [
    {
     "data": {
      "text/plain": [
       "[('Lion King, The (1994)', 0.1944736589776349),\n",
       " ('Aladdin (1992)', 0.11349670613236786),\n",
       " ('Forrest Gump (1994)', 0.005571733061788327),\n",
       " ('Saving Private Ryan (1998)', 0.002497294411496742),\n",
       " ('Gladiator (2000)', -0.02142515741003782)]"
      ]
     },
     "execution_count": 44,
     "metadata": {},
     "output_type": "execute_result"
    }
   ],
   "source": [
    "get_explain('Beauty and the Beast (1991)', 'nogari')"
   ]
  },
  {
   "cell_type": "code",
   "execution_count": null,
   "id": "74f214dd",
   "metadata": {},
   "outputs": [],
   "source": [
    "Lion King, Aladdin, Forrest Gump, Saving Private Ryan, Gladiator가  Beauty and the Beast, Little Mermaid 등등"
   ]
  },
  {
   "cell_type": "markdown",
   "id": "e4439aba",
   "metadata": {},
   "source": [
    "# STEP 9. 회고"
   ]
  },
  {
   "cell_type": "markdown",
   "id": "17c49583",
   "metadata": {},
   "source": [
    "Matrix Factorization을 사용한 추천 시스템이 었는데 개념 이해가 쉽지 않았다\n",
    "노드 내용을 따라하면서도 코드 연결과 해석이 쉽지 않아 구현하는데 힘들었다\n",
    "추천 시스템을 제대로 공부하기 위해서는 책과 병행하면서 공부해야겠다"
   ]
  }
 ],
 "metadata": {
  "kernelspec": {
   "display_name": "Python 3 (ipykernel)",
   "language": "python",
   "name": "python3"
  },
  "language_info": {
   "codemirror_mode": {
    "name": "ipython",
    "version": 3
   },
   "file_extension": ".py",
   "mimetype": "text/x-python",
   "name": "python",
   "nbconvert_exporter": "python",
   "pygments_lexer": "ipython3",
   "version": "3.9.7"
  }
 },
 "nbformat": 4,
 "nbformat_minor": 5
}

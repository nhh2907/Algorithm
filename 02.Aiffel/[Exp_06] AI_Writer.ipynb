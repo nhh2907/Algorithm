{
 "cells": [
  {
   "cell_type": "code",
   "execution_count": 1,
   "id": "17b0b5e9",
   "metadata": {},
   "outputs": [],
   "source": [
    "import glob                # glob 모듈의 glob 함수는 사용자가 제시한 조건에 맞는 파일명을 리스트 형식으로 반환한다\n",
    "import tensorflow as tf\n",
    "import os\n",
    "import re                  # 파이썬 정규표현식을 사용하기 위한 모듈\n",
    "import numpy as np\n",
    "from sklearn.model_selection import train_test_split\n",
    "import matplotlib.pyplot as plt"
   ]
  },
  {
   "cell_type": "markdown",
   "id": "ece314a6",
   "metadata": {},
   "source": [
    "# 언어 모델(Language Model)\n",
    "n−1개의 단어 시퀀스 w1,⋯,wn−1가 주어졌을 때, n번째 단어 wn으로 무엇이 올지를 예측하는 확률 모델\n",
    "- 훈련/학습할 땐 \n",
    "    - x_train : n-1번째까지 단어 시퀀스\n",
    "    - y_train : n번째 단어\n",
    "- 예측할 땐\n",
    "    - x_test : n-1번째까지 단어 시퀀스\n",
    "    - y_test : n번째 단어\n",
    "    - y_pred : n번째 예측"
   ]
  },
  {
   "cell_type": "markdown",
   "id": "ee4d5379",
   "metadata": {},
   "source": [
    "# STEP 1. 데이터 읽어오기\n",
    "\n",
    "glob 모듈을 사용하면 파일을 읽어오는 작업을 하기가 아주 용이해요.  \n",
    "glob 를 활용하여 모든 txt 파일을 읽어온 후, raw_corpus 리스트에 문장 단위로 저장하도록 할게요!"
   ]
  },
  {
   "cell_type": "code",
   "execution_count": 2,
   "id": "bc5f3873",
   "metadata": {},
   "outputs": [
    {
     "name": "stdout",
     "output_type": "stream",
     "text": [
      "데이터 크기: 187088\n",
      "Examples:\n",
      " [\"Now I've heard there was a secret chord\", 'That David played, and it pleased the Lord', \"But you don't really care for music, do you?\"]\n"
     ]
    }
   ],
   "source": [
    "txt_file_path = os.getenv(\"HOME\") + \"/aiffel/lyricist/data/lyrics/*.txt\"\n",
    "\n",
    "txt_list = glob.glob(txt_file_path)      # txt_file_path 경로에 있는 모든 파일에 대한 경로를 리스트로 반환\n",
    "\n",
    "raw_corpus = []\n",
    "\n",
    "\n",
    "# 여러개의 txt 파일을 모두 읽어서 raw_corpus 에 담습니다.\n",
    "for txt_file in txt_list:\n",
    "    with open(txt_file, \"r\") as f:\n",
    "        raw = f.read().splitlines()      # f.read() : 파일 전체의 내용을 하나의 문자열로 읽어온다 - 참고: https://docs.python.org/3/tutorial/inputoutput.html#methods-of-file-objects\n",
    "                                         # splitlines() : 문자열의 개행문자 기준으로 분리하여 리스트로 반환\n",
    "        raw_corpus.extend(raw)           # lraw 각각의 원소들을 ist 뒤에 추가하기 - 참고: https://docs.python.org/3/tutorial/datastructures.html?highlight=list#more-on-lists\n",
    "                                                    \n",
    "\n",
    "print(\"데이터 크기:\", len(raw_corpus))\n",
    "print(\"Examples:\\n\", raw_corpus[:3])"
   ]
  },
  {
   "cell_type": "markdown",
   "id": "94cf222e",
   "metadata": {},
   "source": [
    "# STEP 2. 데이터 정제\n",
    "**문장(대사) 만을 원하므로 화자 이름이나 공백뿐인 정보는 필요가 없습니다**. 우리가 만들 언어 모델은 **연극 대사를 만들어 내는 모델**이거든요.\n",
    "\n",
    "1. 데이터 정제 : preprocess_sentence() 함수를 활용\n",
    "\n",
    "2. 문장을 토큰화 했을 때 토큰의 개수가 15개를 넘어가는 문장을 학습 데이터에서 제외  \n",
    "- 이유 : 추가로 지나치게 긴 문장은 다른 데이터들이 과도한 Padding을 갖게 하므로 제거함\n",
    "\n"
   ]
  },
  {
   "cell_type": "markdown",
   "id": "2fd2bee8",
   "metadata": {},
   "source": [
    "**공백**을 기준으로 토큰화할 것이기 때문에 다음 문제점들을 미리 전처리하겠음\n",
    "1. 문장부호 전처리\n",
    "    - Hi, my name is John -> \"Hi,\" \"my\", \"is\", \"john.\" 으로 분리됨. \"john.\"처럼 문장 부호 양쪽을 빈칸으로 놓을것\n",
    "2. 대소문자 전처리\n",
    "    - 대소문자를 구분하므로 모든 단어를 소문자로 변경\n",
    "3. 특수문자 전처리\n",
    "    - He is a ten-year-old boy -> ten-year-old를 한 단어로 인식\n",
    "4. 문장부호 2개 이상인 경우 한개로 축소시키기\n",
    "    - john....................... -> \"john.\"으로 변경\n",
    "   "
   ]
  },
  {
   "cell_type": "markdown",
   "id": "fd7f8486",
   "metadata": {},
   "source": [
    "## 정제 함수 정의"
   ]
  },
  {
   "cell_type": "code",
   "execution_count": 3,
   "id": "aa86cc00",
   "metadata": {},
   "outputs": [],
   "source": [
    "# 정제 함수 선언\n",
    "\n",
    "# 입력된 문장을\n",
    "#     1. 소문자로 바꾸고, 양쪽 공백을 지웁니다\n",
    "#     2. 문장부호 양쪽에 공백을 넣고\n",
    "#     3. 여러 개의 공백은 하나의 공백으로 바꿉니다\n",
    "#     4. 연속된 문장부호는 하나의 문장부호로 변경함\n",
    "#     5. a-zA-Z?.!,¿가 아닌 모든 문자를 하나의 공백으로 바꿉니다\n",
    "#     6. 다시 양쪽 공백을 지웁니다\n",
    "#     7. 문장 시작에는 <start>, 끝에는 <end>를 추가합니다\n",
    "\n",
    "\n",
    "def preprocess_sentence(sentence):\n",
    "    sentence = sentence.lower().strip() # 1\n",
    "    sentence = re.sub(r'[\".\"]+', \".\", sentence) # 4\n",
    "    sentence = re.sub(r\"([?.!,¿])\", r\" \\1 \", sentence) # 2\n",
    "    sentence = re.sub(r'[\" \"]+', \" \", sentence) # 3\n",
    "    sentence = re.sub(r\"[^a-zA-Z?.!,¿']+\", \" \", sentence) # 5       # apostrophe를 추가하였음. i'm, they've 등은 한 단어로 취급\n",
    "    sentence = sentence.strip() # 6\n",
    "    sentence = '<start> ' + sentence + ' <end>' # 7\n",
    "    return sentence"
   ]
  },
  {
   "cell_type": "markdown",
   "id": "387d89af",
   "metadata": {},
   "source": [
    "## 정제하기"
   ]
  },
  {
   "cell_type": "code",
   "execution_count": 4,
   "id": "d0d7a0f2",
   "metadata": {},
   "outputs": [
    {
     "data": {
      "text/plain": [
       "[\"<start> now i've heard there was a secret chord <end>\",\n",
       " '<start> that david played , and it pleased the lord <end>',\n",
       " \"<start> but you don't really care for music , do you ? <end>\",\n",
       " '<start> it goes like this <end>',\n",
       " '<start> the fourth , the fifth <end>',\n",
       " '<start> the minor fall , the major lift <end>',\n",
       " '<start> the baffled king composing hallelujah hallelujah <end>',\n",
       " '<start> hallelujah <end>',\n",
       " '<start> hallelujah <end>',\n",
       " '<start> hallelujah your faith was strong but you needed proof <end>']"
      ]
     },
     "execution_count": 4,
     "metadata": {},
     "output_type": "execute_result"
    }
   ],
   "source": [
    "# 여기에 정제된 문장을 모음\n",
    "corpus = []\n",
    "\n",
    "# raw_corpus list에 저장된 문장들을 순서대로 반환하여 sentence에 저장\n",
    "for sentence in raw_corpus:\n",
    "    if len(sentence) == 0: continue\n",
    "    if sentence[-1] == \":\": continue\n",
    "    \n",
    "    # preprocess_sentence() 함수를 이용하여 문장을 정제를 하고 담기\n",
    "    preprocessed_sentence = preprocess_sentence(sentence)\n",
    "    if len(preprocessed_sentence.split()) > 15 : continue        # 15개 단어 초과한 문장은 제외. 이유는 위에서 제시한 조건 때문\n",
    "    \n",
    "    corpus.append(preprocessed_sentence)\n",
    "\n",
    "# 정제된 결과를 10개만 확인해보죠\n",
    "corpus[:10]\n",
    "    "
   ]
  },
  {
   "cell_type": "markdown",
   "id": "09b364bc",
   "metadata": {},
   "source": [
    "# STEP 3. 토근화(Tokenize), 벡터화, 텐서화\n",
    "tf.keras.preprocessing.text.Tokenizer : 벡터화\n",
    "\n",
    "- **벡터화 : 토큰화 -> 단어사전 만듦 -> 데이터를 숫자로 변환**  \n",
    "- 벡터화 : 문자를 실수 벡터로 변환  \n",
    "- 이 모든 과정을 vectorization이라고 함  \n",
    "- 참고 https://neptune.ai/blog/vectorization-techniques-in-nlp-guide) \n",
    "\n",
    "텐서(Tensor) : 배열의 집합"
   ]
  },
  {
   "cell_type": "markdown",
   "id": "c236f278",
   "metadata": {},
   "source": [
    "## 토큰화 함수 정의"
   ]
  },
  {
   "cell_type": "code",
   "execution_count": 5,
   "id": "c7220f76",
   "metadata": {
    "scrolled": true
   },
   "outputs": [],
   "source": [
    "def tokenize(corpus):\n",
    "    # 토크나이저 객체 생성\n",
    "    tokenizer = tf.keras.preprocessing.text.Tokenizer(                           \n",
    "        num_words=12000, \n",
    "        filters=' ',                               # filters : 걸러낼 문자 리스트를 적어준다. 디폴트는 '!\"#$%&()*+,-./:;<=>?@[\\]^_`{|}~\\t\\n' 이다.\n",
    "        oov_token=\"<unk>\"                          # ovv_token : 딕셔너리에 토큰화되지 않았던 단어들을 무시하지말고 <unk>으로 모두 토큰화시킴\n",
    "\n",
    "    )\n",
    "    \n",
    "    # 문장의 단어들을 딕셔너리 형태로 \"토큰화\" 시킴\n",
    "    tokenizer.fit_on_texts(corpus)\n",
    "    \n",
    "    \n",
    "    # 문장들을 \"Tensor\"로 변환합니다\n",
    "    tensor = tokenizer.texts_to_sequences(corpus)\n",
    "    \n",
    "    \n",
    "    # \"Padding!\" 입력 데이터의 시퀀스 길이를 일정하게 맞춰줍니다\n",
    "    tensor = tf.keras.preprocessing.sequence.pad_sequences(tensor, padding='post')\n",
    "    \n",
    "    print(tensor, tokenizer)\n",
    "    return tensor, tokenizer"
   ]
  },
  {
   "cell_type": "code",
   "execution_count": 6,
   "id": "102bb2a4",
   "metadata": {},
   "outputs": [
    {
     "name": "stdout",
     "output_type": "stream",
     "text": [
      "[[   2   46  149 ...    0    0    0]\n",
      " [   2   15 3184 ...    0    0    0]\n",
      " [   2   30    7 ...    3    0    0]\n",
      " ...\n",
      " [   2  268  188 ...    3    0    0]\n",
      " [   2  130   20 ...   10 1105    3]\n",
      " [   2    7   32 ...    0    0    0]] <keras_preprocessing.text.Tokenizer object at 0x7fb9f054a1c0>\n"
     ]
    }
   ],
   "source": [
    "tensor, tokenizer = tokenize(corpus)"
   ]
  },
  {
   "cell_type": "markdown",
   "id": "94e54604",
   "metadata": {},
   "source": [
    "# STEP 4. 평가 데이터셋 분리\n",
    "훈련 데이터와 평가 데이터를 분리\n",
    "\n",
    "sklearn 모듈의 train_test_split() 함수를 사용해 훈련 데이터와 평가 데이터를 분리하도록 하겠습니다.  \n",
    "단어장의 크기는 12,000 이상 으로 설정하세요! 총 데이터의 20% 를 평가 데이터셋으로 사용해 주세요!"
   ]
  },
  {
   "cell_type": "markdown",
   "id": "a098fb99",
   "metadata": {},
   "source": [
    "## Tensor로부터 Source Data와 Target Data 구분하기 "
   ]
  },
  {
   "cell_type": "code",
   "execution_count": 7,
   "id": "0cabd550",
   "metadata": {},
   "outputs": [
    {
     "name": "stdout",
     "output_type": "stream",
     "text": [
      "Source data 확인용:  [   2   46  149  312   84   50    9  977 6519    3    0    0    0    0]\n",
      "Target data 확인용:  [  46  149  312   84   50    9  977 6519    3    0    0    0    0    0]\n"
     ]
    }
   ],
   "source": [
    "# Source Dataset\n",
    "# tensor에서 마지막 토큰(<end>)을 잘라내서 소스 문장을 생성합니다\n",
    "# 마지막 토큰은 <end>가 아니라 <pad>일 가능성이 높습니다.\n",
    "src_input = tensor[:, :-1]       # 슬라이싱이므로 마지막 열 값(-1)은 포함 안함\n",
    "\n",
    "\n",
    "# Target Dataset\n",
    "# tensor에서 <start>를 잘라내서 타겟 문장을 생성합니다.\n",
    "tgt_input = tensor[:, 1:]    \n",
    "\n",
    "print(\"Source data 확인용: \", src_input[0])\n",
    "print(\"Target data 확인용: \", tgt_input[0])"
   ]
  },
  {
   "cell_type": "markdown",
   "id": "e8648ff0",
   "metadata": {},
   "source": [
    "## 훈련용과 테스트용 분리"
   ]
  },
  {
   "cell_type": "code",
   "execution_count": 8,
   "id": "1bb26398",
   "metadata": {},
   "outputs": [],
   "source": [
    "enc_train, enc_val, dec_train, dec_val = train_test_split(src_input, \n",
    "                                                          tgt_input,\n",
    "                                                          test_size=0.2,\n",
    "                                                          shuffle=True, \n",
    "                                                          random_state=2022 )"
   ]
  },
  {
   "cell_type": "code",
   "execution_count": 9,
   "id": "d4843cde",
   "metadata": {},
   "outputs": [
    {
     "name": "stdout",
     "output_type": "stream",
     "text": [
      "Source data 확인용:  (126870, 14)\n",
      "Target data 확인용:  (126870, 14)\n"
     ]
    }
   ],
   "source": [
    "print(\"Source data 확인용: \", enc_train.shape)\n",
    "print(\"Target data 확인용: \", dec_train.shape)"
   ]
  },
  {
   "cell_type": "markdown",
   "id": "1153fbbe",
   "metadata": {},
   "source": [
    "## Dataset 객체 생성"
   ]
  },
  {
   "cell_type": "code",
   "execution_count": 10,
   "id": "e2085335",
   "metadata": {},
   "outputs": [
    {
     "data": {
      "text/plain": [
       "<BatchDataset shapes: ((256, 14), (256, 14)), types: (tf.int32, tf.int32)>"
      ]
     },
     "execution_count": 10,
     "metadata": {},
     "output_type": "execute_result"
    }
   ],
   "source": [
    "BUFFER_SIZE = len(enc_train)                     # len(src_input) : 문장의 갯수 = tensor원소의 개수\n",
    "BATCH_SIZE = 256\n",
    "steps_per_epoch = len(enc_train) // BATCH_SIZE   # len(src_input)는 문장의 갯수이므로 한 epoch 당 배치사이즈 256개씩 들고오겠다는 뜻\n",
    "\n",
    "\n",
    "VOCAB_SIZE = tokenizer.num_words + 1             # tokenizer에서 생성한 단어 12000개와 여기에 포함되지 않은 0:<pad>를 포함하여 12001개\n",
    "\n",
    "\n",
    "# 훈련용 데이터셋\n",
    "train_dataset = tf.data.Dataset.from_tensor_slices((enc_train, dec_train))        # tf.data.Dataset.from_tensor_slices : DataSet 생성\n",
    "                                                                                  # tf.data.Dataset.from_tensor_slices 함수는 tf.data.Dataset 를 생성하는 함수로 입력된 텐서로부터 slices를 생성합니다. 예를 들어 MNIST의 학습데이터 (60000, 28, 28)가 입력되면, 60000개의 slices로 만들고 각각의 slice는 28×28의 이미지 크기를 갖게 됩니다.\n",
    "train_dataset = train_dataset.shuffle(BUFFER_SIZE)                                # Training 데이터셋을 램덤하게 셔플함\n",
    "                                                                                  # https://www.tensorflow.org/api_docs/python/tf/data/Dataset#shuffle\n",
    "                                                                                  # 동작\n",
    "                                                                                    # 원본 데이터셋의 buffer_size 개수만큼 추출하여 버퍼에 채운다.\n",
    "                                                                                    # 새로운 아이템이 요청되면 이 버퍼에서 랜덤하게 하나를 꺼내 반환\n",
    "                                                                                    # 원본 데이터셋에서 새로운 아이템을 추출하여 비워진 버퍼를 채운다.\n",
    "                                                                                    # 원본 데이터셋의 모든 아이템이 사용될 때까지 반복\n",
    "                                                                                    # 버퍼가 비워질 때까지 계속하여 랜덤하게 아이템을 반환\n",
    "train_dataset = train_dataset.batch(BATCH_SIZE, drop_remainder=True)              # Combines consecutive elements of this dataset into batches.\n",
    "                                                                                  # drop_remainder : representing whether the last batch should be dropped in the case it has fewer than batch_size elements\n",
    "train_dataset\n",
    "\n",
    "# 테스트용 데이터셋\n",
    "val_dataset = tf.data.Dataset.from_tensor_slices((enc_val, dec_val))\n",
    "val_dataset = val_dataset.shuffle(BUFFER_SIZE)\n",
    "val_dataset = val_dataset.batch(BATCH_SIZE, drop_remainder=True)\n",
    "val_dataset"
   ]
  },
  {
   "cell_type": "markdown",
   "id": "15462d3c",
   "metadata": {},
   "source": [
    "# STEP 5. 모델 학습"
   ]
  },
  {
   "cell_type": "markdown",
   "id": "9fc7ce81",
   "metadata": {},
   "source": [
    "## 텍스트 모델 정의 및 객체 생성"
   ]
  },
  {
   "cell_type": "code",
   "execution_count": 11,
   "id": "083749fc",
   "metadata": {},
   "outputs": [],
   "source": [
    "class TextGenerator(tf.keras.Model):\n",
    "    def __init__(self, vocab_size, embedding_size, hidden_size):\n",
    "        super(TextGenerator, self).__init__()                    # super().__init__()이라는 코드가 다른 클래스의 속성 및 메소드를 자동으로 불러와 해당 클래스에서도 사용이 가능하도록 해줍니다.\n",
    "                                                                 # 설명 : https://jimmy-ai.tistory.com/79\n",
    "            \n",
    "        self.embedding = tf.keras.layers.Embedding(vocab_size, embedding_size) # 앞에서 Tensor 변수에 토큰화된 단어들을 인덱스와 함 딕셔너리에 저장해뒀음. 그 단어 인덱스들을 워드 벡터화시키는 것이 Embedding임\n",
    "                                                                               # 이 워드 벡터는 의미 벡터 공간에서 단어의 추상적 표현(representation)으로 사용됨\n",
    "                                                                               # embedding_size는 워드 벡터의 차원(컬럼)수, 즉 단어가 추상적으로 표현되는 크기\n",
    "        self.rnn_1 = tf.keras.layers.LSTM(hidden_size, return_sequences=True)  # LSTM Layer\n",
    "        self.rnn_2 = tf.keras.layers.LSTM(hidden_size, return_sequences=True)  # LSTM Layer\n",
    "        self.linear = tf.keras.layers.Dense(vocab_size)                        # 단어사전 어휘수 만큼 출력 뉴런(유닛) 설정\n",
    "        \n",
    "    def call(self, x):\n",
    "        out = self.embedding(x)\n",
    "        out = self.rnn_1(out)\n",
    "        out = self.rnn_2(out)\n",
    "        out = self.linear(out)\n",
    "        \n",
    "        return out\n",
    "\n",
    "embedding_size = 500                                                         # 워드 벡터의 차원수를 말하며 단어가 추상적으로 표현되는 크기입니다.\n",
    "hidden_size = 2048                                                           # 모델에 얼마나 많은 일꾼을 둘 것인가? 정도로 이해하면 좋다.\n",
    "model = TextGenerator(tokenizer.num_words + 1, embedding_size , hidden_size) # 모델 객체 생성\n",
    "                                                                             # tokenizer.num_words에 +1인 이유는 문장에 없는 0:pad가 사용되었기 때문이다."
   ]
  },
  {
   "cell_type": "code",
   "execution_count": 12,
   "id": "f54bda19",
   "metadata": {},
   "outputs": [
    {
     "data": {
      "text/plain": [
       "<tf.Tensor: shape=(256, 14, 12001), dtype=float32, numpy=\n",
       "array([[[-4.75307810e-04, -2.53021193e-04, -7.89037513e-05, ...,\n",
       "         -1.79246141e-04, -3.51375144e-04,  7.41324111e-05],\n",
       "        [-7.21851538e-04, -1.74025467e-04, -2.70262244e-04, ...,\n",
       "         -1.24434693e-04, -7.71789928e-05, -5.07268996e-05],\n",
       "        [-8.61279783e-04,  9.74448703e-05, -3.46309505e-04, ...,\n",
       "          4.59973264e-04,  2.13606720e-04, -2.62873102e-04],\n",
       "        ...,\n",
       "        [ 1.46493874e-03,  4.41541633e-04, -5.10274782e-04, ...,\n",
       "         -2.98952148e-03, -6.37555713e-05, -3.07318813e-04],\n",
       "        [ 1.53844606e-03,  3.68088833e-04, -3.28447437e-04, ...,\n",
       "         -3.41916713e-03, -1.18680531e-04, -5.73697034e-04],\n",
       "        [ 1.56642718e-03,  2.74112332e-04, -1.15630755e-04, ...,\n",
       "         -3.74463317e-03, -1.76115747e-04, -8.50343902e-04]],\n",
       "\n",
       "       [[-4.75307810e-04, -2.53021193e-04, -7.89037513e-05, ...,\n",
       "         -1.79246141e-04, -3.51375144e-04,  7.41324111e-05],\n",
       "        [-9.98823554e-04, -8.73596509e-05,  1.76064350e-05, ...,\n",
       "         -4.05643834e-04, -7.01384794e-04,  2.72633770e-04],\n",
       "        [-7.02146150e-04,  4.10990615e-04,  1.76739675e-04, ...,\n",
       "         -7.85624667e-04, -1.34209741e-03,  5.07301069e-04],\n",
       "        ...,\n",
       "        [ 8.38507840e-04, -1.14804937e-03, -8.61757202e-04, ...,\n",
       "         -2.32506357e-03, -9.87997744e-04, -4.41738899e-04],\n",
       "        [ 9.27005603e-04, -9.89712775e-04, -1.07425207e-03, ...,\n",
       "         -2.84056645e-03, -9.53825831e-04, -6.85962674e-04],\n",
       "        [ 9.96954856e-04, -8.03032599e-04, -1.17611384e-03, ...,\n",
       "         -3.28329299e-03, -9.15769953e-04, -9.47728462e-04]],\n",
       "\n",
       "       [[-4.75307810e-04, -2.53021193e-04, -7.89037513e-05, ...,\n",
       "         -1.79246141e-04, -3.51375144e-04,  7.41324111e-05],\n",
       "        [-7.83757831e-04, -4.90281847e-04, -4.57234652e-04, ...,\n",
       "         -6.09853480e-04, -5.71008306e-04,  3.64759617e-04],\n",
       "        [-6.15330006e-04, -3.36942961e-04, -8.79931787e-04, ...,\n",
       "         -7.45485362e-04, -8.42942973e-04,  7.44706311e-04],\n",
       "        ...,\n",
       "        [ 8.40456749e-04, -3.78475990e-04, -3.18026636e-04, ...,\n",
       "         -4.14022570e-03, -5.22434537e-04, -1.02105225e-03],\n",
       "        [ 8.62190616e-04, -4.12477530e-04, -2.88990435e-07, ...,\n",
       "         -4.23841318e-03, -5.03953255e-04, -1.33733533e-03],\n",
       "        [ 8.69839452e-04, -4.69908322e-04,  3.10594187e-04, ...,\n",
       "         -4.30436851e-03, -4.95654007e-04, -1.62263832e-03]],\n",
       "\n",
       "       ...,\n",
       "\n",
       "       [[-4.75307810e-04, -2.53021193e-04, -7.89037513e-05, ...,\n",
       "         -1.79246141e-04, -3.51375144e-04,  7.41324111e-05],\n",
       "        [-7.40861113e-04, -3.79738689e-04, -1.29648679e-05, ...,\n",
       "         -4.35046357e-04, -6.63313898e-04,  8.04305193e-04],\n",
       "        [-8.07224773e-04, -3.48079309e-04, -3.07177652e-05, ...,\n",
       "         -4.87344485e-04, -4.60111449e-04,  9.55543132e-04],\n",
       "        ...,\n",
       "        [ 1.03953900e-03,  1.53777248e-03, -8.60474305e-04, ...,\n",
       "          8.20633431e-05, -9.04137487e-05,  1.80207961e-03],\n",
       "        [ 1.30577618e-03,  1.02519977e-03, -7.88992271e-04, ...,\n",
       "         -1.72011874e-04, -4.82219650e-04,  1.99087965e-03],\n",
       "        [ 1.49451732e-03,  6.45158871e-04, -6.41125429e-04, ...,\n",
       "         -8.22992006e-04, -6.45339489e-04,  1.99075183e-03]],\n",
       "\n",
       "       [[-4.75307810e-04, -2.53021193e-04, -7.89037513e-05, ...,\n",
       "         -1.79246141e-04, -3.51375144e-04,  7.41324111e-05],\n",
       "        [-8.86498310e-04, -1.39689524e-04, -8.21005888e-05, ...,\n",
       "         -2.89056508e-04, -5.36112871e-04,  5.73005746e-05],\n",
       "        [-7.10389228e-04,  1.30178421e-04,  2.89515650e-04, ...,\n",
       "         -2.53914448e-04, -7.70859304e-04,  1.30821514e-04],\n",
       "        ...,\n",
       "        [ 1.97771844e-03,  9.15680197e-04,  2.69892113e-03, ...,\n",
       "         -2.24613608e-03, -2.71720020e-03,  7.38991657e-04],\n",
       "        [ 1.75595528e-03,  7.17358198e-04,  2.33408925e-03, ...,\n",
       "         -2.92686326e-03, -2.49680388e-03,  5.39569068e-04],\n",
       "        [ 1.54148985e-03,  5.49630146e-04,  2.00640550e-03, ...,\n",
       "         -3.48994834e-03, -2.25223112e-03,  2.76150182e-04]],\n",
       "\n",
       "       [[-4.75307810e-04, -2.53021193e-04, -7.89037513e-05, ...,\n",
       "         -1.79246141e-04, -3.51375144e-04,  7.41324111e-05],\n",
       "        [-5.59630687e-04, -3.23004497e-04,  7.30615720e-05, ...,\n",
       "         -6.03223511e-04, -5.70477510e-04,  2.94764031e-04],\n",
       "        [-1.34008471e-04, -2.16518310e-05,  1.70292478e-04, ...,\n",
       "         -9.29590780e-04, -6.94109302e-04,  1.60964133e-04],\n",
       "        ...,\n",
       "        [-1.25763894e-04,  1.32098125e-04, -3.87102540e-04, ...,\n",
       "         -2.68103322e-03, -9.15908313e-04,  1.05159939e-03],\n",
       "        [-6.86490894e-05,  2.26914795e-04, -4.61611839e-04, ...,\n",
       "         -3.16812564e-03, -8.45793285e-04,  7.92561506e-04],\n",
       "        [ 1.06708364e-06,  2.94498226e-04, -4.59242525e-04, ...,\n",
       "         -3.55209829e-03, -7.80972943e-04,  4.69660910e-04]]],\n",
       "      dtype=float32)>"
      ]
     },
     "execution_count": 12,
     "metadata": {},
     "output_type": "execute_result"
    }
   ],
   "source": [
    "# 데이터셋에서 데이터 한 배치만 불러오는 방법입니다.\n",
    "for src_sample, tgt_sample in train_dataset.take(1): break      # 1개의 배치 불러오기. 즉 총 문장수 중에서 256개 문장 데이터를 가져온 것\n",
    "                                                                # src, tag은 문장데이터를 가지고 있음, not 단어\n",
    "\n",
    "# 한 배치만 불러온 데이터를 모델에 학습해봄\n",
    "model(src_sample)          # 256(첫번째)은 배치사이즈. 즉, 256개 문장 데이터에 대한 학습 \n",
    "                           # 14(중간값)는 LSTM layer에서 return_sequence=True라고 지정했기 때문\n",
    "                           # 7001는 Desse Layer의 출력 차원(컬럼)수. 7001개 단어 중 어느 단어의 확률이 가장 높은지 나타냄"
   ]
  },
  {
   "cell_type": "code",
   "execution_count": 13,
   "id": "d5477468",
   "metadata": {},
   "outputs": [
    {
     "name": "stdout",
     "output_type": "stream",
     "text": [
      "Model: \"text_generator\"\n",
      "_________________________________________________________________\n",
      "Layer (type)                 Output Shape              Param #   \n",
      "=================================================================\n",
      "embedding (Embedding)        multiple                  6000500   \n",
      "_________________________________________________________________\n",
      "lstm (LSTM)                  multiple                  20881408  \n",
      "_________________________________________________________________\n",
      "lstm_1 (LSTM)                multiple                  33562624  \n",
      "_________________________________________________________________\n",
      "dense (Dense)                multiple                  24590049  \n",
      "=================================================================\n",
      "Total params: 85,034,581\n",
      "Trainable params: 85,034,581\n",
      "Non-trainable params: 0\n",
      "_________________________________________________________________\n"
     ]
    }
   ],
   "source": [
    "# 확인용\n",
    "\n",
    "# 모델의 구조를 확인합니다.\n",
    "model.summary()"
   ]
  },
  {
   "cell_type": "markdown",
   "id": "b24e405b",
   "metadata": {},
   "source": [
    "## 모델 학습"
   ]
  },
  {
   "cell_type": "code",
   "execution_count": 14,
   "id": "48828e3d",
   "metadata": {},
   "outputs": [
    {
     "name": "stdout",
     "output_type": "stream",
     "text": [
      "Epoch 1/7\n",
      "496/496 [==============================] - 251s 501ms/step - loss: 3.2797 - val_loss: 2.9291\n",
      "Epoch 2/7\n",
      "496/496 [==============================] - 253s 510ms/step - loss: 2.7543 - val_loss: 2.6753\n",
      "Epoch 3/7\n",
      "496/496 [==============================] - 252s 509ms/step - loss: 2.4282 - val_loss: 2.4946\n",
      "Epoch 4/7\n",
      "496/496 [==============================] - 253s 511ms/step - loss: 2.1123 - val_loss: 2.3606\n",
      "Epoch 5/7\n",
      "496/496 [==============================] - 253s 511ms/step - loss: 1.8161 - val_loss: 2.2661\n",
      "Epoch 6/7\n",
      "496/496 [==============================] - 252s 509ms/step - loss: 1.5567 - val_loss: 2.2094\n",
      "Epoch 7/7\n",
      "496/496 [==============================] - 254s 511ms/step - loss: 1.3489 - val_loss: 2.1812\n"
     ]
    }
   ],
   "source": [
    "optimizer = tf.keras.optimizers.Adam()                # 손실함수의 최소값을 찾는 최적 알고리즘 중 하나인 Adam 옵티마이저\n",
    "\n",
    "\n",
    "loss = tf.keras.losses.SparseCategoricalCrossentropy( # 훈련 데이터의 라벨이 정수의 형태로 제공될 때 사용하는 손실함수이다.\n",
    "    from_logits=True,                                 # 기본값은 False이다. 모델에 의해 생성된 출력 값이 정규화되지 않았음을 손실 함수에 알려준다. 즉 softmax함수가 적용되지 않았다는걸 의미한다.\n",
    "                                                      # 클래스 분류 문제에서 softmax 함수를 거치면 from_logits = False(default값), 그렇지 않으면 from_logits = True.\n",
    "    reduction='none'                                  # 기본값은 SUM이다. 각자 나오는 값의 반환 원할 때 None을 사용한다.\n",
    ")\n",
    "\n",
    "\n",
    "# 모델 configuration\n",
    "model.compile(loss=loss, optimizer=optimizer)         # 손실함수와 훈련과정을 설정했다.\n",
    "\n",
    "\n",
    "# 모델 학습\n",
    "# 학습된 결과를 반환\n",
    "history = model.fit(enc_train, \n",
    "          dec_train, \n",
    "          epochs=7,\n",
    "          batch_size=256,\n",
    "          validation_data=(enc_val, dec_val),         # Data on which to evaluate the loss and any model metrics at the end of each epoch. The model will not be trained on this data\n",
    "          verbose=1)"
   ]
  },
  {
   "cell_type": "code",
   "execution_count": 34,
   "id": "24c98369",
   "metadata": {},
   "outputs": [
    {
     "data": {
      "image/png": "[encoded data removed]",
      "text/plain": [
       "<Figure size 1080x720 with 1 Axes>"
      ]
     },
     "metadata": {
      "needs_background": "light"
     },
     "output_type": "display_data"
    }
   ],
   "source": [
    "# Train 데이터셋의 학습 결과\n",
    "loss_train = history.history['loss']\n",
    "epoch_train = np.arange(len(loss_train)) + 1\n",
    "\n",
    "loss_test = history.history['val_loss']\n",
    "epoch_test = np.arange(len(loss_test)) + 1\n",
    "\n",
    "plt.figure(figsize=(15, 10))\n",
    "plt.plot(epoch_train, loss_train, c='b', marker='.', label=\"Train Set\")\n",
    "plt.plot(epoch_test, loss_test, c='r', marker='.', label=\"Validation_Train Set\")\n",
    "\n",
    "plt.legend(loc='upper right')\n",
    "plt.grid()\n",
    "plt.xlabel('Epoch')\n",
    "plt.ylabel('Loss')\n",
    "plt.show()"
   ]
  },
  {
   "cell_type": "markdown",
   "id": "b49502e7",
   "metadata": {},
   "source": [
    "> Epoch 7에서 validation loss가 2.2 아래로 내려갔다 "
   ]
  },
  {
   "cell_type": "code",
   "execution_count": 19,
   "id": "b2004a80",
   "metadata": {},
   "outputs": [
    {
     "data": {
      "text/plain": [
       "[2.929088592529297,\n",
       " 2.675299882888794,\n",
       " 2.4946377277374268,\n",
       " 2.360614538192749,\n",
       " 2.266111373901367,\n",
       " 2.2094337940216064,\n",
       " 2.1812336444854736]"
      ]
     },
     "execution_count": 19,
     "metadata": {},
     "output_type": "execute_result"
    }
   ],
   "source": [
    "history.history['val_loss']"
   ]
  },
  {
   "cell_type": "code",
   "execution_count": 22,
   "id": "fa94068d",
   "metadata": {},
   "outputs": [
    {
     "name": "stdout",
     "output_type": "stream",
     "text": [
      "Model: \"text_generator\"\n",
      "_________________________________________________________________\n",
      "Layer (type)                 Output Shape              Param #   \n",
      "=================================================================\n",
      "embedding (Embedding)        multiple                  6000500   \n",
      "_________________________________________________________________\n",
      "lstm (LSTM)                  multiple                  20881408  \n",
      "_________________________________________________________________\n",
      "lstm_1 (LSTM)                multiple                  33562624  \n",
      "_________________________________________________________________\n",
      "dense (Dense)                multiple                  24590049  \n",
      "=================================================================\n",
      "Total params: 85,034,581\n",
      "Trainable params: 85,034,581\n",
      "Non-trainable params: 0\n",
      "_________________________________________________________________\n"
     ]
    }
   ],
   "source": [
    "# 모델의 구조를 확인합니다.\n",
    "model.summary()"
   ]
  },
  {
   "cell_type": "markdown",
   "id": "8ad0ed02",
   "metadata": {},
   "source": [
    "# STEP 6. 모델 평가"
   ]
  },
  {
   "cell_type": "code",
   "execution_count": 21,
   "id": "a099b05a",
   "metadata": {},
   "outputs": [],
   "source": [
    "def generate_text(model, tokenizer, init_sentence=\"<start>\", max_len=20):\n",
    "    # 테스트를 위해서 입력받은 init_sentence도 일단 텐서로 변환합니다.\n",
    "    test_input = tokenizer.texts_to_sequences([init_sentence])\n",
    "    test_tensor = tf.convert_to_tensor(test_input, dtype=tf.int64)\n",
    "    end_token = tokenizer.word_index[\"<end>\"]\n",
    "\n",
    "    # 텍스트를 실제로 생성할때는 루프를 돌면서 단어 하나씩 생성해야 합니다. \n",
    "    while True:\n",
    "        predict = model(test_tensor)                                                # 입력받은 문장의 텐서를 입력합니다. \n",
    "        predict_word = tf.argmax(tf.nn.softmax(predict, axis=-1), axis=-1)[:, -1]   # 우리 모델이 예측한 마지막 단어가 바로 새롭게 생성한 단어가 됩니다. \n",
    "\n",
    "        # 우리 모델이 새롭게 예측한 단어를 입력 문장의 뒤에 붙여 줍니다. \n",
    "        test_tensor = tf.concat([test_tensor, tf.expand_dims(predict_word, axis=0)], axis=-1)\n",
    "\n",
    "        # 우리 모델이 <END>를 예측하지 않았거나, max_len에 도달하지 않았다면  while 루프를 또 돌면서 다음 단어를 예측해야 합니다.\n",
    "        if predict_word.numpy()[0] == end_token: break\n",
    "        if test_tensor.shape[1] >= max_len: break\n",
    "\n",
    "    generated = \"\"\n",
    "    # 생성된 tensor 안에 있는 word index를 tokenizer.index_word 사전을 통해 실제 단어로 하나씩 변환합니다. \n",
    "    for word_index in test_tensor[0].numpy():\n",
    "        generated += tokenizer.index_word[word_index] + \" \"\n",
    "\n",
    "    return generated   # 이것이 최종적으로 모델이 생성한 자연어 문장입니다."
   ]
  },
  {
   "cell_type": "code",
   "execution_count": 27,
   "id": "56e5aebd",
   "metadata": {},
   "outputs": [
    {
     "data": {
      "text/plain": [
       "'<start> you know the stranger is you <end> '"
      ]
     },
     "execution_count": 27,
     "metadata": {},
     "output_type": "execute_result"
    }
   ],
   "source": [
    "generate_text(model, tokenizer, init_sentence=\"<start> you\", max_len=20)  # 초기값 <start> you를 주어 RNN으로 예측해보기"
   ]
  },
  {
   "cell_type": "markdown",
   "id": "b9f34e16",
   "metadata": {},
   "source": [
    "# STEP 7. 회고"
   ]
  },
  {
   "cell_type": "markdown",
   "id": "1683cc69",
   "metadata": {},
   "source": [
    "1. 이번 프로젝트에서 어려웠던 점 \n",
    "    - RNN 개념을 이해하는 것이 어려웠습니다\n",
    "    - 훈련용 데이터와 테스트용 데이터를 분리해서 tf.data.Dataset에 적용하는 방법을 찾는데 어려웠습니다\n",
    "    - model.fit의 리턴 값에 학습했던 loss 데이터들을 확인할 수 있는 방법을 찾는데 힘들었습니다\n",
    "2. 프로젝트를 진행하면서 알아낸 점 혹은 아직 모호한 점\n",
    "    - dataset 객체 생성하는데 Buffer_size와 Batch가 어떤 식으로 작동되는지 궁금했는데 한 블로그에서 설명해준 내용을 토대로 이해할 수 있었습니다\n",
    "    - 그런데 이번 프로젝트에서는 tf.data.Dataset으로 생성한 dataset을 활용하지 않았는데 원래 안해도 되는건지 아니면 해야하는데 제가 놓치고 있는건지 모르겠습니다\n",
    "3. 루브릭 평가 지표를 맞추기 위해 시도한 것들\n",
    "    - Epoch 5-10 변경하면서 확인\n",
    "    - Embedding size 100-1000까지 변경\n",
    "    - Hidden size = 2048까지 변경\n",
    "    - 정규표현식에서 문장부호 점(.)이 연속으로 나타난 문장을 하나의 점으로 변경\n",
    "    - 15개 토큰 초과한 문장 제외\n",
    "    - validation loss 줄이기 위한 하이퍼파라미터 변경\n",
    "    \n",
    "4. 만약에 루브릭 평가 관련 지표를 달성 하지 못했을 때, 이유에 관한 추정  \n",
    "    - 달성함\n",
    "\n",
    "    \n",
    "5. 자기 다짐\n",
    "     - RNN에 대해서 겉햝기 정도만 알고 있는것 같다. 세부적으로 LSTM과 GRU를 더 정확하게 알아야하고, 다양한 용어에 대해서 이해할 필요가 있다"
   ]
  }
 ],
 "metadata": {
  "kernelspec": {
   "display_name": "Python 3 (ipykernel)",
   "language": "python",
   "name": "python3"
  },
  "language_info": {
   "codemirror_mode": {
    "name": "ipython",
    "version": 3
   },
   "file_extension": ".py",
   "mimetype": "text/x-python",
   "name": "python",
   "nbconvert_exporter": "python",
   "pygments_lexer": "ipython3",
   "version": "3.9.7"
  }
 },
 "nbformat": 4,
 "nbformat_minor": 5
}
